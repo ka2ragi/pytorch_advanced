{
  "nbformat": 4,
  "nbformat_minor": 0,
  "metadata": {
    "colab": {
      "provenance": [],
      "collapsed_sections": [
        "szkqK-_uNuvK"
      ],
      "toc_visible": true,
      "gpuType": "T4"
    },
    "kernelspec": {
      "name": "python3",
      "display_name": "Python 3"
    },
    "language_info": {
      "name": "python"
    },
    "accelerator": "GPU"
  },
  "cells": [
    {
      "cell_type": "markdown",
      "source": [
        "7章と同じくHugging Faceが提供しているライブラリを用います。詳しくはそちらをご覧ください。"
      ],
      "metadata": {
        "id": "P40-kjD9lvBh"
      }
    },
    {
      "cell_type": "markdown",
      "source": [
        "## 設定\n",
        "ここでは、7章と同じディレクトリに新たに必要となるデータを加えています。(データを再び作るのが煩雑であったためです。)"
      ],
      "metadata": {
        "id": "oYsuK07TEU7i"
      }
    },
    {
      "cell_type": "code",
      "execution_count": null,
      "metadata": {
        "id": "2GLfrW7-D-h_"
      },
      "outputs": [],
      "source": [
        "# ディレクトリの設定\n",
        "from google.colab import drive\n",
        "drive.mount('/content/drive/')\n",
        "\n",
        "root_path = '/content/drive/My Drive/your/dir/path/7_nlp_sentiment_transformer'\n",
        "%cd $root_path"
      ]
    },
    {
      "cell_type": "code",
      "source": [
        "# ライブラリのインストール\n",
        "#gensimライブラリは使いません\n",
        "!pip install datasets\n",
        "# !pip install transformers  # 必要に応じてインストールしてください。Colabだとプレインストールされています"
      ],
      "metadata": {
        "id": "wrdJH8FWE3p3"
      },
      "execution_count": null,
      "outputs": []
    },
    {
      "cell_type": "markdown",
      "source": [
        "## 前処理等\n",
        "以下の順番で実装していきます。7章のほうで詳細を述べているので、必要に応じてそちらをご覧ください。\n",
        "\n",
        "-前処理\n",
        "\n",
        "-トークン化\n",
        "\n",
        "-DataLoaderの作成\n",
        "\n"
      ],
      "metadata": {
        "id": "o8IfQnnvHW4e"
      }
    },
    {
      "cell_type": "code",
      "source": [
        "# 前処理、トークン化、DataLoaderの作成\n",
        "#7章から一部変更しています\n",
        "\n",
        "from datasets import load_dataset, DatasetDict\n",
        "from transformers import BertTokenizer, DataCollatorWithPadding\n",
        "from torch.utils.data import DataLoader\n",
        "import re\n",
        "\n",
        "# 前処理とトークナイズを組み合わせた関数\n",
        "def preprocess_and_tokenize(examples):\n",
        "\n",
        "    # テキストの前処理\n",
        "    examples['text'] = [re.sub('', '', t) for t in examples['text']]\n",
        "    examples['text'] = [re.sub(r'[^.,a-zA-Z0-9\\s]', ' ', t) for t in examples['text']]\n",
        "    examples['text'] = [t.replace('.', ' . ').replace(',', ' , ') for t in examples['text']]\n",
        "\n",
        "    # トークナイズとラベルの追加\n",
        "    tokenized_inputs = tokenizer(examples['text'], padding='max_length', truncation=True, max_length=256)\n",
        "\n",
        "    # 'labels' キーを追加\n",
        "    tokenized_inputs['labels'] = examples['label']\n",
        "\n",
        "    # 'token_type_ids' が不要な場合は削除\n",
        "    if 'token_type_ids' in tokenized_inputs:\n",
        "        del tokenized_inputs['token_type_ids']\n",
        "    return tokenized_inputs\n",
        "\n",
        "# 事前学習済みモデルに対応する BertTokenizer のロード\n",
        "tokenizer = BertTokenizer.from_pretrained('bert-base-uncased')\n",
        "\n",
        "# データセットの読み込み\n",
        "tr_path = root_path + '/data/IMDb_train.tsv'\n",
        "ts_path = root_path + '/data/IMDb_test.tsv'\n",
        "\n",
        "# データセットの読み込みと前処理\n",
        "tr_val_ds = load_dataset('csv', data_files=tr_path, delimiter='\\t', split='train', column_names=['text', 'label'])\n",
        "ts_ds = load_dataset('csv', data_files=ts_path, delimiter='\\t', split='train', column_names=['text', 'label'])\n",
        "\n",
        "# 前処理とトークナイズの適用\n",
        "tr_val_ds = tr_val_ds.map(preprocess_and_tokenize, batched=True)\n",
        "ts_ds = ts_ds.map(preprocess_and_tokenize, batched=True)\n",
        "\n",
        "# 不要な列の削除\n",
        "tr_val_ds = tr_val_ds.remove_columns(['text', 'label'])\n",
        "ts_ds = ts_ds.remove_columns(['text', 'label'])\n",
        "\n",
        "# DatasetDictを作成して分割\n",
        "dataset_dict = DatasetDict({\n",
        "    'train': tr_val_ds\n",
        "})\n",
        "train_test_split = dataset_dict['train'].train_test_split(test_size=0.2)\n",
        "\n",
        "# 分割されたデータセットを取得\n",
        "tr_ds = train_test_split['train']\n",
        "val_ds = train_test_split['test']\n",
        "\n",
        "# DataCollatorWithPadding のインスタンスを作成\n",
        "data_collator = DataCollatorWithPadding(tokenizer=tokenizer)\n",
        "\n",
        "tr_dl = DataLoader(tr_ds, shuffle=True, batch_size=32, collate_fn=data_collator)\n",
        "val_dl = DataLoader(val_ds, batch_size=32, collate_fn=data_collator)\n",
        "ts_dl = DataLoader(ts_ds, batch_size=32, collate_fn=data_collator)\n"
      ],
      "metadata": {
        "id": "2Q07FetHHV9D"
      },
      "execution_count": null,
      "outputs": []
    },
    {
      "cell_type": "code",
      "source": [
        "# 動作確認\n",
        "for batch in ts_dl:\n",
        "    input_ids = batch['input_ids']\n",
        "    attention_mask = batch['attention_mask']\n",
        "    labels = batch['labels']\n",
        "    print(\"Input IDs:\", input_ids)\n",
        "    print(\"Attention Mask:\", attention_mask)\n",
        "    print(\"Labels:\", labels)\n",
        "    break"
      ],
      "metadata": {
        "id": "kzh5lTGBLzMB"
      },
      "execution_count": null,
      "outputs": []
    },
    {
      "cell_type": "markdown",
      "source": [
        "## BERTの実装\n",
        "ここは書籍とほとんど変わりませんが、細かな変更をしています。そのうち重要なものを挙げます。\n",
        "\n",
        "-attrdictパッケージの代わりにboxを用いています。Colabにプレインストールされています\n",
        "\n",
        "-attention_show_flgの仕様を変更しています。フラグがNoneのときにうまく動作しなかったのを改善しています"
      ],
      "metadata": {
        "id": "_I_RGAkWiTza"
      }
    },
    {
      "cell_type": "code",
      "source": [
        "import math\n",
        "import numpy as np\n",
        "import torch\n",
        "import torch.nn as nn\n",
        "import torch.nn.functional as F\n"
      ],
      "metadata": {
        "id": "1KeWkA3BmDXe"
      },
      "execution_count": 6,
      "outputs": []
    },
    {
      "cell_type": "code",
      "source": [
        "import json\n",
        "config_file = root_path + '/weights/bert_config.json'\n",
        "json_file = open(config_file, 'r')\n",
        "config    = json.load(json_file)\n",
        "\n",
        "config"
      ],
      "metadata": {
        "id": "dCOXMe87iXqC"
      },
      "execution_count": null,
      "outputs": []
    },
    {
      "cell_type": "code",
      "source": [
        "from box import Box\n",
        "\n",
        "config = Box(config)"
      ],
      "metadata": {
        "id": "RNaywJDBjktu"
      },
      "execution_count": 8,
      "outputs": []
    },
    {
      "cell_type": "code",
      "source": [
        "class BertLayerNorm(nn.Module):\n",
        "  def __init__(self, hidden_size, eps=1e-12):\n",
        "    super().__init__()\n",
        "    self.gamma = nn.Parameter(torch.ones(hidden_size))\n",
        "    self.beta  = nn.Parameter(torch.zeros(hidden_size))\n",
        "    self.variance_epsilon = eps\n",
        "\n",
        "  def forward(self, x):\n",
        "    u = x.mean(-1, keepdim=True)\n",
        "    s = (x - u).pow(2).mean(-1, keepdim=True)\n",
        "    x = (x - u) / torch.sqrt(s + self.variance_epsilon)\n",
        "    return self.gamma * x + self.beta\n"
      ],
      "metadata": {
        "id": "iPv3Ilw7o5Ew"
      },
      "execution_count": 9,
      "outputs": []
    },
    {
      "cell_type": "code",
      "source": [
        "class BertEmbeddings(nn.Module):\n",
        "  def __init__(self, config):\n",
        "    super().__init__()\n",
        "    self.words_embeddings      = nn.Embedding(config.vocab_size, config.hidden_size, padding_idx=0)\n",
        "    self.position_embeddings   = nn.Embedding(config.max_position_embeddings, config.hidden_size)\n",
        "    self.token_type_embeddings = nn.Embedding(config.type_vocab_size, config.hidden_size)\n",
        "    self.LayerNorm             = BertLayerNorm(config.hidden_size, eps=1e-12)\n",
        "    self.dropout               = nn.Dropout(config.hidden_dropout_prob)\n",
        "\n",
        "  def forward(self, input_ids, token_type_ids=None):\n",
        "    words_embeddings = self.words_embeddings(input_ids)\n",
        "    if token_type_ids is None:\n",
        "      token_type_ids = torch.zeros_like(input_ids)\n",
        "    token_type_embeddings = self.token_type_embeddings(token_type_ids)\n",
        "\n",
        "    seq_length   = input_ids.size(1)\n",
        "    position_ids = torch.arange(seq_length, dtype=torch.long, device=input_ids.device)\n",
        "    position_ids = position_ids.unsqueeze(0).expand_as(input_ids)\n",
        "    position_embeddings = self.position_embeddings(position_ids)\n",
        "\n",
        "    embeddings = words_embeddings + position_embeddings + token_type_embeddings\n",
        "    embeddings = self.LayerNorm(embeddings)\n",
        "    embeddings = self.dropout(embeddings)\n",
        "\n",
        "    return embeddings\n"
      ],
      "metadata": {
        "id": "-RbNv2XFtQZ0"
      },
      "execution_count": 10,
      "outputs": []
    },
    {
      "cell_type": "code",
      "source": [
        "class BertLayer(nn.Module):\n",
        "  def __init__(self, config):\n",
        "    super().__init__()\n",
        "    self.attention    = BertAttention(config)\n",
        "    self.intermediate = BertIntermediate(config)\n",
        "    self.output       = BertOutput(config)\n",
        "\n",
        "  def forward(self, hidden_states, attention_mask=None, attention_show_flg=False):\n",
        "    if attention_show_flg == True:\n",
        "      attention_output, attention_probs = self.attention(hidden_states, attention_mask, attention_show_flg)\n",
        "      intermediate_output = self.intermediate(attention_output)\n",
        "      layer_output = self.output(intermediate_output, attention_output)\n",
        "\n",
        "      return layer_output, attention_probs\n",
        "\n",
        "    else:   # Noneのときにエラーが出たので変更しています\n",
        "      attention_output = self.attention(hidden_states, attention_mask, attention_show_flg)\n",
        "      intermediate_output = self.intermediate(attention_output)\n",
        "      layer_output = self.output(intermediate_output, hidden_states)\n",
        "\n",
        "      return layer_output\n",
        "\n",
        "class BertAttention(nn.Module):\n",
        "  def __init__(self, config):\n",
        "    super().__init__()\n",
        "    self.selfattn = BertSelfAttention(config)\n",
        "    self.output   = BertSelfOutput(config)\n",
        "\n",
        "  def forward(self, input_tensor, attention_mask, attention_show_flg=False):\n",
        "    if attention_show_flg == True:\n",
        "      self_output, attention_probs = self.selfattn(input_tensor, attention_mask, attention_show_flg)\n",
        "      attention_output = self.output(self_output, input_tensor)\n",
        "\n",
        "      return attention_output, attention_probs\n",
        "\n",
        "    else:\n",
        "      self_output = self.selfattn(input_tensor, attention_mask, attention_show_flg)\n",
        "      attention_output = self.output(self_output, input_tensor)\n",
        "\n",
        "      return attention_output\n",
        "\n",
        "class BertSelfAttention(nn.Module):\n",
        "  def __init__(self, config):\n",
        "    super().__init__()\n",
        "    self.num_attention_heads = config.num_attention_heads\n",
        "    self.attention_head_size = int(config.hidden_size / config.num_attention_heads)\n",
        "    self.all_head_size       = self.num_attention_heads * self.attention_head_size\n",
        "\n",
        "    # 全結合層\n",
        "    self.query = nn.Linear(config.hidden_size, self.all_head_size)\n",
        "    self.key   = nn.Linear(config.hidden_size, self.all_head_size)\n",
        "    self.value = nn.Linear(config.hidden_size, self.all_head_size)\n",
        "\n",
        "    self.dropout = nn.Dropout(config.attention_probs_dropout_prob)\n",
        "\n",
        "  def transpose_for_scores(self, x):\n",
        "    # new_x_shape: (batch_size, seq_len, num_attention_heads, attention_head_size)\n",
        "    new_x_shape = x.size()[:-1] + (self.num_attention_heads, self.attention_head_size)\n",
        "    x = x.view(*new_x_shape)\n",
        "\n",
        "    return x.permute(0, 2, 1, 3)\n",
        "\n",
        "  def forward(self, hidden_states, attention_mask, attention_show_flg=False):\n",
        "    mixed_query_layer = self.query(hidden_states)\n",
        "    mixed_key_layer   = self.key(hidden_states)\n",
        "    mixed_value_layer = self.value(hidden_states)\n",
        "\n",
        "    query_layer = self.transpose_for_scores(mixed_query_layer)\n",
        "    key_layer   = self.transpose_for_scores(mixed_key_layer)\n",
        "    value_layer = self.transpose_for_scores(mixed_value_layer)\n",
        "\n",
        "    attention_scores = torch.matmul(query_layer, key_layer.transpose(-1, -2))\n",
        "    attention_socres = attention_scores / math.sqrt(self.attention_head_size)\n",
        "    attention_scores = attention_socres + attention_mask\n",
        "\n",
        "    attention_probs = nn.Softmax(dim=-1)(attention_scores)\n",
        "    attention_probs = self.dropout(attention_probs)\n",
        "\n",
        "    context_layer = torch.matmul(attention_probs, value_layer)\n",
        "\n",
        "    # 元に戻す\n",
        "    context_layer = context_layer.permute(0, 2, 1, 3).contiguous()              # メモリ配置の変更\n",
        "    new_context_layer_shape = context_layer.size()[:-2] + (self.all_head_size, )\n",
        "    context_layer = context_layer.view(*new_context_layer_shape)\n",
        "\n",
        "    if attention_show_flg == True:\n",
        "      return context_layer, attention_probs\n",
        "\n",
        "    else:\n",
        "      return context_layer\n",
        "\n",
        "class BertSelfOutput(nn.Module):\n",
        "  def __init__(self, config):\n",
        "    super().__init__()\n",
        "    self.dense     = nn.Linear(config.hidden_size, config.hidden_size)\n",
        "    self.LayerNorm = BertLayerNorm(config.hidden_size, eps=1e-12)\n",
        "    self.dropout   = nn.Dropout(config.attention_probs_dropout_prob)\n",
        "\n",
        "  def forward(self, hidden_states, input_tensor):\n",
        "    hidden_states = self.dense(hidden_states)\n",
        "    hidden_states = self.dropout(hidden_states)\n",
        "    hidden_states = self.LayerNorm(hidden_states + input_tensor)\n",
        "\n",
        "    return hidden_states\n",
        "\n",
        "def gelu(x):\n",
        "  return x * 0.5 * (1.0 + torch.erf(x / math.sqrt(2.0)))\n",
        "\n",
        "class BertIntermediate(nn.Module):\n",
        "  def __init__(self, config):\n",
        "    super().__init__()\n",
        "    self.dense = nn.Linear(config.hidden_size, config.intermediate_size)\n",
        "    self.intermediate_act_fn = gelu\n",
        "\n",
        "  def forward(self, hidden_states):\n",
        "    hidden_states = self.dense(hidden_states)\n",
        "    hidden_states = self.intermediate_act_fn(hidden_states)\n",
        "\n",
        "    return hidden_states\n",
        "\n",
        "class BertOutput(nn.Module):\n",
        "  def __init__(self, config):\n",
        "    super().__init__()\n",
        "    self.dense     = nn.Linear(config.intermediate_size, config.hidden_size)\n",
        "    self.LayerNorm = BertLayerNorm(config.hidden_size, eps=1e-12)\n",
        "    self.dropout   = nn.Dropout(config.hidden_dropout_prob)\n",
        "\n",
        "  def forward(self, hidden_states, input_tensor):\n",
        "    hidden_states = self.dense(hidden_states)\n",
        "    hidden_states = self.dropout(hidden_states)\n",
        "    hidden_states = self.LayerNorm(hidden_states + input_tensor)\n",
        "\n",
        "    return hidden_states\n",
        "\n"
      ],
      "metadata": {
        "id": "woKaArtBfHEo"
      },
      "execution_count": 11,
      "outputs": []
    },
    {
      "cell_type": "code",
      "source": [
        "class BertEncoder(nn.Module):\n",
        "  def __init__(self, config):\n",
        "    super().__init__()\n",
        "    self.layer = nn.ModuleList([BertLayer(config) for _ in range(config.num_hidden_layers)])\n",
        "\n",
        "  def forward(self, hidden_states, attention_mask, output_all_encoded_layers=True, attention_show_flg=False):\n",
        "    all_encoder_layers = []\n",
        "\n",
        "    for layer_module in self.layer:\n",
        "      if attention_show_flg == True:\n",
        "        hidden_states, attention_probs = layer_module(hidden_states, attention_mask, attention_show_flg)\n",
        "      else:\n",
        "        hidden_states = layer_module(hidden_states, attention_mask, attention_show_flg)\n",
        "\n",
        "      if output_all_encoded_layers:\n",
        "        all_encoder_layers.append(hidden_states)\n",
        "\n",
        "    if not output_all_encoded_layers:\n",
        "      all_encoder_layers.append(hidden_states)\n",
        "\n",
        "    if attention_show_flg == True:\n",
        "      return all_encoder_layers, attention_probs\n",
        "\n",
        "    else:\n",
        "      return all_encoder_layers\n",
        "\n"
      ],
      "metadata": {
        "id": "WZQ61W8i2Scr"
      },
      "execution_count": 12,
      "outputs": []
    },
    {
      "cell_type": "code",
      "source": [
        "class BertPooler(nn.Module):\n",
        "  def __init__(self, config):\n",
        "    super().__init__()\n",
        "    self.dense = nn.Linear(config.hidden_size, config.hidden_size)\n",
        "    self.activation = nn.Tanh()\n",
        "\n",
        "  def forward(self, hidden_states):\n",
        "    first_token_tensor = hidden_states[:, 0]\n",
        "    pooled_output = self.dense(first_token_tensor)\n",
        "    pooled_output = self.activation(pooled_output)\n",
        "\n",
        "    return pooled_output\n"
      ],
      "metadata": {
        "id": "D8872N82qb1-"
      },
      "execution_count": 13,
      "outputs": []
    },
    {
      "cell_type": "code",
      "source": [
        "# 動作確認\n",
        "# 入力\n",
        "input_ids = torch.LongTensor([[31, 51, 12, 23, 99], [15, 5, 1, 0, 0]])\n",
        "print(\"Tensor size of input ids: \", input_ids.shape)\n",
        "\n",
        "# マスク\n",
        "attention_mask = torch.LongTensor([[1, 1, 1, 1, 1], [1, 1, 1, 0, 0]])\n",
        "print(\"Tensor size of input mask: \", attention_mask.shape)\n",
        "\n",
        "# 文章ID\n",
        "token_type_ids = torch.LongTensor([[0, 0, 1, 1, 1], [0, 1, 1, 1, 1]])\n",
        "print(\"Tensor size of input docs.ID: \", token_type_ids.shape)\n",
        "\n",
        "# モジュール\n",
        "embeddings = BertEmbeddings(config)\n",
        "encoder    = BertEncoder(config)\n",
        "pooler     = BertPooler(config)\n",
        "\n",
        "# マスクの変形 -> [batch_size, 1, 1, seq_length]\n",
        "extended_attention_mask = attention_mask.unsqueeze(1).unsqueeze(2)\n",
        "extended_attention_mask = extended_attention_mask.to(dtype=torch.float32)\n",
        "extended_attention_mask = (1.0 - extended_attention_mask) * -10000.0\n",
        "print(\"Tensor size of extended mask: \", extended_attention_mask.shape)\n",
        "\n",
        "# forward\n",
        "out1 = embeddings(input_ids, token_type_ids)\n",
        "print(\"Tensor size of output of BertEmbeddings: \", out1.shape)\n",
        "\n",
        "out2 = encoder(out1, extended_attention_mask)\n",
        "print(\"Tensor size of final layer output of BertEncoder: \", out2[0].shape)\n",
        "\n",
        "out3 = pooler(out2[-1])\n",
        "print(\"Tensor size of output of BertPooler: \", out3.shape)"
      ],
      "metadata": {
        "id": "mNa9l6obsm7B"
      },
      "execution_count": null,
      "outputs": []
    },
    {
      "cell_type": "code",
      "source": [
        "class BertModel(nn.Module):\n",
        "  def __init__(self, config):\n",
        "    super().__init__()\n",
        "    self.embeddings = BertEmbeddings(config)\n",
        "    self.encoder    = BertEncoder(config)\n",
        "    self.pooler     = BertPooler(config)\n",
        "\n",
        "  def forward(self, input_ids, token_type_ids=None, attention_mask=None, output_all_encoded_layers=True, attention_show_flg=False):\n",
        "    if attention_mask is None:\n",
        "      attention_mask = torch.ones_like(input_ids)\n",
        "\n",
        "    if token_type_ids is None:\n",
        "      token_type_ids = torch.zeros_like(input_ids)\n",
        "\n",
        "    extended_attention_mask = attention_mask.unsqueeze(1).unsqueeze(2)\n",
        "    extended_attention_mask = extended_attention_mask.to(dtype=torch.float32)\n",
        "    extended_attention_mask = (1.0 - extended_attention_mask) * -10000.0\n",
        "\n",
        "    embedding_output = self.embeddings(input_ids, token_type_ids)\n",
        "    if attention_show_flg == True:\n",
        "      encoded_layers, attention_probs = self.encoder(embedding_output,\n",
        "                                                     extended_attention_mask,\n",
        "                                                     output_all_encoded_layers,\n",
        "                                                     attention_show_flg)\n",
        "    else:\n",
        "      encoded_layers = self.encoder(embedding_output,\n",
        "                                    extended_attention_mask,\n",
        "                                    output_all_encoded_layers,\n",
        "                                    attention_show_flg)\n",
        "\n",
        "    pooled_output = self.pooler(encoded_layers[-1])\n",
        "\n",
        "    if not output_all_encoded_layers:\n",
        "      encoded_layers = encoded_layers[-1]\n",
        "\n",
        "    if attention_show_flg == True:\n",
        "      return encoded_layers, pooled_output, attention_probs\n",
        "\n",
        "    else:\n",
        "      return encoded_layers, pooled_output\n",
        "\n",
        "\n"
      ],
      "metadata": {
        "id": "JQHkbLuizK5B"
      },
      "execution_count": 15,
      "outputs": []
    },
    {
      "cell_type": "code",
      "source": [
        "input_ids = torch.LongTensor([[31, 51, 12, 23, 99], [15, 5, 1, 0, 0]])\n",
        "attention_mask = torch.LongTensor([[1, 1, 1, 1, 1], [1, 1, 1, 0, 0]])\n",
        "token_type_ids = torch.LongTensor([[0, 0, 1, 1, 1], [0, 1, 1, 1, 1]])\n",
        "\n",
        "net = BertModel(config)\n",
        "\n",
        "encoded_layers, pooled_output, attention_probs = net(input_ids,\n",
        "                                                     token_type_ids,\n",
        "                                                     attention_mask,\n",
        "                                                     output_all_encoded_layers=False,\n",
        "                                                     attention_show_flg=True)\n",
        "\n",
        "print(\"encoded_layersのテンソルサイズ: \", encoded_layers.shape)\n",
        "print(\"pooled_outputのテンソルサイズ: \", pooled_output.shape)\n",
        "print(\"attention_probsのテンソルサイズ: \", attention_probs.shape)"
      ],
      "metadata": {
        "id": "oLk29Urd2eL_"
      },
      "execution_count": null,
      "outputs": []
    },
    {
      "cell_type": "markdown",
      "source": [
        "## BERTを用いたベクトル表現の比較（bank:銀行とbank:土手）\n",
        "ここもほとんど変更点はありません。一部、細かな修正をしています。"
      ],
      "metadata": {
        "id": "-zhZwZ73U7X7"
      }
    },
    {
      "cell_type": "code",
      "source": [
        "# 学習済みモデルをロード\n",
        "weights_path = root_path + \"/weights/pytorch_model.bin\"\n",
        "loaded_state_dict = torch.load(weights_path)\n",
        "\n",
        "for s in loaded_state_dict:\n",
        "  print(s)"
      ],
      "metadata": {
        "id": "8QCaiH3439xL"
      },
      "execution_count": null,
      "outputs": []
    },
    {
      "cell_type": "code",
      "source": [
        "net = BertModel(config)\n",
        "net.eval()\n",
        "\n",
        "# 現在のネットワークモデルのパラメータ名\n",
        "params_names = []\n",
        "\n",
        "for name, param in net.named_parameters():\n",
        "  print(name)\n",
        "  params_names.append(name)"
      ],
      "metadata": {
        "id": "szBVm2-w50Vi"
      },
      "execution_count": null,
      "outputs": []
    },
    {
      "cell_type": "code",
      "source": [
        "# パラメータ名を変更する\n",
        "new_state_dict = net.state_dict().copy()\n",
        "\n",
        "for index, (key_name, value) in enumerate(loaded_state_dict.items()):\n",
        "  name = params_names[index]\n",
        "  new_state_dict[name] = value\n",
        "  print(str(key_name)+\"→\"+str(name))\n",
        "\n",
        "  if index+1 >= len(params_names):\n",
        "    break\n",
        "\n",
        "net.load_state_dict(new_state_dict)"
      ],
      "metadata": {
        "id": "RHLzuU0C61L9"
      },
      "execution_count": null,
      "outputs": []
    },
    {
      "cell_type": "code",
      "source": [
        "# ボキャブラリの確認\n",
        "from transformers import BertTokenizer\n",
        "\n",
        "tokenizer = BertTokenizer.from_pretrained('bert-base-uncased')\n",
        "\n",
        "vocab_list = list(tokenizer.vocab.keys())\n",
        "print(vocab_list[100])"
      ],
      "metadata": {
        "id": "HtLMxRaB8tMF"
      },
      "execution_count": null,
      "outputs": []
    },
    {
      "cell_type": "code",
      "source": [
        "# 文脈による意味変化\n",
        "text_1 = \"[CLS] I accessed the bank account. [SEP]\"\n",
        "text_2 = \"[CLS] He transferrd the deposit money into the bank account. [SEP]\"\n",
        "text_3 = \"[CLS] We play soccer at the bank of the river. [SEP]\"\n",
        "\n",
        "tokenizer = BertTokenizer.from_pretrained('bert-base-uncased')\n",
        "\n",
        "tokenized_text_1 = tokenizer.tokenize(text_1)\n",
        "tokenized_text_2 = tokenizer.tokenize(text_2)\n",
        "tokenized_text_3 = tokenizer.tokenize(text_3)\n",
        "\n",
        "print(tokenized_text_1)\n",
        "print(tokenized_text_2)\n",
        "print(tokenized_text_3)"
      ],
      "metadata": {
        "id": "FSWmyvQC_llX"
      },
      "execution_count": null,
      "outputs": []
    },
    {
      "cell_type": "code",
      "source": [
        "indexed_text_1 = tokenizer.convert_tokens_to_ids(tokenized_text_1)\n",
        "indexed_text_2 = tokenizer.convert_tokens_to_ids(tokenized_text_2)\n",
        "indexed_text_3 = tokenizer.convert_tokens_to_ids(tokenized_text_3)\n",
        "\n",
        "bank_posi_1 = np.where(np.array(tokenized_text_1) == \"bank\")[0][0]\n",
        "bank_posi_2 = np.where(np.array(tokenized_text_2) == \"bank\")[0][0]\n",
        "bank_posi_3 = np.where(np.array(tokenized_text_3) == \"bank\")[0][0]\n",
        "\n",
        "tokens_tensor_1 = torch.tensor([indexed_text_1])\n",
        "tokens_tensor_2 = torch.tensor([indexed_text_2])\n",
        "tokens_tensor_3 = torch.tensor([indexed_text_3])\n",
        "\n",
        "bank_word_id = tokenizer.convert_tokens_to_ids([\"bank\"])[0]\n",
        "print(tokens_tensor_1)\n",
        "print(tokens_tensor_2)\n",
        "print(tokens_tensor_3)"
      ],
      "metadata": {
        "id": "so1CpklrBNMx"
      },
      "execution_count": null,
      "outputs": []
    },
    {
      "cell_type": "code",
      "source": [
        "# 文章をBERTで処理\n",
        "attention_mask_1 = torch.LongTensor([[1, 1, 1, 1, 1, 1, 1, 1]])\n",
        "token_type_ids_1 = torch.LongTensor([[0, 0, 0, 0, 0, 0, 0, 0]])\n",
        "attention_mask_2 = torch.LongTensor([[1, 1, 1, 1, 1, 1, 1, 1, 1, 1, 1, 1, 1]])\n",
        "token_type_ids_2 = torch.LongTensor([[0, 0, 0, 0, 0, 0, 0, 0, 0, 0, 0, 0, 0]])\n",
        "attention_mask_3 = torch.LongTensor([[1, 1, 1, 1, 1, 1, 1, 1, 1, 1, 1, 1]])\n",
        "token_type_ids_3 = torch.LongTensor([[0, 0, 0, 0, 0, 0, 0, 0, 0, 0, 0, 0]])\n",
        "\n",
        "net = BertModel(config)\n",
        "net.eval()\n",
        "\n",
        "with torch.no_grad():\n",
        "    encoded_layers_1, _ = net(tokens_tensor_1, token_type_ids_1, attention_mask_1, output_all_encoded_layers=True, attention_show_flg=False)\n",
        "    encoded_layers_2, _ = net(tokens_tensor_2, token_type_ids_2, attention_mask_2, output_all_encoded_layers=True, attention_show_flg=False)\n",
        "    encoded_layers_3, _ = net(tokens_tensor_3, token_type_ids_3, attention_mask_3, output_all_encoded_layers=True, attention_show_flg=False)\n"
      ],
      "metadata": {
        "id": "cWB1XbVbCJ66"
      },
      "execution_count": 23,
      "outputs": []
    },
    {
      "cell_type": "code",
      "source": [
        "# bankの初期の単語ベクトル表現\n",
        "# これはEmbeddingsモジュールから取り出し、単語bankのidに応じた単語ベクトルなので3文で共通している\n",
        "bank_vector_0 = net.embeddings.words_embeddings.weight[bank_word_id]\n",
        "\n",
        "# 文章1のBertLayerモジュール1段目から出力されるbankの特徴量ベクトル\n",
        "bank_vector_1_1 = encoded_layers_1[0][0, bank_posi_1]\n",
        "\n",
        "# 文章1のBertLayerモジュール最終12段目から出力されるのbankの特徴量ベクトル\n",
        "bank_vector_1_12 = encoded_layers_1[11][0, bank_posi_1]\n",
        "\n",
        "# 文章2、3も同様に\n",
        "bank_vector_2_1 = encoded_layers_2[0][0, bank_posi_2]\n",
        "bank_vector_2_12 = encoded_layers_2[11][0, bank_posi_2]\n",
        "bank_vector_3_1 = encoded_layers_3[0][0, bank_posi_3]\n",
        "bank_vector_3_12 = encoded_layers_3[11][0, bank_posi_3]"
      ],
      "metadata": {
        "id": "dT9ROjXWHnOa"
      },
      "execution_count": 24,
      "outputs": []
    },
    {
      "cell_type": "code",
      "source": [
        "print(\"bankの初期ベクトル と 文章1の1段目のbankの類似度：\",\n",
        "      F.cosine_similarity(bank_vector_0, bank_vector_1_1, dim=0))\n",
        "print(\"bankの初期ベクトル と 文章1の12段目のbankの類似度：\",\n",
        "      F.cosine_similarity(bank_vector_0, bank_vector_1_12, dim=0))\n",
        "\n",
        "print(\"文章1の1層目のbank と 文章2の1段目のbankの類似度：\",\n",
        "      F.cosine_similarity(bank_vector_1_1, bank_vector_2_1, dim=0))\n",
        "print(\"文章1の1層目のbank と 文章3の1段目のbankの類似度：\",\n",
        "      F.cosine_similarity(bank_vector_1_1, bank_vector_3_1, dim=0))\n",
        "\n",
        "print(\"文章1の12層目のbank と 文章2の12段目のbankの類似度：\",\n",
        "      F.cosine_similarity(bank_vector_1_12, bank_vector_2_12, dim=0))\n",
        "print(\"文章1の12層目のbank と 文章3の12段目のbankの類似度：\",\n",
        "      F.cosine_similarity(bank_vector_1_12, bank_vector_3_12, dim=0))"
      ],
      "metadata": {
        "id": "GMhPsyXLOnEr"
      },
      "execution_count": null,
      "outputs": []
    },
    {
      "cell_type": "markdown",
      "source": [
        "## BERTによる感情分析\n",
        "上と同じくattention_show_flgの仕様を変更しています。また、一部細かな修正をしています。"
      ],
      "metadata": {
        "id": "r-nPUZp7obpt"
      }
    },
    {
      "cell_type": "code",
      "source": [
        "class BertForIMDb(nn.Module):\n",
        "  def __init__(self, net):\n",
        "    super().__init__()\n",
        "    self.bert = net\n",
        "\n",
        "    #headに分類アダプタを追加\n",
        "    self.cls = nn.Linear(in_features=768, out_features=2)\n",
        "\n",
        "    #重みの初期化\n",
        "    nn.init.normal_(self.cls.weight, std=0.02)\n",
        "    nn.init.normal_(self.cls.bias, 0)\n",
        "\n",
        "  def forward(self,\n",
        "              input_ids,\n",
        "              token_type_ids=None,\n",
        "              attention_mask=None,\n",
        "              output_all_encoded_layers=False,\n",
        "              attention_show_flg=False\n",
        "              ):\n",
        "\n",
        "    if attention_show_flg == True:\n",
        "      encoded_layers, pooled_output, attention_probs = self.bert(input_ids,\n",
        "                                                                 token_type_ids,\n",
        "                                                                 attention_mask,\n",
        "                                                                 output_all_encoded_layers,\n",
        "                                                                 attention_show_flg\n",
        "                                                                 )\n",
        "\n",
        "    else:\n",
        "      encoded_layers, pooled_output = self.bert(input_ids,\n",
        "                                                 token_type_ids,\n",
        "                                                 attention_mask,\n",
        "                                                 output_all_encoded_layers,\n",
        "                                                 attention_show_flg\n",
        "                                                 )\n",
        "\n",
        "    vec_0 = encoded_layers[:, 0, :]\n",
        "    vec_0 = vec_0.view(-1, 768)\n",
        "    out   = self.cls(vec_0)\n",
        "\n",
        "    if attention_show_flg == True:\n",
        "      return out, attention_probs\n",
        "\n",
        "    else:\n",
        "      return out\n",
        "\n"
      ],
      "metadata": {
        "id": "fG5ATdPqofKS"
      },
      "execution_count": 26,
      "outputs": []
    },
    {
      "cell_type": "code",
      "source": [
        "# 学習・検証データの準備\n",
        "dl_dict = {'train': tr_dl, 'val': val_dl}"
      ],
      "metadata": {
        "id": "NqDtWC_4ukKb"
      },
      "execution_count": 27,
      "outputs": []
    },
    {
      "cell_type": "code",
      "source": [
        "model = BertForIMDb(net)\n",
        "model.train()\n",
        "print(\"Network configuration complete!!\")"
      ],
      "metadata": {
        "id": "uJ9ZzeCerZDN"
      },
      "execution_count": null,
      "outputs": []
    },
    {
      "cell_type": "code",
      "source": [
        "# 計算時間を考慮して最終層のBertLayerのみを学習する\n",
        "# すべての勾配計算を無効化\n",
        "for param in model.parameters():\n",
        "  param.requires_grad = False\n",
        "\n",
        "# 最後のBertLayerの勾配計算を有効化\n",
        "for name, param in model.bert.encoder.layer[-1].named_parameters():\n",
        "  param.requires_grad = True\n",
        "\n",
        "# 分類アダプタの勾配計算を有効化\n",
        "for name, param in model.cls.named_parameters():\n",
        "  param.requires_grad = True\n"
      ],
      "metadata": {
        "id": "1vWm3Ac2sFKK"
      },
      "execution_count": 29,
      "outputs": []
    },
    {
      "cell_type": "code",
      "source": [
        "# 最適化手法と損失関数の定義（論文に準拠）\n",
        "optimizer = torch.optim.Adam([\n",
        "    {'params': model.bert.encoder.layer[-1].parameters(), 'lr': 5e-5},\n",
        "    {'params': model.cls.parameters(), 'lr': 5e-5}\n",
        "], betas=(0.9, 0.999))\n",
        "\n",
        "criterion = nn.CrossEntropyLoss()"
      ],
      "metadata": {
        "id": "k54Kb6UAtRZF"
      },
      "execution_count": 30,
      "outputs": []
    },
    {
      "cell_type": "code",
      "source": [
        "import time\n",
        "from tqdm import tqdm\n",
        "\n",
        "def train_model(model, dl_dict, criterion, optimizer, num_epochs):\n",
        "  device = torch.device(\"cuda:0\" if torch.cuda.is_available() else \"cpu\")\n",
        "  compute_device = \"GPU\" if device.type == \"cuda\" else \"CPU\"\n",
        "  print(f\"This is {compute_device} trainer !!\")\n",
        "  print(\"-\"*20, \"Start\", \"-\"*20)\n",
        "\n",
        "  model.to(device)\n",
        "\n",
        "  # network acceleration\n",
        "  torch.backends.cudnn.benchmark = True\n",
        "\n",
        "  # batch_size\n",
        "  batch_size = 32\n",
        "\n",
        "  for epoch in range(num_epochs):\n",
        "    for phase in ['train', 'val']:\n",
        "      if phase == 'train':\n",
        "        model.train()\n",
        "      else:\n",
        "        model.eval()\n",
        "\n",
        "      epoch_loss     = 0.0\n",
        "      epoch_corrects = 0\n",
        "      iteration      = 0\n",
        "\n",
        "      # 開始時刻を保存\n",
        "      t_epoch_start = time.time()\n",
        "      t_iter_start  = time.time()\n",
        "\n",
        "      for batch in tqdm(dl_dict[phase]):\n",
        "        inputs = batch['input_ids'].to(device)\n",
        "        labels = batch['labels'].to(device)\n",
        "\n",
        "        optimizer.zero_grad()\n",
        "\n",
        "        with torch.set_grad_enabled(phase == 'train'):\n",
        "          outputs = model(inputs,\n",
        "                          token_type_ids=None,\n",
        "                          attention_mask=None,\n",
        "                          output_all_encoded_layers=False,\n",
        "                          attention_show_flg=None\n",
        "                          )\n",
        "\n",
        "          loss = criterion(outputs, labels)\n",
        "          _, preds = torch.max(outputs, 1)\n",
        "\n",
        "          if phase == 'train':\n",
        "            loss.backward()\n",
        "            optimizer.step()\n",
        "\n",
        "            if (iteration % 10 == 0):\n",
        "              t_iter_finish = time.time()\n",
        "              duration = t_iter_finish - t_iter_start\n",
        "              acc = torch.sum(preds == labels.data).double() / batch_size\n",
        "              print(\"Iteration {} || Loss: {:.4f} || 10 iter: {:.4f} sec. || Accuracy rate in this iteration: {}\".format(\n",
        "                  iteration,\n",
        "                  loss.item(),\n",
        "                  duration,\n",
        "                  acc\n",
        "              ))\n",
        "              t_iter_start = time.time()\n",
        "\n",
        "          iteration += 1\n",
        "\n",
        "\n",
        "          epoch_loss += loss.item() * batch_size\n",
        "          epoch_corrects += torch.sum(preds == labels.data)\n",
        "\n",
        "      # epochごとのlossと正解率\n",
        "      t_epoch_finish = time.time()\n",
        "      epoch_loss = epoch_loss / len(dl_dict[phase].dataset)\n",
        "      epoch_acc  = epoch_corrects.double() / len(dl_dict[phase].dataset)\n",
        "\n",
        "      print('Epoch {}/{} | {:^5} | Loss: {:.4f} ACC: {:.4f}'.format(\n",
        "          epoch + 1,\n",
        "          num_epochs,\n",
        "          phase,\n",
        "          epoch_loss,\n",
        "          epoch_acc\n",
        "      ))\n",
        "      t_epoch_start = time.time()\n",
        "\n",
        "  return model\n",
        "\n"
      ],
      "metadata": {
        "id": "uk8o3nLruJd8"
      },
      "execution_count": 35,
      "outputs": []
    },
    {
      "cell_type": "code",
      "source": [
        "%%time\n",
        "#書籍のような学習結果を出せませんでした\n",
        "num_epochs = 2\n",
        "model_trained = train_model(model, dl_dict, criterion, optimizer, num_epochs=num_epochs)"
      ],
      "metadata": {
        "id": "9kHXeW3EvEu7"
      },
      "execution_count": null,
      "outputs": []
    },
    {
      "cell_type": "code",
      "source": [
        "# 重みの保存\n",
        "save_path = root_path + '/weights/bert_fine_tuning_IMDb.pth'\n",
        "torch.save(model_trained.state_dict(), save_path)\n"
      ],
      "metadata": {
        "id": "s2QZETLQJjBe"
      },
      "execution_count": 37,
      "outputs": []
    },
    {
      "cell_type": "code",
      "source": [
        "# テストデータでの検証\n",
        "device = torch.device(\"cuda:0\" if torch.cuda.is_available() else \"cpu\")\n",
        "model_trained.eval()\n",
        "model_trained.to(device)\n",
        "\n",
        "epoch_corrects = 0\n",
        "\n",
        "for batch in tqdm(ts_dl):\n",
        "  device = torch.device(\"cuda:0\" if torch.cuda.is_available() else \"cpu\")\n",
        "  inputs = batch['input_ids'].to(device)\n",
        "  labels = batch['labels'].to(device)\n",
        "\n",
        "  # 順伝播\n",
        "  with torch.set_grad_enabled(False):\n",
        "\n",
        "    # モデルに入力\n",
        "    outputs = model_trained(\n",
        "        inputs,\n",
        "        token_type_ids=None,\n",
        "        attention_mask=None,\n",
        "        output_all_encoded_layers=False,\n",
        "        attention_show_flg=None\n",
        "    )\n",
        "\n",
        "    loss = criterion(outputs, labels)\n",
        "    _, preds = torch.max(outputs, 1)\n",
        "    epoch_corrects += torch.sum(preds == labels.data)\n",
        "\n",
        "epoch_acc = epoch_corrects.double() / len(ts_dl.dataset)\n",
        "print('テストデータ{}個での正解率: {:.4f}'.format(len(ts_dl.dataset), epoch_acc))"
      ],
      "metadata": {
        "id": "SFzN0yvwKLAd"
      },
      "execution_count": null,
      "outputs": []
    },
    {
      "cell_type": "markdown",
      "source": [
        "## Attentionの可視化\n",
        "データの取り出し方を変更しています。また、細かな修正をしています。"
      ],
      "metadata": {
        "id": "szkqK-_uNuvK"
      }
    },
    {
      "cell_type": "code",
      "source": [
        "batch = next(iter(ts_dl))\n",
        "inputs = batch['input_ids'].to(device)\n",
        "labels = batch['labels'].to(device)\n",
        "\n",
        "outputs, attention_probs = model_trained(\n",
        "    inputs,\n",
        "    token_type_ids=None,\n",
        "    attention_mask=None,\n",
        "    output_all_encoded_layers=False,\n",
        "    attention_show_flg=True\n",
        ")\n",
        "\n",
        "_, preds = torch.max(outputs, 1)\n"
      ],
      "metadata": {
        "id": "wuAEdk-7T9HT"
      },
      "execution_count": 55,
      "outputs": []
    },
    {
      "cell_type": "code",
      "source": [
        "# HTMLを作成する関数を実装\n",
        "\n",
        "def highlight(word, attn):\n",
        "    \"Attentionの値が大きいと文字の背景が濃い赤になるhtmlを出力させる関数\"\n",
        "\n",
        "    html_color = '#%02X%02X%02X' % (\n",
        "        255, int(255*(1 - attn)), int(255*(1 - attn)))\n",
        "    return '<span style=\"background-color: {}\"> {}</span>'.format(html_color, word)\n",
        "\n",
        "\n",
        "def mk_html(index, ts_ds, preds, normalized_weights):\n",
        "    \"HTMLデータを作成する\"\n",
        "\n",
        "    # indexの結果を抽出\n",
        "    # indexの結果を抽出\n",
        "    example  = ts_ds[index]  # データセットからサンプルを取得\n",
        "    sentence = tokenizer.convert_ids_to_tokens(example['input_ids'])  # 文章\n",
        "    label    = example['labels']  # ラベル\n",
        "    pred     = preds[index]  # 予測\n",
        "\n",
        "    # ラベルと予測結果を文字に置き換え\n",
        "    if label == 0:\n",
        "        label_str = \"Negative\"\n",
        "    else:\n",
        "        label_str = \"Positive\"\n",
        "\n",
        "    if pred == 0:\n",
        "        pred_str = \"Negative\"\n",
        "    else:\n",
        "        pred_str = \"Positive\"\n",
        "\n",
        "    # 表示用のHTMLを作成する\n",
        "    html = '正解ラベル：{}<br>推論ラベル：{}<br><br>'.format(label_str, pred_str)\n",
        "\n",
        "    # Multi-head Attentionを考慮\n",
        "    for i in range(12):\n",
        "\n",
        "      # indexのAttentionを抽出と規格化\n",
        "      #0単語目[CLS]の, i番目のMulti-head Attentionを取り出す\n",
        "      # indexはミニバッチの何個目のデータなのかを示す\n",
        "\n",
        "      attens = normalized_weights[index, i, 0, :]\n",
        "      attens /= attens.max()\n",
        "\n",
        "      html += '[BERTのAttentionを可視化_' + str(i+1) + ']<br>'\n",
        "      for word, attn in zip(sentence, attens):\n",
        "\n",
        "        #[SEP]は文章の終わりなのでbreak\n",
        "        if word == '[SEP]':\n",
        "            html += '<br><br>'\n",
        "            break\n",
        "        word_tensor = torch.tensor([tokenizer.convert_tokens_to_ids(word)])\n",
        "        html += highlight(tokenizer.convert_ids_to_tokens(word_tensor.numpy().tolist())[0], attn)\n",
        "    html += \"<br><br>\"\n",
        "\n",
        "    # 12種類のAttentionの平均を求める。最大値で規格化\n",
        "    all_attens = attens*0\n",
        "    for i in range(12):\n",
        "      all_attens += normalized_weights[index, i, 0, :]\n",
        "    all_attens /= all_attens.max()\n",
        "\n",
        "    html += '[BERTのAttentionを可視化_ALL]<br>'\n",
        "    for word, attn in zip(sentence, all_attens):\n",
        "\n",
        "    # 単語が[SEP]の場合は文章が終わりなのでbreak\n",
        "      if word == \"[SEP]\":\n",
        "          break\n",
        "\n",
        "    # 関数highlightで色をつける、関数tokenizer.convert_ids_to_tokensでIDを単語に戻す\n",
        "      word_tensor = torch.tensor([tokenizer.convert_tokens_to_ids(word)])\n",
        "      html += highlight(tokenizer.convert_ids_to_tokens(word_tensor.numpy().tolist())[0], attn)\n",
        "    html += \"<br><br>\"\n",
        "\n",
        "    return html"
      ],
      "metadata": {
        "id": "v6DQssCNNq6t"
      },
      "execution_count": 81,
      "outputs": []
    },
    {
      "cell_type": "code",
      "source": [
        "from IPython.display import HTML\n",
        "\n",
        "index = 1\n",
        "html_output = mk_html(index, ts_ds, preds, attention_probs)\n",
        "HTML(html_output)"
      ],
      "metadata": {
        "colab": {
          "base_uri": "https://localhost:8080/",
          "height": 1000
        },
        "id": "Y6fEM2JVSb_K",
        "outputId": "8f3e7127-3664-41fb-c913-db702904164e"
      },
      "execution_count": 82,
      "outputs": [
        {
          "output_type": "execute_result",
          "data": {
            "text/plain": [
              "<IPython.core.display.HTML object>"
            ],
            "text/html": [
              "正解ラベル：Positive<br>推論ラベル：Negative<br><br>[BERTのAttentionを可視化_1]<br><span style=\"background-color: #FFF4F4\"> [CLS]</span><span style=\"background-color: #FFF8F8\"> actor</span><span style=\"background-color: #FFF2F2\"> turned</span><span style=\"background-color: #FFFAFA\"> director</span><span style=\"background-color: #FFFDFD\"> bill</span><span style=\"background-color: #FFBFBF\"> paxton</span><span style=\"background-color: #FFFEFE\"> follows</span><span style=\"background-color: #FFE5E5\"> up</span><span style=\"background-color: #FFFCFC\"> his</span><span style=\"background-color: #FFFDFD\"> promising</span><span style=\"background-color: #FFC3C3\"> debut</span><span style=\"background-color: #FFFEFE\"> ,</span><span style=\"background-color: #FFFCFC\"> the</span><span style=\"background-color: #FFFAFA\"> gothic</span><span style=\"background-color: #FFF9F9\"> horror</span><span style=\"background-color: #FFFDFD\"> frail</span><span style=\"background-color: #FFFBFB\"> ##ty</span><span style=\"background-color: #FFFDFD\"> ,</span><span style=\"background-color: #FFFAFA\"> with</span><span style=\"background-color: #FFF1F1\"> this</span><span style=\"background-color: #FFE1E1\"> family</span><span style=\"background-color: #FFFDFD\"> friendly</span><span style=\"background-color: #FFFDFD\"> sports</span><span style=\"background-color: #FFFDFD\"> drama</span><span style=\"background-color: #FFDFDF\"> about</span><span style=\"background-color: #FFFBFB\"> the</span><span style=\"background-color: #FFF8F8\"> 1913</span><span style=\"background-color: #FFFBFB\"> u</span><span style=\"background-color: #FFFCFC\"> .</span><span style=\"background-color: #FFFDFD\"> s</span><span style=\"background-color: #FFF7F7\"> .</span><span style=\"background-color: #FFF4F4\"> open</span><span style=\"background-color: #FFFEFE\"> where</span><span style=\"background-color: #FFF7F7\"> a</span><span style=\"background-color: #FFF9F9\"> young</span><span style=\"background-color: #FFF8F8\"> american</span><span style=\"background-color: #FFFDFD\"> cad</span><span style=\"background-color: #FFAEAE\"> ##dy</span><span style=\"background-color: #FFFDFD\"> rises</span><span style=\"background-color: #FFF9F9\"> from</span><span style=\"background-color: #FFFCFC\"> his</span><span style=\"background-color: #FFF6F6\"> humble</span><span style=\"background-color: #FFF8F8\"> background</span><span style=\"background-color: #FFF9F9\"> to</span><span style=\"background-color: #FFFEFE\"> play</span><span style=\"background-color: #FFF9F9\"> against</span><span style=\"background-color: #FFF9F9\"> his</span><span style=\"background-color: #FFF9F9\"> br</span><span style=\"background-color: #FFF9F9\"> ##ist</span><span style=\"background-color: #FFFDFD\"> ##ish</span><span style=\"background-color: #FFFEFE\"> idol</span><span style=\"background-color: #FFFDFD\"> in</span><span style=\"background-color: #FFF6F6\"> what</span><span style=\"background-color: #FFF9F9\"> was</span><span style=\"background-color: #FFF8F8\"> dubbed</span><span style=\"background-color: #FFF0F0\"> as</span><span style=\"background-color: #FFFDFD\"> the</span><span style=\"background-color: #FFFDFD\"> greatest</span><span style=\"background-color: #FFFCFC\"> game</span><span style=\"background-color: #FFFCFC\"> ever</span><span style=\"background-color: #FFF9F9\"> played</span><span style=\"background-color: #FFEDED\"> .</span><span style=\"background-color: #FFF8F8\"> i</span><span style=\"background-color: #FFFEFE\"> m</span><span style=\"background-color: #FFFEFE\"> no</span><span style=\"background-color: #FFB8B8\"> fan</span><span style=\"background-color: #FFFBFB\"> of</span><span style=\"background-color: #FFFAFA\"> golf</span><span style=\"background-color: #FFFDFD\"> ,</span><span style=\"background-color: #FFDDDD\"> and</span><span style=\"background-color: #FFF7F7\"> these</span><span style=\"background-color: #FFFCFC\"> scrap</span><span style=\"background-color: #FFF9F9\"> ##py</span><span style=\"background-color: #FFFAFA\"> under</span><span style=\"background-color: #FFFDFD\"> ##dog</span><span style=\"background-color: #FFFDFD\"> sports</span><span style=\"background-color: #FFFEFE\"> flick</span><span style=\"background-color: #FFFCFC\"> ##s</span><span style=\"background-color: #FFF5F5\"> are</span><span style=\"background-color: #FFFDFD\"> a</span><span style=\"background-color: #FFCACA\"> dime</span><span style=\"background-color: #FFFBFB\"> a</span><span style=\"background-color: #FFD0D0\"> dozen</span><span style=\"background-color: #FFF7F7\"> most</span><span style=\"background-color: #FFFDFD\"> recently</span><span style=\"background-color: #FFFEFE\"> done</span><span style=\"background-color: #FFE5E5\"> to</span><span style=\"background-color: #FFFBFB\"> grand</span><span style=\"background-color: #FFFCFC\"> effect</span><span style=\"background-color: #FFF7F7\"> with</span><span style=\"background-color: #FFEFEF\"> miracle</span><span style=\"background-color: #FFF1F1\"> and</span><span style=\"background-color: #FFFCFC\"> cinderella</span><span style=\"background-color: #FFD9D9\"> man</span><span style=\"background-color: #FFF9F9\"> ,</span><span style=\"background-color: #FFF6F6\"> but</span><span style=\"background-color: #FFFAFA\"> some</span><span style=\"background-color: #FFF2F2\"> how</span><span style=\"background-color: #FFF4F4\"> this</span><span style=\"background-color: #FFF8F8\"> film</span><span style=\"background-color: #FFFCFC\"> was</span><span style=\"background-color: #FFF1F1\"> en</span><span style=\"background-color: #FFF6F6\"> ##th</span><span style=\"background-color: #FFFAFA\"> ##ral</span><span style=\"background-color: #FFFDFD\"> ##ling</span><span style=\"background-color: #FF2626\"> all</span><span style=\"background-color: #FFFCFC\"> the</span><span style=\"background-color: #FFFEFE\"> same</span><span style=\"background-color: #FFFDFD\"> .</span><span style=\"background-color: #FFFEFE\"> br</span><span style=\"background-color: #FFFDFD\"> br</span><span style=\"background-color: #FFFEFE\"> the</span><span style=\"background-color: #FFE8E8\"> film</span><span style=\"background-color: #FFFEFE\"> starts</span><span style=\"background-color: #FF9191\"> with</span><span style=\"background-color: #FFFCFC\"> some</span><span style=\"background-color: #FFFDFD\"> creative</span><span style=\"background-color: #FFF9F9\"> opening</span><span style=\"background-color: #FFF8F8\"> credits</span><span style=\"background-color: #FFFEFE\"> imagine</span><span style=\"background-color: #FFFBFB\"> a</span><span style=\"background-color: #FFECEC\"> disney</span><span style=\"background-color: #FFF7F7\"> ##fied</span><span style=\"background-color: #FFFDFD\"> version</span><span style=\"background-color: #FFFEFE\"> of</span><span style=\"background-color: #FFFDFD\"> the</span><span style=\"background-color: #FF8989\"> animated</span><span style=\"background-color: #FFFDFD\"> opening</span><span style=\"background-color: #FFFCFC\"> credits</span><span style=\"background-color: #FFFEFE\"> of</span><span style=\"background-color: #FFE6E6\"> hbo</span><span style=\"background-color: #FFFEFE\"> s</span><span style=\"background-color: #FFFEFE\"> carnival</span><span style=\"background-color: #FFF6F6\"> ##e</span><span style=\"background-color: #FFEDED\"> and</span><span style=\"background-color: #FFBDBD\"> rome</span><span style=\"background-color: #FFFCFC\"> ,</span><span style=\"background-color: #FFD2D2\"> but</span><span style=\"background-color: #FFF6F6\"> lumber</span><span style=\"background-color: #FFFEFE\"> ##s</span><span style=\"background-color: #FFFAFA\"> along</span><span style=\"background-color: #FFF8F8\"> slowly</span><span style=\"background-color: #FFFDFD\"> for</span><span style=\"background-color: #FFFDFD\"> its</span><span style=\"background-color: #FFFEFE\"> first</span><span style=\"background-color: #FFF8F8\"> by</span><span style=\"background-color: #FFFEFE\"> the</span><span style=\"background-color: #FFFEFE\"> numbers</span><span style=\"background-color: #FFC7C7\"> hour</span><span style=\"background-color: #FFF3F3\"> .</span><span style=\"background-color: #FFDFDF\"> once</span><span style=\"background-color: #FFFEFE\"> the</span><span style=\"background-color: #FFF6F6\"> action</span><span style=\"background-color: #FFFEFE\"> moves</span><span style=\"background-color: #FFF7F7\"> to</span><span style=\"background-color: #FFFCFC\"> the</span><span style=\"background-color: #FFE9E9\"> u</span><span style=\"background-color: #FFF0F0\"> .</span><span style=\"background-color: #FFFEFE\"> s</span><span style=\"background-color: #FFF6F6\"> .</span><span style=\"background-color: #FFFBFB\"> open</span><span style=\"background-color: #FFFCFC\"> things</span><span style=\"background-color: #FFF8F8\"> pick</span><span style=\"background-color: #FFF4F4\"> up</span><span style=\"background-color: #FFFBFB\"> very</span><span style=\"background-color: #FFFCFC\"> well</span><span style=\"background-color: #FFFCFC\"> .</span><span style=\"background-color: #FFFCFC\"> paxton</span><span style=\"background-color: #FFFEFE\"> does</span><span style=\"background-color: #FFFDFD\"> a</span><span style=\"background-color: #FFFEFE\"> nice</span><span style=\"background-color: #FFDDDD\"> job</span><span style=\"background-color: #FFF7F7\"> and</span><span style=\"background-color: #FFFDFD\"> shows</span><span style=\"background-color: #FFE9E9\"> a</span><span style=\"background-color: #FFFEFE\"> kn</span><span style=\"background-color: #FFFDFD\"> ##ack</span><span style=\"background-color: #FFF8F8\"> for</span><span style=\"background-color: #FFFCFC\"> effective</span><span style=\"background-color: #FFECEC\"> directorial</span><span style=\"background-color: #FFF8F8\"> flourish</span><span style=\"background-color: #FFFEFE\"> ##es</span><span style=\"background-color: #FFF8F8\"> i</span><span style=\"background-color: #FFF7F7\"> loved</span><span style=\"background-color: #FFFCFC\"> the</span><span style=\"background-color: #FFF5F5\"> rain</span><span style=\"background-color: #FFF5F5\"> soaked</span><span style=\"background-color: #FFF9F9\"> mont</span><span style=\"background-color: #FFFAFA\"> ##age</span><span style=\"background-color: #FFFDFD\"> of</span><span style=\"background-color: #FFFBFB\"> the</span><span style=\"background-color: #FFFBFB\"> action</span><span style=\"background-color: #FFDDDD\"> on</span><span style=\"background-color: #FFFEFE\"> day</span><span style=\"background-color: #FFEFEF\"> two</span><span style=\"background-color: #FFFEFE\"> of</span><span style=\"background-color: #FFFCFC\"> the</span><span style=\"background-color: #FFF7F7\"> open</span><span style=\"background-color: #FFF9F9\"> that</span><span style=\"background-color: #FFF7F7\"> prop</span><span style=\"background-color: #FFE8E8\"> ##el</span><span style=\"background-color: #FFF0F0\"> the</span><span style=\"background-color: #FFEEEE\"> plot</span><span style=\"background-color: #FFF9F9\"> further</span><span style=\"background-color: #FFF7F7\"> or</span><span style=\"background-color: #FFFBFB\"> add</span><span style=\"background-color: #FFFDFD\"> some</span><span style=\"background-color: #FFFCFC\"> unexpected</span><span style=\"background-color: #FFF8F8\"> psychological</span><span style=\"background-color: #FFFDFD\"> depth</span><span style=\"background-color: #FFFCFC\"> to</span><span style=\"background-color: #FFFDFD\"> the</span><span style=\"background-color: #FFF8F8\"> proceedings</span><span style=\"background-color: #FFFBFB\"> .</span><span style=\"background-color: #FFF8F8\"> there</span><span style=\"background-color: #FFFEFE\"> s</span><span style=\"background-color: #FFFCFC\"> some</span><span style=\"background-color: #FFFDFD\"> compelling</span><span style=\"background-color: #FFFCFC\"> character</span><span style=\"background-color: #FFFDFD\"> development</span><span style=\"background-color: #FFFDFD\"> when</span><span style=\"background-color: #FFFDFD\"> the</span><span style=\"background-color: #FFF9F9\"> british</span><span style=\"background-color: #FFFDFD\"> harry</span><span style=\"background-color: #FFFEFE\"> var</span><span style=\"background-color: #FFEDED\"> ##don</span><span style=\"background-color: #FF0000\"> is</span><span style=\"background-color: #FFFAFA\"> haunted</span><span style=\"background-color: #FFFAFA\"> by</span><span style=\"background-color: #FFFAFA\"> images</span><span style=\"background-color: #FFFEFE\"> of</span><span style=\"background-color: #FFF9F9\"> the</span><span style=\"background-color: #FFC6C6\"> ari</span><span style=\"background-color: #FFE8E8\"> ##sto</span><span style=\"background-color: #FFF6F6\"> ##crats</span><span style=\"background-color: #FFFBFB\"> in</span><span style=\"background-color: #FFFDFD\"> black</span><span style=\"background-color: #FFFDFD\"> suits</span><span style=\"background-color: #FFF0F0\"> and</span><span style=\"background-color: #FFFAFA\"> top</span><span style=\"background-color: #FFFBFB\"> hats</span><span style=\"background-color: #FFF7F7\"> who</span><span style=\"background-color: #FFE4E4\"> destroyed</span><span style=\"background-color: #FFFAFA\"> his</span><span style=\"background-color: #FFF5F5\"> family</span><span style=\"background-color: #FFFBFB\"> cottage</span><span style=\"background-color: #FFFAFA\"> as</span><span style=\"background-color: #FFFCFC\"> a</span><span style=\"background-color: #FFF0F0\"> child</span><span style=\"background-color: #FFFBFB\"> to</span><span style=\"background-color: #FFFDFD\"> make</span><span style=\"background-color: #FFF7F7\"> way</span><span style=\"background-color: #FFF6F6\"> for</span><span style=\"background-color: #FFFCFC\"> a</span><span style=\"background-color: #FFEEEE\"> golf</span><br><br>[BERTのAttentionを可視化_2]<br><span style=\"background-color: #FFFCFC\"> [CLS]</span><span style=\"background-color: #FFFBFB\"> actor</span><span style=\"background-color: #FFF2F2\"> turned</span><span style=\"background-color: #FFFAFA\"> director</span><span style=\"background-color: #FFEDED\"> bill</span><span style=\"background-color: #FFFCFC\"> paxton</span><span style=\"background-color: #FFFCFC\"> follows</span><span style=\"background-color: #FFF9F9\"> up</span><span style=\"background-color: #FFF8F8\"> his</span><span style=\"background-color: #FFFCFC\"> promising</span><span style=\"background-color: #FFFBFB\"> debut</span><span style=\"background-color: #FFF5F5\"> ,</span><span style=\"background-color: #FFFDFD\"> the</span><span style=\"background-color: #FFF3F3\"> gothic</span><span style=\"background-color: #FFFCFC\"> horror</span><span style=\"background-color: #FFFCFC\"> frail</span><span style=\"background-color: #FFFBFB\"> ##ty</span><span style=\"background-color: #FFFCFC\"> ,</span><span style=\"background-color: #FFFAFA\"> with</span><span style=\"background-color: #FFF9F9\"> this</span><span style=\"background-color: #FFCECE\"> family</span><span style=\"background-color: #FFF9F9\"> friendly</span><span style=\"background-color: #FFFBFB\"> sports</span><span style=\"background-color: #FFFDFD\"> drama</span><span style=\"background-color: #FFF4F4\"> about</span><span style=\"background-color: #FFFAFA\"> the</span><span style=\"background-color: #FFFAFA\"> 1913</span><span style=\"background-color: #FFFDFD\"> u</span><span style=\"background-color: #FFFBFB\"> .</span><span style=\"background-color: #FFFAFA\"> s</span><span style=\"background-color: #FFF7F7\"> .</span><span style=\"background-color: #FFF4F4\"> open</span><span style=\"background-color: #FFFCFC\"> where</span><span style=\"background-color: #FFFCFC\"> a</span><span style=\"background-color: #FFFCFC\"> young</span><span style=\"background-color: #FFF9F9\"> american</span><span style=\"background-color: #FFFCFC\"> cad</span><span style=\"background-color: #FFF9F9\"> ##dy</span><span style=\"background-color: #FFFAFA\"> rises</span><span style=\"background-color: #FFFAFA\"> from</span><span style=\"background-color: #FFFBFB\"> his</span><span style=\"background-color: #FFF9F9\"> humble</span><span style=\"background-color: #FFFAFA\"> background</span><span style=\"background-color: #FF7F7F\"> to</span><span style=\"background-color: #FFF6F6\"> play</span><span style=\"background-color: #FFFAFA\"> against</span><span style=\"background-color: #FFFAFA\"> his</span><span style=\"background-color: #FFF9F9\"> br</span><span style=\"background-color: #FFF6F6\"> ##ist</span><span style=\"background-color: #FFFCFC\"> ##ish</span><span style=\"background-color: #FFF2F2\"> idol</span><span style=\"background-color: #FFFBFB\"> in</span><span style=\"background-color: #FFFBFB\"> what</span><span style=\"background-color: #FFF7F7\"> was</span><span style=\"background-color: #FFFAFA\"> dubbed</span><span style=\"background-color: #FFF9F9\"> as</span><span style=\"background-color: #FFFBFB\"> the</span><span style=\"background-color: #FFF0F0\"> greatest</span><span style=\"background-color: #FFF7F7\"> game</span><span style=\"background-color: #FFF5F5\"> ever</span><span style=\"background-color: #FFF9F9\"> played</span><span style=\"background-color: #FFFDFD\"> .</span><span style=\"background-color: #FFFAFA\"> i</span><span style=\"background-color: #FFF0F0\"> m</span><span style=\"background-color: #FFF8F8\"> no</span><span style=\"background-color: #FFFAFA\"> fan</span><span style=\"background-color: #FFF3F3\"> of</span><span style=\"background-color: #FFF8F8\"> golf</span><span style=\"background-color: #FFFBFB\"> ,</span><span style=\"background-color: #FF3D3D\"> and</span><span style=\"background-color: #FFFAFA\"> these</span><span style=\"background-color: #FFFBFB\"> scrap</span><span style=\"background-color: #FFFAFA\"> ##py</span><span style=\"background-color: #FFFAFA\"> under</span><span style=\"background-color: #FFF6F6\"> ##dog</span><span style=\"background-color: #FFFAFA\"> sports</span><span style=\"background-color: #FFF9F9\"> flick</span><span style=\"background-color: #FFF9F9\"> ##s</span><span style=\"background-color: #FFFBFB\"> are</span><span style=\"background-color: #FFFCFC\"> a</span><span style=\"background-color: #FFFCFC\"> dime</span><span style=\"background-color: #FFFDFD\"> a</span><span style=\"background-color: #FFF6F6\"> dozen</span><span style=\"background-color: #FFF1F1\"> most</span><span style=\"background-color: #FFFCFC\"> recently</span><span style=\"background-color: #FFFDFD\"> done</span><span style=\"background-color: #FF9898\"> to</span><span style=\"background-color: #FFF8F8\"> grand</span><span style=\"background-color: #FFF2F2\"> effect</span><span style=\"background-color: #FFFAFA\"> with</span><span style=\"background-color: #FFFCFC\"> miracle</span><span style=\"background-color: #FF9393\"> and</span><span style=\"background-color: #FFEFEF\"> cinderella</span><span style=\"background-color: #FFF3F3\"> man</span><span style=\"background-color: #FFF6F6\"> ,</span><span style=\"background-color: #FFFBFB\"> but</span><span style=\"background-color: #FFFAFA\"> some</span><span style=\"background-color: #FFFCFC\"> how</span><span style=\"background-color: #FFF8F8\"> this</span><span style=\"background-color: #FFFCFC\"> film</span><span style=\"background-color: #FFFAFA\"> was</span><span style=\"background-color: #FFFDFD\"> en</span><span style=\"background-color: #FFF2F2\"> ##th</span><span style=\"background-color: #FFFCFC\"> ##ral</span><span style=\"background-color: #FFFAFA\"> ##ling</span><span style=\"background-color: #FFEAEA\"> all</span><span style=\"background-color: #FFFBFB\"> the</span><span style=\"background-color: #FFF5F5\"> same</span><span style=\"background-color: #FFFDFD\"> .</span><span style=\"background-color: #FFF6F6\"> br</span><span style=\"background-color: #FFF6F6\"> br</span><span style=\"background-color: #FFFBFB\"> the</span><span style=\"background-color: #FFFAFA\"> film</span><span style=\"background-color: #FFF7F7\"> starts</span><span style=\"background-color: #FFF4F4\"> with</span><span style=\"background-color: #FFFCFC\"> some</span><span style=\"background-color: #FFF8F8\"> creative</span><span style=\"background-color: #FFF6F6\"> opening</span><span style=\"background-color: #FFFCFC\"> credits</span><span style=\"background-color: #FFFAFA\"> imagine</span><span style=\"background-color: #FFFCFC\"> a</span><span style=\"background-color: #FFFBFB\"> disney</span><span style=\"background-color: #FFFBFB\"> ##fied</span><span style=\"background-color: #FFFAFA\"> version</span><span style=\"background-color: #FFFBFB\"> of</span><span style=\"background-color: #FFFAFA\"> the</span><span style=\"background-color: #FFF9F9\"> animated</span><span style=\"background-color: #FFFAFA\"> opening</span><span style=\"background-color: #FFFDFD\"> credits</span><span style=\"background-color: #FFF8F8\"> of</span><span style=\"background-color: #FFF8F8\"> hbo</span><span style=\"background-color: #FFF7F7\"> s</span><span style=\"background-color: #FFF9F9\"> carnival</span><span style=\"background-color: #FFFBFB\"> ##e</span><span style=\"background-color: #FFACAC\"> and</span><span style=\"background-color: #FFFAFA\"> rome</span><span style=\"background-color: #FFFAFA\"> ,</span><span style=\"background-color: #FFF8F8\"> but</span><span style=\"background-color: #FFF3F3\"> lumber</span><span style=\"background-color: #FFFBFB\"> ##s</span><span style=\"background-color: #FFFCFC\"> along</span><span style=\"background-color: #FFFBFB\"> slowly</span><span style=\"background-color: #FFF9F9\"> for</span><span style=\"background-color: #FFF7F7\"> its</span><span style=\"background-color: #FFFBFB\"> first</span><span style=\"background-color: #FFFCFC\"> by</span><span style=\"background-color: #FFFBFB\"> the</span><span style=\"background-color: #FFF4F4\"> numbers</span><span style=\"background-color: #FFFAFA\"> hour</span><span style=\"background-color: #FFFCFC\"> .</span><span style=\"background-color: #FFFBFB\"> once</span><span style=\"background-color: #FFFCFC\"> the</span><span style=\"background-color: #FFFAFA\"> action</span><span style=\"background-color: #FFFCFC\"> moves</span><span style=\"background-color: #FF6F6F\"> to</span><span style=\"background-color: #FFF7F7\"> the</span><span style=\"background-color: #FFFCFC\"> u</span><span style=\"background-color: #FFFDFD\"> .</span><span style=\"background-color: #FFF8F8\"> s</span><span style=\"background-color: #FFFBFB\"> .</span><span style=\"background-color: #FFF7F7\"> open</span><span style=\"background-color: #FFFDFD\"> things</span><span style=\"background-color: #FFF9F9\"> pick</span><span style=\"background-color: #FFFBFB\"> up</span><span style=\"background-color: #FFF7F7\"> very</span><span style=\"background-color: #FFFBFB\"> well</span><span style=\"background-color: #FFFCFC\"> .</span><span style=\"background-color: #FFFAFA\"> paxton</span><span style=\"background-color: #FFFBFB\"> does</span><span style=\"background-color: #FFFBFB\"> a</span><span style=\"background-color: #FFFBFB\"> nice</span><span style=\"background-color: #FFFDFD\"> job</span><span style=\"background-color: #FF8686\"> and</span><span style=\"background-color: #FFFDFD\"> shows</span><span style=\"background-color: #FFFBFB\"> a</span><span style=\"background-color: #FFF9F9\"> kn</span><span style=\"background-color: #FFFAFA\"> ##ack</span><span style=\"background-color: #FFFAFA\"> for</span><span style=\"background-color: #FFF9F9\"> effective</span><span style=\"background-color: #FFFAFA\"> directorial</span><span style=\"background-color: #FFF6F6\"> flourish</span><span style=\"background-color: #FFFCFC\"> ##es</span><span style=\"background-color: #FFFBFB\"> i</span><span style=\"background-color: #FFFBFB\"> loved</span><span style=\"background-color: #FFFCFC\"> the</span><span style=\"background-color: #FFFAFA\"> rain</span><span style=\"background-color: #FFFCFC\"> soaked</span><span style=\"background-color: #FFF9F9\"> mont</span><span style=\"background-color: #FFFAFA\"> ##age</span><span style=\"background-color: #FFFBFB\"> of</span><span style=\"background-color: #FFFAFA\"> the</span><span style=\"background-color: #FFFBFB\"> action</span><span style=\"background-color: #FFF5F5\"> on</span><span style=\"background-color: #FFFAFA\"> day</span><span style=\"background-color: #FFDADA\"> two</span><span style=\"background-color: #FFFCFC\"> of</span><span style=\"background-color: #FFF3F3\"> the</span><span style=\"background-color: #FFF4F4\"> open</span><span style=\"background-color: #FFFBFB\"> that</span><span style=\"background-color: #FFFBFB\"> prop</span><span style=\"background-color: #FFF7F7\"> ##el</span><span style=\"background-color: #FFFBFB\"> the</span><span style=\"background-color: #FFF8F8\"> plot</span><span style=\"background-color: #FFF9F9\"> further</span><span style=\"background-color: #FFFBFB\"> or</span><span style=\"background-color: #FFF6F6\"> add</span><span style=\"background-color: #FFF8F8\"> some</span><span style=\"background-color: #FFFCFC\"> unexpected</span><span style=\"background-color: #FFFAFA\"> psychological</span><span style=\"background-color: #FFFBFB\"> depth</span><span style=\"background-color: #FF0000\"> to</span><span style=\"background-color: #FFFCFC\"> the</span><span style=\"background-color: #FFF8F8\"> proceedings</span><span style=\"background-color: #FFF9F9\"> .</span><span style=\"background-color: #FFFDFD\"> there</span><span style=\"background-color: #FFF6F6\"> s</span><span style=\"background-color: #FFFCFC\"> some</span><span style=\"background-color: #FFF7F7\"> compelling</span><span style=\"background-color: #FFF6F6\"> character</span><span style=\"background-color: #FFF2F2\"> development</span><span style=\"background-color: #FFF9F9\"> when</span><span style=\"background-color: #FFFDFD\"> the</span><span style=\"background-color: #FFF2F2\"> british</span><span style=\"background-color: #FFF8F8\"> harry</span><span style=\"background-color: #FFFCFC\"> var</span><span style=\"background-color: #FFF9F9\"> ##don</span><span style=\"background-color: #FFFCFC\"> is</span><span style=\"background-color: #FFF6F6\"> haunted</span><span style=\"background-color: #FFFCFC\"> by</span><span style=\"background-color: #FFF6F6\"> images</span><span style=\"background-color: #FFF4F4\"> of</span><span style=\"background-color: #FFFAFA\"> the</span><span style=\"background-color: #FFFBFB\"> ari</span><span style=\"background-color: #FFFBFB\"> ##sto</span><span style=\"background-color: #FFFEFE\"> ##crats</span><span style=\"background-color: #FFFBFB\"> in</span><span style=\"background-color: #FFF9F9\"> black</span><span style=\"background-color: #FFF4F4\"> suits</span><span style=\"background-color: #FF8585\"> and</span><span style=\"background-color: #FFFAFA\"> top</span><span style=\"background-color: #FFFCFC\"> hats</span><span style=\"background-color: #FFF6F6\"> who</span><span style=\"background-color: #FFFCFC\"> destroyed</span><span style=\"background-color: #FFFAFA\"> his</span><span style=\"background-color: #FFF1F1\"> family</span><span style=\"background-color: #FFF8F8\"> cottage</span><span style=\"background-color: #FFF5F5\"> as</span><span style=\"background-color: #FFFCFC\"> a</span><span style=\"background-color: #FFF9F9\"> child</span><span style=\"background-color: #FF3535\"> to</span><span style=\"background-color: #FFFBFB\"> make</span><span style=\"background-color: #FFF4F4\"> way</span><span style=\"background-color: #FFF9F9\"> for</span><span style=\"background-color: #FFFCFC\"> a</span><span style=\"background-color: #FFFAFA\"> golf</span><br><br>[BERTのAttentionを可視化_3]<br><span style=\"background-color: #FFF6F6\"> [CLS]</span><span style=\"background-color: #FFF0F0\"> actor</span><span style=\"background-color: #FFEDED\"> turned</span><span style=\"background-color: #FFE8E8\"> director</span><span style=\"background-color: #FFE7E7\"> bill</span><span style=\"background-color: #FFF7F7\"> paxton</span><span style=\"background-color: #FFF7F7\"> follows</span><span style=\"background-color: #FFE4E4\"> up</span><span style=\"background-color: #FFE5E5\"> his</span><span style=\"background-color: #FFF9F9\"> promising</span><span style=\"background-color: #FFF1F1\"> debut</span><span style=\"background-color: #FFEEEE\"> ,</span><span style=\"background-color: #FFF4F4\"> the</span><span style=\"background-color: #FFD4D4\"> gothic</span><span style=\"background-color: #FFEBEB\"> horror</span><span style=\"background-color: #FFE1E1\"> frail</span><span style=\"background-color: #FFE7E7\"> ##ty</span><span style=\"background-color: #FFF1F1\"> ,</span><span style=\"background-color: #FFE4E4\"> with</span><span style=\"background-color: #FFF7F7\"> this</span><span style=\"background-color: #FFD2D2\"> family</span><span style=\"background-color: #FFE5E5\"> friendly</span><span style=\"background-color: #FFF1F1\"> sports</span><span style=\"background-color: #FFF0F0\"> drama</span><span style=\"background-color: #FFE6E6\"> about</span><span style=\"background-color: #FFF6F6\"> the</span><span style=\"background-color: #FFECEC\"> 1913</span><span style=\"background-color: #FFEDED\"> u</span><span style=\"background-color: #FFCFCF\"> .</span><span style=\"background-color: #FFEEEE\"> s</span><span style=\"background-color: #FFBFBF\"> .</span><span style=\"background-color: #FFF2F2\"> open</span><span style=\"background-color: #FFEFEF\"> where</span><span style=\"background-color: #FFEDED\"> a</span><span style=\"background-color: #FFF2F2\"> young</span><span style=\"background-color: #FFE8E8\"> american</span><span style=\"background-color: #FFF9F9\"> cad</span><span style=\"background-color: #FFDDDD\"> ##dy</span><span style=\"background-color: #FFE6E6\"> rises</span><span style=\"background-color: #FFF2F2\"> from</span><span style=\"background-color: #FFEAEA\"> his</span><span style=\"background-color: #FFEEEE\"> humble</span><span style=\"background-color: #FFD1D1\"> background</span><span style=\"background-color: #FFDBDB\"> to</span><span style=\"background-color: #FFE8E8\"> play</span><span style=\"background-color: #FFDEDE\"> against</span><span style=\"background-color: #FFEEEE\"> his</span><span style=\"background-color: #FFF3F3\"> br</span><span style=\"background-color: #FFEAEA\"> ##ist</span><span style=\"background-color: #FFEAEA\"> ##ish</span><span style=\"background-color: #FFF6F6\"> idol</span><span style=\"background-color: #FFF5F5\"> in</span><span style=\"background-color: #FFEFEF\"> what</span><span style=\"background-color: #FFD0D0\"> was</span><span style=\"background-color: #FFEAEA\"> dubbed</span><span style=\"background-color: #FFE5E5\"> as</span><span style=\"background-color: #FFF1F1\"> the</span><span style=\"background-color: #FFE2E2\"> greatest</span><span style=\"background-color: #FFDBDB\"> game</span><span style=\"background-color: #FFF1F1\"> ever</span><span style=\"background-color: #FFE9E9\"> played</span><span style=\"background-color: #FFDFDF\"> .</span><span style=\"background-color: #FFF0F0\"> i</span><span style=\"background-color: #FFECEC\"> m</span><span style=\"background-color: #FFF2F2\"> no</span><span style=\"background-color: #FFEDED\"> fan</span><span style=\"background-color: #FFE7E7\"> of</span><span style=\"background-color: #FFD6D6\"> golf</span><span style=\"background-color: #FFEDED\"> ,</span><span style=\"background-color: #FF0000\"> and</span><span style=\"background-color: #FFF2F2\"> these</span><span style=\"background-color: #FFEFEF\"> scrap</span><span style=\"background-color: #FFF4F4\"> ##py</span><span style=\"background-color: #FFF0F0\"> under</span><span style=\"background-color: #FFEBEB\"> ##dog</span><span style=\"background-color: #FFEEEE\"> sports</span><span style=\"background-color: #FFE6E6\"> flick</span><span style=\"background-color: #FFCCCC\"> ##s</span><span style=\"background-color: #FFF2F2\"> are</span><span style=\"background-color: #FFF5F5\"> a</span><span style=\"background-color: #FFF3F3\"> dime</span><span style=\"background-color: #FFF6F6\"> a</span><span style=\"background-color: #FFF0F0\"> dozen</span><span style=\"background-color: #FFB2B2\"> most</span><span style=\"background-color: #FFF1F1\"> recently</span><span style=\"background-color: #FFF7F7\"> done</span><span style=\"background-color: #FFDBDB\"> to</span><span style=\"background-color: #FFE9E9\"> grand</span><span style=\"background-color: #FFEAEA\"> effect</span><span style=\"background-color: #FFE1E1\"> with</span><span style=\"background-color: #FFF0F0\"> miracle</span><span style=\"background-color: #FF8484\"> and</span><span style=\"background-color: #FFEEEE\"> cinderella</span><span style=\"background-color: #FFEFEF\"> man</span><span style=\"background-color: #FFEFEF\"> ,</span><span style=\"background-color: #FFCCCC\"> but</span><span style=\"background-color: #FFE9E9\"> some</span><span style=\"background-color: #FFF1F1\"> how</span><span style=\"background-color: #FFEEEE\"> this</span><span style=\"background-color: #FFF0F0\"> film</span><span style=\"background-color: #FFE5E5\"> was</span><span style=\"background-color: #FFEAEA\"> en</span><span style=\"background-color: #FFF2F2\"> ##th</span><span style=\"background-color: #FFF4F4\"> ##ral</span><span style=\"background-color: #FFF4F4\"> ##ling</span><span style=\"background-color: #FFD3D3\"> all</span><span style=\"background-color: #FFF6F6\"> the</span><span style=\"background-color: #FFF3F3\"> same</span><span style=\"background-color: #FFE9E9\"> .</span><span style=\"background-color: #FFF3F3\"> br</span><span style=\"background-color: #FFF5F5\"> br</span><span style=\"background-color: #FFEBEB\"> the</span><span style=\"background-color: #FFE0E0\"> film</span><span style=\"background-color: #FFF3F3\"> starts</span><span style=\"background-color: #FFEBEB\"> with</span><span style=\"background-color: #FFEEEE\"> some</span><span style=\"background-color: #FFD9D9\"> creative</span><span style=\"background-color: #FFEFEF\"> opening</span><span style=\"background-color: #FFF5F5\"> credits</span><span style=\"background-color: #FFDBDB\"> imagine</span><span style=\"background-color: #FFE7E7\"> a</span><span style=\"background-color: #FFD3D3\"> disney</span><span style=\"background-color: #FFE9E9\"> ##fied</span><span style=\"background-color: #FFF3F3\"> version</span><span style=\"background-color: #FFF2F2\"> of</span><span style=\"background-color: #FFF4F4\"> the</span><span style=\"background-color: #FFEEEE\"> animated</span><span style=\"background-color: #FFF3F3\"> opening</span><span style=\"background-color: #FFF3F3\"> credits</span><span style=\"background-color: #FFF2F2\"> of</span><span style=\"background-color: #FFE9E9\"> hbo</span><span style=\"background-color: #FFF4F4\"> s</span><span style=\"background-color: #FFEDED\"> carnival</span><span style=\"background-color: #FFF4F4\"> ##e</span><span style=\"background-color: #FFA0A0\"> and</span><span style=\"background-color: #FFDEDE\"> rome</span><span style=\"background-color: #FFE9E9\"> ,</span><span style=\"background-color: #FFECEC\"> but</span><span style=\"background-color: #FFD5D5\"> lumber</span><span style=\"background-color: #FFDEDE\"> ##s</span><span style=\"background-color: #FFEFEF\"> along</span><span style=\"background-color: #FFF1F1\"> slowly</span><span style=\"background-color: #FFF0F0\"> for</span><span style=\"background-color: #FFEDED\"> its</span><span style=\"background-color: #FFF5F5\"> first</span><span style=\"background-color: #FFEFEF\"> by</span><span style=\"background-color: #FFF8F8\"> the</span><span style=\"background-color: #FFD4D4\"> numbers</span><span style=\"background-color: #FFEFEF\"> hour</span><span style=\"background-color: #FFCECE\"> .</span><span style=\"background-color: #FFF1F1\"> once</span><span style=\"background-color: #FFF2F2\"> the</span><span style=\"background-color: #FFCACA\"> action</span><span style=\"background-color: #FFDCDC\"> moves</span><span style=\"background-color: #FFE7E7\"> to</span><span style=\"background-color: #FFEFEF\"> the</span><span style=\"background-color: #FFE2E2\"> u</span><span style=\"background-color: #FFC4C4\"> .</span><span style=\"background-color: #FFECEC\"> s</span><span style=\"background-color: #FFCDCD\"> .</span><span style=\"background-color: #FFDCDC\"> open</span><span style=\"background-color: #FFF7F7\"> things</span><span style=\"background-color: #FFF5F5\"> pick</span><span style=\"background-color: #FFE9E9\"> up</span><span style=\"background-color: #FFE4E4\"> very</span><span style=\"background-color: #FFF4F4\"> well</span><span style=\"background-color: #FFC2C2\"> .</span><span style=\"background-color: #FFE6E6\"> paxton</span><span style=\"background-color: #FFE9E9\"> does</span><span style=\"background-color: #FFECEC\"> a</span><span style=\"background-color: #FFEBEB\"> nice</span><span style=\"background-color: #FFF1F1\"> job</span><span style=\"background-color: #FF4C4C\"> and</span><span style=\"background-color: #FFF5F5\"> shows</span><span style=\"background-color: #FFEFEF\"> a</span><span style=\"background-color: #FFE3E3\"> kn</span><span style=\"background-color: #FFE4E4\"> ##ack</span><span style=\"background-color: #FFF0F0\"> for</span><span style=\"background-color: #FFF5F5\"> effective</span><span style=\"background-color: #FFD6D6\"> directorial</span><span style=\"background-color: #FFBABA\"> flourish</span><span style=\"background-color: #FFEFEF\"> ##es</span><span style=\"background-color: #FFF8F8\"> i</span><span style=\"background-color: #FFE7E7\"> loved</span><span style=\"background-color: #FFF4F4\"> the</span><span style=\"background-color: #FFB7B7\"> rain</span><span style=\"background-color: #FFF0F0\"> soaked</span><span style=\"background-color: #FFF4F4\"> mont</span><span style=\"background-color: #FFEBEB\"> ##age</span><span style=\"background-color: #FFF5F5\"> of</span><span style=\"background-color: #FFE8E8\"> the</span><span style=\"background-color: #FFEAEA\"> action</span><span style=\"background-color: #FFEDED\"> on</span><span style=\"background-color: #FFEEEE\"> day</span><span style=\"background-color: #FFC9C9\"> two</span><span style=\"background-color: #FFF0F0\"> of</span><span style=\"background-color: #FFF4F4\"> the</span><span style=\"background-color: #FFF4F4\"> open</span><span style=\"background-color: #FFE6E6\"> that</span><span style=\"background-color: #FFDFDF\"> prop</span><span style=\"background-color: #FFEFEF\"> ##el</span><span style=\"background-color: #FFF4F4\"> the</span><span style=\"background-color: #FFDDDD\"> plot</span><span style=\"background-color: #FFECEC\"> further</span><span style=\"background-color: #FFDDDD\"> or</span><span style=\"background-color: #FFEDED\"> add</span><span style=\"background-color: #FFF1F1\"> some</span><span style=\"background-color: #FFEFEF\"> unexpected</span><span style=\"background-color: #FFEAEA\"> psychological</span><span style=\"background-color: #FFF6F6\"> depth</span><span style=\"background-color: #FFB6B6\"> to</span><span style=\"background-color: #FFF7F7\"> the</span><span style=\"background-color: #FFF5F5\"> proceedings</span><span style=\"background-color: #FFB6B6\"> .</span><span style=\"background-color: #FFEBEB\"> there</span><span style=\"background-color: #FFE7E7\"> s</span><span style=\"background-color: #FFF4F4\"> some</span><span style=\"background-color: #FFEFEF\"> compelling</span><span style=\"background-color: #FFDFDF\"> character</span><span style=\"background-color: #FFECEC\"> development</span><span style=\"background-color: #FFF7F7\"> when</span><span style=\"background-color: #FFF6F6\"> the</span><span style=\"background-color: #FFE0E0\"> british</span><span style=\"background-color: #FFF4F4\"> harry</span><span style=\"background-color: #FFF5F5\"> var</span><span style=\"background-color: #FFF4F4\"> ##don</span><span style=\"background-color: #FFF4F4\"> is</span><span style=\"background-color: #FFE5E5\"> haunted</span><span style=\"background-color: #FFF4F4\"> by</span><span style=\"background-color: #FFDFDF\"> images</span><span style=\"background-color: #FFF0F0\"> of</span><span style=\"background-color: #FFE6E6\"> the</span><span style=\"background-color: #FFF6F6\"> ari</span><span style=\"background-color: #FFCFCF\"> ##sto</span><span style=\"background-color: #FFEFEF\"> ##crats</span><span style=\"background-color: #FFF7F7\"> in</span><span style=\"background-color: #FFEAEA\"> black</span><span style=\"background-color: #FFE6E6\"> suits</span><span style=\"background-color: #FF7F7F\"> and</span><span style=\"background-color: #FFF1F1\"> top</span><span style=\"background-color: #FFF4F4\"> hats</span><span style=\"background-color: #FFE8E8\"> who</span><span style=\"background-color: #FFEEEE\"> destroyed</span><span style=\"background-color: #FFE6E6\"> his</span><span style=\"background-color: #FFE4E4\"> family</span><span style=\"background-color: #FFF0F0\"> cottage</span><span style=\"background-color: #FFF1F1\"> as</span><span style=\"background-color: #FFF2F2\"> a</span><span style=\"background-color: #FFEFEF\"> child</span><span style=\"background-color: #FFDCDC\"> to</span><span style=\"background-color: #FFE8E8\"> make</span><span style=\"background-color: #FFEAEA\"> way</span><span style=\"background-color: #FFEFEF\"> for</span><span style=\"background-color: #FFEEEE\"> a</span><span style=\"background-color: #FFE1E1\"> golf</span><br><br>[BERTのAttentionを可視化_4]<br><span style=\"background-color: #FFFEFE\"> [CLS]</span><span style=\"background-color: #FFFBFB\"> actor</span><span style=\"background-color: #FFFDFD\"> turned</span><span style=\"background-color: #FFF8F8\"> director</span><span style=\"background-color: #FFDDDD\"> bill</span><span style=\"background-color: #FFFCFC\"> paxton</span><span style=\"background-color: #FFFEFE\"> follows</span><span style=\"background-color: #FFF8F8\"> up</span><span style=\"background-color: #FFFBFB\"> his</span><span style=\"background-color: #FFECEC\"> promising</span><span style=\"background-color: #FFFEFE\"> debut</span><span style=\"background-color: #FFFAFA\"> ,</span><span style=\"background-color: #FFFEFE\"> the</span><span style=\"background-color: #FFEFEF\"> gothic</span><span style=\"background-color: #FFFBFB\"> horror</span><span style=\"background-color: #FFFDFD\"> frail</span><span style=\"background-color: #FFF5F5\"> ##ty</span><span style=\"background-color: #FFFBFB\"> ,</span><span style=\"background-color: #FF1414\"> with</span><span style=\"background-color: #FFF9F9\"> this</span><span style=\"background-color: #FFFDFD\"> family</span><span style=\"background-color: #FFFDFD\"> friendly</span><span style=\"background-color: #FFFAFA\"> sports</span><span style=\"background-color: #FFFCFC\"> drama</span><span style=\"background-color: #FFD1D1\"> about</span><span style=\"background-color: #FFFEFE\"> the</span><span style=\"background-color: #FFF9F9\"> 1913</span><span style=\"background-color: #FFFBFB\"> u</span><span style=\"background-color: #FFFCFC\"> .</span><span style=\"background-color: #FFFAFA\"> s</span><span style=\"background-color: #FFFAFA\"> .</span><span style=\"background-color: #FFF7F7\"> open</span><span style=\"background-color: #FFF9F9\"> where</span><span style=\"background-color: #FFF6F6\"> a</span><span style=\"background-color: #FFF0F0\"> young</span><span style=\"background-color: #FFFAFA\"> american</span><span style=\"background-color: #FFFEFE\"> cad</span><span style=\"background-color: #FFFEFE\"> ##dy</span><span style=\"background-color: #FFFEFE\"> rises</span><span style=\"background-color: #FFFAFA\"> from</span><span style=\"background-color: #FFCBCB\"> his</span><span style=\"background-color: #FFF6F6\"> humble</span><span style=\"background-color: #FFFCFC\"> background</span><span style=\"background-color: #FFFEFE\"> to</span><span style=\"background-color: #FFFEFE\"> play</span><span style=\"background-color: #FFB7B7\"> against</span><span style=\"background-color: #FFF7F7\"> his</span><span style=\"background-color: #FFFDFD\"> br</span><span style=\"background-color: #FFF5F5\"> ##ist</span><span style=\"background-color: #FFF0F0\"> ##ish</span><span style=\"background-color: #FFF1F1\"> idol</span><span style=\"background-color: #FFFEFE\"> in</span><span style=\"background-color: #FFF0F0\"> what</span><span style=\"background-color: #FFFBFB\"> was</span><span style=\"background-color: #FFFCFC\"> dubbed</span><span style=\"background-color: #FFBDBD\"> as</span><span style=\"background-color: #FFFCFC\"> the</span><span style=\"background-color: #FFFBFB\"> greatest</span><span style=\"background-color: #FFFDFD\"> game</span><span style=\"background-color: #FFFDFD\"> ever</span><span style=\"background-color: #FFFEFE\"> played</span><span style=\"background-color: #FFFCFC\"> .</span><span style=\"background-color: #FFF1F1\"> i</span><span style=\"background-color: #FFFEFE\"> m</span><span style=\"background-color: #FFFDFD\"> no</span><span style=\"background-color: #FFF7F7\"> fan</span><span style=\"background-color: #FFF8F8\"> of</span><span style=\"background-color: #FFFDFD\"> golf</span><span style=\"background-color: #FFFDFD\"> ,</span><span style=\"background-color: #FFFBFB\"> and</span><span style=\"background-color: #FFF9F9\"> these</span><span style=\"background-color: #FFEEEE\"> scrap</span><span style=\"background-color: #FFF8F8\"> ##py</span><span style=\"background-color: #FFFDFD\"> under</span><span style=\"background-color: #FFFCFC\"> ##dog</span><span style=\"background-color: #FFFCFC\"> sports</span><span style=\"background-color: #FFFBFB\"> flick</span><span style=\"background-color: #FFFEFE\"> ##s</span><span style=\"background-color: #FFFEFE\"> are</span><span style=\"background-color: #FFFCFC\"> a</span><span style=\"background-color: #FFFCFC\"> dime</span><span style=\"background-color: #FFF8F8\"> a</span><span style=\"background-color: #FFFAFA\"> dozen</span><span style=\"background-color: #FFF8F8\"> most</span><span style=\"background-color: #FFFBFB\"> recently</span><span style=\"background-color: #FFFBFB\"> done</span><span style=\"background-color: #FFFAFA\"> to</span><span style=\"background-color: #FFFCFC\"> grand</span><span style=\"background-color: #FFFDFD\"> effect</span><span style=\"background-color: #FF3232\"> with</span><span style=\"background-color: #FFF8F8\"> miracle</span><span style=\"background-color: #FFFAFA\"> and</span><span style=\"background-color: #FFFDFD\"> cinderella</span><span style=\"background-color: #FFFBFB\"> man</span><span style=\"background-color: #FFFDFD\"> ,</span><span style=\"background-color: #FFFCFC\"> but</span><span style=\"background-color: #FFF4F4\"> some</span><span style=\"background-color: #FFFBFB\"> how</span><span style=\"background-color: #FFF9F9\"> this</span><span style=\"background-color: #FFD1D1\"> film</span><span style=\"background-color: #FFFEFE\"> was</span><span style=\"background-color: #FFF6F6\"> en</span><span style=\"background-color: #FFFDFD\"> ##th</span><span style=\"background-color: #FFFCFC\"> ##ral</span><span style=\"background-color: #FFFEFE\"> ##ling</span><span style=\"background-color: #FFF4F4\"> all</span><span style=\"background-color: #FFFEFE\"> the</span><span style=\"background-color: #FFFCFC\"> same</span><span style=\"background-color: #FFFBFB\"> .</span><span style=\"background-color: #FFFEFE\"> br</span><span style=\"background-color: #FFF7F7\"> br</span><span style=\"background-color: #FFFDFD\"> the</span><span style=\"background-color: #FFC3C3\"> film</span><span style=\"background-color: #FFFEFE\"> starts</span><span style=\"background-color: #FF6F6F\"> with</span><span style=\"background-color: #FFFDFD\"> some</span><span style=\"background-color: #FFFEFE\"> creative</span><span style=\"background-color: #FFFEFE\"> opening</span><span style=\"background-color: #FFF0F0\"> credits</span><span style=\"background-color: #FFDFDF\"> imagine</span><span style=\"background-color: #FFF5F5\"> a</span><span style=\"background-color: #FFFAFA\"> disney</span><span style=\"background-color: #FFF4F4\"> ##fied</span><span style=\"background-color: #FF0000\"> version</span><span style=\"background-color: #FFFDFD\"> of</span><span style=\"background-color: #FFFEFE\"> the</span><span style=\"background-color: #FFE3E3\"> animated</span><span style=\"background-color: #FFFCFC\"> opening</span><span style=\"background-color: #FFFAFA\"> credits</span><span style=\"background-color: #FFF7F7\"> of</span><span style=\"background-color: #FFF1F1\"> hbo</span><span style=\"background-color: #FFFCFC\"> s</span><span style=\"background-color: #FFFEFE\"> carnival</span><span style=\"background-color: #FFF9F9\"> ##e</span><span style=\"background-color: #FFF4F4\"> and</span><span style=\"background-color: #FFFEFE\"> rome</span><span style=\"background-color: #FFFAFA\"> ,</span><span style=\"background-color: #FFFDFD\"> but</span><span style=\"background-color: #FFFDFD\"> lumber</span><span style=\"background-color: #FFFDFD\"> ##s</span><span style=\"background-color: #FFFDFD\"> along</span><span style=\"background-color: #FFF7F7\"> slowly</span><span style=\"background-color: #FFD9D9\"> for</span><span style=\"background-color: #FFF7F7\"> its</span><span style=\"background-color: #FFFBFB\"> first</span><span style=\"background-color: #FFFDFD\"> by</span><span style=\"background-color: #FFFCFC\"> the</span><span style=\"background-color: #FFFCFC\"> numbers</span><span style=\"background-color: #FFEFEF\"> hour</span><span style=\"background-color: #FFFBFB\"> .</span><span style=\"background-color: #FFEFEF\"> once</span><span style=\"background-color: #FFFBFB\"> the</span><span style=\"background-color: #FFDBDB\"> action</span><span style=\"background-color: #FFFAFA\"> moves</span><span style=\"background-color: #FFFEFE\"> to</span><span style=\"background-color: #FFFEFE\"> the</span><span style=\"background-color: #FFFAFA\"> u</span><span style=\"background-color: #FFF4F4\"> .</span><span style=\"background-color: #FFFBFB\"> s</span><span style=\"background-color: #FFFCFC\"> .</span><span style=\"background-color: #FFA5A5\"> open</span><span style=\"background-color: #FFF8F8\"> things</span><span style=\"background-color: #FFFCFC\"> pick</span><span style=\"background-color: #FFF5F5\"> up</span><span style=\"background-color: #FFF6F6\"> very</span><span style=\"background-color: #FFFCFC\"> well</span><span style=\"background-color: #FFF9F9\"> .</span><span style=\"background-color: #FFF6F6\"> paxton</span><span style=\"background-color: #FFC8C8\"> does</span><span style=\"background-color: #FFF0F0\"> a</span><span style=\"background-color: #FFDCDC\"> nice</span><span style=\"background-color: #FFF6F6\"> job</span><span style=\"background-color: #FFFDFD\"> and</span><span style=\"background-color: #FFFDFD\"> shows</span><span style=\"background-color: #FFF5F5\"> a</span><span style=\"background-color: #FFF6F6\"> kn</span><span style=\"background-color: #FFF9F9\"> ##ack</span><span style=\"background-color: #FFB7B7\"> for</span><span style=\"background-color: #FFF7F7\"> effective</span><span style=\"background-color: #FFFEFE\"> directorial</span><span style=\"background-color: #FFFAFA\"> flourish</span><span style=\"background-color: #FFEFEF\"> ##es</span><span style=\"background-color: #FFFDFD\"> i</span><span style=\"background-color: #FFFCFC\"> loved</span><span style=\"background-color: #FFFDFD\"> the</span><span style=\"background-color: #FFFBFB\"> rain</span><span style=\"background-color: #FFFDFD\"> soaked</span><span style=\"background-color: #FFFAFA\"> mont</span><span style=\"background-color: #FFF7F7\"> ##age</span><span style=\"background-color: #FFFEFE\"> of</span><span style=\"background-color: #FFFDFD\"> the</span><span style=\"background-color: #FFF0F0\"> action</span><span style=\"background-color: #FFF3F3\"> on</span><span style=\"background-color: #FFF7F7\"> day</span><span style=\"background-color: #FFEBEB\"> two</span><span style=\"background-color: #FFFAFA\"> of</span><span style=\"background-color: #FFFEFE\"> the</span><span style=\"background-color: #FFF9F9\"> open</span><span style=\"background-color: #FFFDFD\"> that</span><span style=\"background-color: #FFF7F7\"> prop</span><span style=\"background-color: #FFFCFC\"> ##el</span><span style=\"background-color: #FFFEFE\"> the</span><span style=\"background-color: #FFF5F5\"> plot</span><span style=\"background-color: #FFEFEF\"> further</span><span style=\"background-color: #FFF3F3\"> or</span><span style=\"background-color: #FFFBFB\"> add</span><span style=\"background-color: #FFFBFB\"> some</span><span style=\"background-color: #FFEAEA\"> unexpected</span><span style=\"background-color: #FFF8F8\"> psychological</span><span style=\"background-color: #FFFAFA\"> depth</span><span style=\"background-color: #FFFEFE\"> to</span><span style=\"background-color: #FFFDFD\"> the</span><span style=\"background-color: #FFFCFC\"> proceedings</span><span style=\"background-color: #FFF9F9\"> .</span><span style=\"background-color: #FFFEFE\"> there</span><span style=\"background-color: #FFFAFA\"> s</span><span style=\"background-color: #FFF6F6\"> some</span><span style=\"background-color: #FFFAFA\"> compelling</span><span style=\"background-color: #FFF4F4\"> character</span><span style=\"background-color: #FFF9F9\"> development</span><span style=\"background-color: #FFFCFC\"> when</span><span style=\"background-color: #FFF9F9\"> the</span><span style=\"background-color: #FFFDFD\"> british</span><span style=\"background-color: #FFD9D9\"> harry</span><span style=\"background-color: #FFF6F6\"> var</span><span style=\"background-color: #FFFDFD\"> ##don</span><span style=\"background-color: #FF7676\"> is</span><span style=\"background-color: #FFFCFC\"> haunted</span><span style=\"background-color: #FFFEFE\"> by</span><span style=\"background-color: #FFFDFD\"> images</span><span style=\"background-color: #FFFEFE\"> of</span><span style=\"background-color: #FFFDFD\"> the</span><span style=\"background-color: #FFFEFE\"> ari</span><span style=\"background-color: #FFFEFE\"> ##sto</span><span style=\"background-color: #FFCDCD\"> ##crats</span><span style=\"background-color: #FFFEFE\"> in</span><span style=\"background-color: #FFF5F5\"> black</span><span style=\"background-color: #FFFEFE\"> suits</span><span style=\"background-color: #FFF9F9\"> and</span><span style=\"background-color: #FFFDFD\"> top</span><span style=\"background-color: #FFFDFD\"> hats</span><span style=\"background-color: #FFFAFA\"> who</span><span style=\"background-color: #FFF7F7\"> destroyed</span><span style=\"background-color: #FFF7F7\"> his</span><span style=\"background-color: #FFFEFE\"> family</span><span style=\"background-color: #FFF9F9\"> cottage</span><span style=\"background-color: #FFF7F7\"> as</span><span style=\"background-color: #FFFBFB\"> a</span><span style=\"background-color: #FFFCFC\"> child</span><span style=\"background-color: #FFFEFE\"> to</span><span style=\"background-color: #FFF6F6\"> make</span><span style=\"background-color: #FFFCFC\"> way</span><span style=\"background-color: #FFEAEA\"> for</span><span style=\"background-color: #FFFBFB\"> a</span><span style=\"background-color: #FFFBFB\"> golf</span><br><br>[BERTのAttentionを可視化_5]<br><span style=\"background-color: #FFFCFC\"> [CLS]</span><span style=\"background-color: #FFFCFC\"> actor</span><span style=\"background-color: #FFFCFC\"> turned</span><span style=\"background-color: #FFFEFE\"> director</span><span style=\"background-color: #FFFDFD\"> bill</span><span style=\"background-color: #FFFDFD\"> paxton</span><span style=\"background-color: #FFFEFE\"> follows</span><span style=\"background-color: #FFFDFD\"> up</span><span style=\"background-color: #FFF4F4\"> his</span><span style=\"background-color: #FFFEFE\"> promising</span><span style=\"background-color: #FFFDFD\"> debut</span><span style=\"background-color: #FFFDFD\"> ,</span><span style=\"background-color: #FFFEFE\"> the</span><span style=\"background-color: #FFF2F2\"> gothic</span><span style=\"background-color: #FFFEFE\"> horror</span><span style=\"background-color: #FFFEFE\"> frail</span><span style=\"background-color: #FFFEFE\"> ##ty</span><span style=\"background-color: #FFFEFE\"> ,</span><span style=\"background-color: #FFFDFD\"> with</span><span style=\"background-color: #FFFEFE\"> this</span><span style=\"background-color: #FFFDFD\"> family</span><span style=\"background-color: #FFFEFE\"> friendly</span><span style=\"background-color: #FFFEFE\"> sports</span><span style=\"background-color: #FFFCFC\"> drama</span><span style=\"background-color: #FFF9F9\"> about</span><span style=\"background-color: #FFFEFE\"> the</span><span style=\"background-color: #FFFEFE\"> 1913</span><span style=\"background-color: #FFFEFE\"> u</span><span style=\"background-color: #FFFEFE\"> .</span><span style=\"background-color: #FFF7F7\"> s</span><span style=\"background-color: #FFFEFE\"> .</span><span style=\"background-color: #FFFAFA\"> open</span><span style=\"background-color: #FFFBFB\"> where</span><span style=\"background-color: #FFFEFE\"> a</span><span style=\"background-color: #FFFEFE\"> young</span><span style=\"background-color: #FFFBFB\"> american</span><span style=\"background-color: #FFFEFE\"> cad</span><span style=\"background-color: #FFFEFE\"> ##dy</span><span style=\"background-color: #FFFDFD\"> rises</span><span style=\"background-color: #FFFCFC\"> from</span><span style=\"background-color: #FFF9F9\"> his</span><span style=\"background-color: #FFFAFA\"> humble</span><span style=\"background-color: #FFFAFA\"> background</span><span style=\"background-color: #FFEEEE\"> to</span><span style=\"background-color: #FFFCFC\"> play</span><span style=\"background-color: #FFFEFE\"> against</span><span style=\"background-color: #FFF5F5\"> his</span><span style=\"background-color: #FFFAFA\"> br</span><span style=\"background-color: #FF2A2A\"> ##ist</span><span style=\"background-color: #FFFEFE\"> ##ish</span><span style=\"background-color: #FFFBFB\"> idol</span><span style=\"background-color: #FFFDFD\"> in</span><span style=\"background-color: #FFF9F9\"> what</span><span style=\"background-color: #FFFEFE\"> was</span><span style=\"background-color: #FFF4F4\"> dubbed</span><span style=\"background-color: #FFD0D0\"> as</span><span style=\"background-color: #FFFDFD\"> the</span><span style=\"background-color: #FFF9F9\"> greatest</span><span style=\"background-color: #FFF5F5\"> game</span><span style=\"background-color: #FFEAEA\"> ever</span><span style=\"background-color: #FFFEFE\"> played</span><span style=\"background-color: #FFFEFE\"> .</span><span style=\"background-color: #FFE6E6\"> i</span><span style=\"background-color: #FFFDFD\"> m</span><span style=\"background-color: #FFFEFE\"> no</span><span style=\"background-color: #FFF9F9\"> fan</span><span style=\"background-color: #FFF7F7\"> of</span><span style=\"background-color: #FFFCFC\"> golf</span><span style=\"background-color: #FFFDFD\"> ,</span><span style=\"background-color: #FF4848\"> and</span><span style=\"background-color: #FFF8F8\"> these</span><span style=\"background-color: #FFF6F6\"> scrap</span><span style=\"background-color: #FFF2F2\"> ##py</span><span style=\"background-color: #FFFDFD\"> under</span><span style=\"background-color: #FFFCFC\"> ##dog</span><span style=\"background-color: #FFFEFE\"> sports</span><span style=\"background-color: #FFFDFD\"> flick</span><span style=\"background-color: #FFFCFC\"> ##s</span><span style=\"background-color: #FFFBFB\"> are</span><span style=\"background-color: #FFFEFE\"> a</span><span style=\"background-color: #FFFEFE\"> dime</span><span style=\"background-color: #FFFEFE\"> a</span><span style=\"background-color: #FFFEFE\"> dozen</span><span style=\"background-color: #FFF7F7\"> most</span><span style=\"background-color: #FFFEFE\"> recently</span><span style=\"background-color: #FFFDFD\"> done</span><span style=\"background-color: #FF9F9F\"> to</span><span style=\"background-color: #FFFDFD\"> grand</span><span style=\"background-color: #FFFEFE\"> effect</span><span style=\"background-color: #FFFDFD\"> with</span><span style=\"background-color: #FFFEFE\"> miracle</span><span style=\"background-color: #FFD3D3\"> and</span><span style=\"background-color: #FFFDFD\"> cinderella</span><span style=\"background-color: #FFFCFC\"> man</span><span style=\"background-color: #FFFEFE\"> ,</span><span style=\"background-color: #FFFAFA\"> but</span><span style=\"background-color: #FFF9F9\"> some</span><span style=\"background-color: #FFFBFB\"> how</span><span style=\"background-color: #FFFDFD\"> this</span><span style=\"background-color: #FFFEFE\"> film</span><span style=\"background-color: #FFFDFD\"> was</span><span style=\"background-color: #FFFCFC\"> en</span><span style=\"background-color: #FFFAFA\"> ##th</span><span style=\"background-color: #FFFDFD\"> ##ral</span><span style=\"background-color: #FFFDFD\"> ##ling</span><span style=\"background-color: #FFFAFA\"> all</span><span style=\"background-color: #FFFEFE\"> the</span><span style=\"background-color: #FFFEFE\"> same</span><span style=\"background-color: #FFFEFE\"> .</span><span style=\"background-color: #FFFDFD\"> br</span><span style=\"background-color: #FFF7F7\"> br</span><span style=\"background-color: #FFFDFD\"> the</span><span style=\"background-color: #FFFEFE\"> film</span><span style=\"background-color: #FFFDFD\"> starts</span><span style=\"background-color: #FFFDFD\"> with</span><span style=\"background-color: #FFF4F4\"> some</span><span style=\"background-color: #FFFDFD\"> creative</span><span style=\"background-color: #FFFBFB\"> opening</span><span style=\"background-color: #FFF5F5\"> credits</span><span style=\"background-color: #FFFAFA\"> imagine</span><span style=\"background-color: #FFFEFE\"> a</span><span style=\"background-color: #FFF4F4\"> disney</span><span style=\"background-color: #FFFDFD\"> ##fied</span><span style=\"background-color: #FFF5F5\"> version</span><span style=\"background-color: #FFFEFE\"> of</span><span style=\"background-color: #FFFEFE\"> the</span><span style=\"background-color: #FFFCFC\"> animated</span><span style=\"background-color: #FFFCFC\"> opening</span><span style=\"background-color: #FFFEFE\"> credits</span><span style=\"background-color: #FFFEFE\"> of</span><span style=\"background-color: #FFFEFE\"> hbo</span><span style=\"background-color: #FFF7F7\"> s</span><span style=\"background-color: #FFFBFB\"> carnival</span><span style=\"background-color: #FFFEFE\"> ##e</span><span style=\"background-color: #FFDADA\"> and</span><span style=\"background-color: #FFFEFE\"> rome</span><span style=\"background-color: #FFFEFE\"> ,</span><span style=\"background-color: #FFFBFB\"> but</span><span style=\"background-color: #FFFDFD\"> lumber</span><span style=\"background-color: #FFFAFA\"> ##s</span><span style=\"background-color: #FFFDFD\"> along</span><span style=\"background-color: #FFFEFE\"> slowly</span><span style=\"background-color: #FFEBEB\"> for</span><span style=\"background-color: #FFFDFD\"> its</span><span style=\"background-color: #FFFCFC\"> first</span><span style=\"background-color: #FFFBFB\"> by</span><span style=\"background-color: #FFFDFD\"> the</span><span style=\"background-color: #FFF1F1\"> numbers</span><span style=\"background-color: #FFFBFB\"> hour</span><span style=\"background-color: #FFFEFE\"> .</span><span style=\"background-color: #FFFEFE\"> once</span><span style=\"background-color: #FFFEFE\"> the</span><span style=\"background-color: #FFFCFC\"> action</span><span style=\"background-color: #FFFCFC\"> moves</span><span style=\"background-color: #FFE8E8\"> to</span><span style=\"background-color: #FFFDFD\"> the</span><span style=\"background-color: #FFFEFE\"> u</span><span style=\"background-color: #FFFDFD\"> .</span><span style=\"background-color: #FFF6F6\"> s</span><span style=\"background-color: #FFFBFB\"> .</span><span style=\"background-color: #FFFCFC\"> open</span><span style=\"background-color: #FFFEFE\"> things</span><span style=\"background-color: #FFEAEA\"> pick</span><span style=\"background-color: #FFFEFE\"> up</span><span style=\"background-color: #FFF4F4\"> very</span><span style=\"background-color: #FFFEFE\"> well</span><span style=\"background-color: #FFFEFE\"> .</span><span style=\"background-color: #FFFCFC\"> paxton</span><span style=\"background-color: #FFFEFE\"> does</span><span style=\"background-color: #FFFEFE\"> a</span><span style=\"background-color: #FFFEFE\"> nice</span><span style=\"background-color: #FFFDFD\"> job</span><span style=\"background-color: #FFD6D6\"> and</span><span style=\"background-color: #FFFDFD\"> shows</span><span style=\"background-color: #FFFEFE\"> a</span><span style=\"background-color: #FFFEFE\"> kn</span><span style=\"background-color: #FFFBFB\"> ##ack</span><span style=\"background-color: #FFFDFD\"> for</span><span style=\"background-color: #FFFDFD\"> effective</span><span style=\"background-color: #FFFCFC\"> directorial</span><span style=\"background-color: #FFFDFD\"> flourish</span><span style=\"background-color: #FFFDFD\"> ##es</span><span style=\"background-color: #FFFDFD\"> i</span><span style=\"background-color: #FFFBFB\"> loved</span><span style=\"background-color: #FFFEFE\"> the</span><span style=\"background-color: #FFFEFE\"> rain</span><span style=\"background-color: #FFFCFC\"> soaked</span><span style=\"background-color: #FFFEFE\"> mont</span><span style=\"background-color: #FFFCFC\"> ##age</span><span style=\"background-color: #FFFEFE\"> of</span><span style=\"background-color: #FFFBFB\"> the</span><span style=\"background-color: #FFFEFE\"> action</span><span style=\"background-color: #FFFEFE\"> on</span><span style=\"background-color: #FFFDFD\"> day</span><span style=\"background-color: #FFE9E9\"> two</span><span style=\"background-color: #FFFCFC\"> of</span><span style=\"background-color: #FFF8F8\"> the</span><span style=\"background-color: #FFF9F9\"> open</span><span style=\"background-color: #FFF7F7\"> that</span><span style=\"background-color: #FFFEFE\"> prop</span><span style=\"background-color: #FFFBFB\"> ##el</span><span style=\"background-color: #FFFEFE\"> the</span><span style=\"background-color: #FFFEFE\"> plot</span><span style=\"background-color: #FFFDFD\"> further</span><span style=\"background-color: #FFF2F2\"> or</span><span style=\"background-color: #FFFEFE\"> add</span><span style=\"background-color: #FFFCFC\"> some</span><span style=\"background-color: #FFFEFE\"> unexpected</span><span style=\"background-color: #FFFBFB\"> psychological</span><span style=\"background-color: #FFFEFE\"> depth</span><span style=\"background-color: #FFB7B7\"> to</span><span style=\"background-color: #FFFEFE\"> the</span><span style=\"background-color: #FFFEFE\"> proceedings</span><span style=\"background-color: #FFFEFE\"> .</span><span style=\"background-color: #FFFEFE\"> there</span><span style=\"background-color: #FFFEFE\"> s</span><span style=\"background-color: #FFF2F2\"> some</span><span style=\"background-color: #FFF3F3\"> compelling</span><span style=\"background-color: #FFFCFC\"> character</span><span style=\"background-color: #FFFEFE\"> development</span><span style=\"background-color: #FFFEFE\"> when</span><span style=\"background-color: #FFFAFA\"> the</span><span style=\"background-color: #FFFCFC\"> british</span><span style=\"background-color: #FFEDED\"> harry</span><span style=\"background-color: #FFFEFE\"> var</span><span style=\"background-color: #FFFEFE\"> ##don</span><span style=\"background-color: #FFFEFE\"> is</span><span style=\"background-color: #FFFEFE\"> haunted</span><span style=\"background-color: #FFFCFC\"> by</span><span style=\"background-color: #FFFEFE\"> images</span><span style=\"background-color: #FFFDFD\"> of</span><span style=\"background-color: #FFFEFE\"> the</span><span style=\"background-color: #FFFEFE\"> ari</span><span style=\"background-color: #FFFDFD\"> ##sto</span><span style=\"background-color: #FFFEFE\"> ##crats</span><span style=\"background-color: #FFFEFE\"> in</span><span style=\"background-color: #FFFCFC\"> black</span><span style=\"background-color: #FFFDFD\"> suits</span><span style=\"background-color: #FF0000\"> and</span><span style=\"background-color: #FFFDFD\"> top</span><span style=\"background-color: #FFFDFD\"> hats</span><span style=\"background-color: #FFF7F7\"> who</span><span style=\"background-color: #FFFEFE\"> destroyed</span><span style=\"background-color: #FFFDFD\"> his</span><span style=\"background-color: #FFFEFE\"> family</span><span style=\"background-color: #FFFDFD\"> cottage</span><span style=\"background-color: #FFFCFC\"> as</span><span style=\"background-color: #FFFEFE\"> a</span><span style=\"background-color: #FFFBFB\"> child</span><span style=\"background-color: #FFE3E3\"> to</span><span style=\"background-color: #FFFCFC\"> make</span><span style=\"background-color: #FFFAFA\"> way</span><span style=\"background-color: #FFFBFB\"> for</span><span style=\"background-color: #FFFEFE\"> a</span><span style=\"background-color: #FFFAFA\"> golf</span><br><br>[BERTのAttentionを可視化_6]<br><span style=\"background-color: #FFFEFE\"> [CLS]</span><span style=\"background-color: #FFFEFE\"> actor</span><span style=\"background-color: #FFFEFE\"> turned</span><span style=\"background-color: #FFFEFE\"> director</span><span style=\"background-color: #FFFEFE\"> bill</span><span style=\"background-color: #FFFEFE\"> paxton</span><span style=\"background-color: #FFFEFE\"> follows</span><span style=\"background-color: #FFFEFE\"> up</span><span style=\"background-color: #FFFEFE\"> his</span><span style=\"background-color: #FFFBFB\"> promising</span><span style=\"background-color: #FFFEFE\"> debut</span><span style=\"background-color: #FFEAEA\"> ,</span><span style=\"background-color: #FFFEFE\"> the</span><span style=\"background-color: #FFFEFE\"> gothic</span><span style=\"background-color: #FFFEFE\"> horror</span><span style=\"background-color: #FFFEFE\"> frail</span><span style=\"background-color: #FFFEFE\"> ##ty</span><span style=\"background-color: #FFF9F9\"> ,</span><span style=\"background-color: #FFFEFE\"> with</span><span style=\"background-color: #FF0000\"> this</span><span style=\"background-color: #FFFEFE\"> family</span><span style=\"background-color: #FFFDFD\"> friendly</span><span style=\"background-color: #FFFEFE\"> sports</span><span style=\"background-color: #FFFEFE\"> drama</span><span style=\"background-color: #FFFEFE\"> about</span><span style=\"background-color: #FFFEFE\"> the</span><span style=\"background-color: #FFFDFD\"> 1913</span><span style=\"background-color: #FFFEFE\"> u</span><span style=\"background-color: #FFFEFE\"> .</span><span style=\"background-color: #FFFEFE\"> s</span><span style=\"background-color: #FFFEFE\"> .</span><span style=\"background-color: #FFFEFE\"> open</span><span style=\"background-color: #FFFEFE\"> where</span><span style=\"background-color: #FFFEFE\"> a</span><span style=\"background-color: #FFFEFE\"> young</span><span style=\"background-color: #FFFEFE\"> american</span><span style=\"background-color: #FFFEFE\"> cad</span><span style=\"background-color: #FFFEFE\"> ##dy</span><span style=\"background-color: #FFFEFE\"> rises</span><span style=\"background-color: #FFFEFE\"> from</span><span style=\"background-color: #FFFEFE\"> his</span><span style=\"background-color: #FFFEFE\"> humble</span><span style=\"background-color: #FFFEFE\"> background</span><span style=\"background-color: #FFFEFE\"> to</span><span style=\"background-color: #FFFEFE\"> play</span><span style=\"background-color: #FFFEFE\"> against</span><span style=\"background-color: #FFFEFE\"> his</span><span style=\"background-color: #FFFEFE\"> br</span><span style=\"background-color: #FFFEFE\"> ##ist</span><span style=\"background-color: #FFFEFE\"> ##ish</span><span style=\"background-color: #FFFDFD\"> idol</span><span style=\"background-color: #FFFEFE\"> in</span><span style=\"background-color: #FFFEFE\"> what</span><span style=\"background-color: #FFFEFE\"> was</span><span style=\"background-color: #FFFEFE\"> dubbed</span><span style=\"background-color: #FFFEFE\"> as</span><span style=\"background-color: #FFFEFE\"> the</span><span style=\"background-color: #FFFEFE\"> greatest</span><span style=\"background-color: #FFFEFE\"> game</span><span style=\"background-color: #FFFEFE\"> ever</span><span style=\"background-color: #FFFEFE\"> played</span><span style=\"background-color: #FFFEFE\"> .</span><span style=\"background-color: #FFFEFE\"> i</span><span style=\"background-color: #FFFEFE\"> m</span><span style=\"background-color: #FFFEFE\"> no</span><span style=\"background-color: #FFFEFE\"> fan</span><span style=\"background-color: #FFFEFE\"> of</span><span style=\"background-color: #FFFEFE\"> golf</span><span style=\"background-color: #FFF7F7\"> ,</span><span style=\"background-color: #FFFEFE\"> and</span><span style=\"background-color: #FFFEFE\"> these</span><span style=\"background-color: #FFFEFE\"> scrap</span><span style=\"background-color: #FFFEFE\"> ##py</span><span style=\"background-color: #FFFEFE\"> under</span><span style=\"background-color: #FFFEFE\"> ##dog</span><span style=\"background-color: #FFFEFE\"> sports</span><span style=\"background-color: #FFFEFE\"> flick</span><span style=\"background-color: #FFFEFE\"> ##s</span><span style=\"background-color: #FFFEFE\"> are</span><span style=\"background-color: #FFFEFE\"> a</span><span style=\"background-color: #FFFEFE\"> dime</span><span style=\"background-color: #FFFEFE\"> a</span><span style=\"background-color: #FFFEFE\"> dozen</span><span style=\"background-color: #FFFEFE\"> most</span><span style=\"background-color: #FFFEFE\"> recently</span><span style=\"background-color: #FFFEFE\"> done</span><span style=\"background-color: #FFFEFE\"> to</span><span style=\"background-color: #FFFEFE\"> grand</span><span style=\"background-color: #FFFEFE\"> effect</span><span style=\"background-color: #FFFDFD\"> with</span><span style=\"background-color: #FFFEFE\"> miracle</span><span style=\"background-color: #FFFEFE\"> and</span><span style=\"background-color: #FFFEFE\"> cinderella</span><span style=\"background-color: #FFFEFE\"> man</span><span style=\"background-color: #FFF7F7\"> ,</span><span style=\"background-color: #FFFEFE\"> but</span><span style=\"background-color: #FFFEFE\"> some</span><span style=\"background-color: #FFFEFE\"> how</span><span style=\"background-color: #FFCCCC\"> this</span><span style=\"background-color: #FFFEFE\"> film</span><span style=\"background-color: #FFFEFE\"> was</span><span style=\"background-color: #FFFEFE\"> en</span><span style=\"background-color: #FFFEFE\"> ##th</span><span style=\"background-color: #FFFEFE\"> ##ral</span><span style=\"background-color: #FFFCFC\"> ##ling</span><span style=\"background-color: #FFFEFE\"> all</span><span style=\"background-color: #FFFEFE\"> the</span><span style=\"background-color: #FFFEFE\"> same</span><span style=\"background-color: #FFFEFE\"> .</span><span style=\"background-color: #FFFEFE\"> br</span><span style=\"background-color: #FFFEFE\"> br</span><span style=\"background-color: #FFFEFE\"> the</span><span style=\"background-color: #FFFEFE\"> film</span><span style=\"background-color: #FFFEFE\"> starts</span><span style=\"background-color: #FFFEFE\"> with</span><span style=\"background-color: #FFFEFE\"> some</span><span style=\"background-color: #FFFEFE\"> creative</span><span style=\"background-color: #FFFEFE\"> opening</span><span style=\"background-color: #FFFEFE\"> credits</span><span style=\"background-color: #FFFEFE\"> imagine</span><span style=\"background-color: #FFFEFE\"> a</span><span style=\"background-color: #FFFEFE\"> disney</span><span style=\"background-color: #FFFEFE\"> ##fied</span><span style=\"background-color: #FFFEFE\"> version</span><span style=\"background-color: #FFFEFE\"> of</span><span style=\"background-color: #FFFEFE\"> the</span><span style=\"background-color: #FFFEFE\"> animated</span><span style=\"background-color: #FFFEFE\"> opening</span><span style=\"background-color: #FFFEFE\"> credits</span><span style=\"background-color: #FFFEFE\"> of</span><span style=\"background-color: #FFFEFE\"> hbo</span><span style=\"background-color: #FFFEFE\"> s</span><span style=\"background-color: #FFFDFD\"> carnival</span><span style=\"background-color: #FFFEFE\"> ##e</span><span style=\"background-color: #FFFEFE\"> and</span><span style=\"background-color: #FFFEFE\"> rome</span><span style=\"background-color: #FFF9F9\"> ,</span><span style=\"background-color: #FFFEFE\"> but</span><span style=\"background-color: #FFFEFE\"> lumber</span><span style=\"background-color: #FFFEFE\"> ##s</span><span style=\"background-color: #FFFEFE\"> along</span><span style=\"background-color: #FFFEFE\"> slowly</span><span style=\"background-color: #FFFEFE\"> for</span><span style=\"background-color: #FFFCFC\"> its</span><span style=\"background-color: #FFFDFD\"> first</span><span style=\"background-color: #FFFEFE\"> by</span><span style=\"background-color: #FFFEFE\"> the</span><span style=\"background-color: #FFFEFE\"> numbers</span><span style=\"background-color: #FFFEFE\"> hour</span><span style=\"background-color: #FFFEFE\"> .</span><span style=\"background-color: #FFFEFE\"> once</span><span style=\"background-color: #FFFEFE\"> the</span><span style=\"background-color: #FFFEFE\"> action</span><span style=\"background-color: #FFFEFE\"> moves</span><span style=\"background-color: #FFFEFE\"> to</span><span style=\"background-color: #FFFEFE\"> the</span><span style=\"background-color: #FFFEFE\"> u</span><span style=\"background-color: #FFFEFE\"> .</span><span style=\"background-color: #FFFEFE\"> s</span><span style=\"background-color: #FFFEFE\"> .</span><span style=\"background-color: #FFFEFE\"> open</span><span style=\"background-color: #FFFEFE\"> things</span><span style=\"background-color: #FFFEFE\"> pick</span><span style=\"background-color: #FFFEFE\"> up</span><span style=\"background-color: #FFFEFE\"> very</span><span style=\"background-color: #FFFEFE\"> well</span><span style=\"background-color: #FFFEFE\"> .</span><span style=\"background-color: #FFFEFE\"> paxton</span><span style=\"background-color: #FFFEFE\"> does</span><span style=\"background-color: #FFFEFE\"> a</span><span style=\"background-color: #FFFEFE\"> nice</span><span style=\"background-color: #FFFEFE\"> job</span><span style=\"background-color: #FFFEFE\"> and</span><span style=\"background-color: #FFFEFE\"> shows</span><span style=\"background-color: #FFFEFE\"> a</span><span style=\"background-color: #FFFEFE\"> kn</span><span style=\"background-color: #FFFEFE\"> ##ack</span><span style=\"background-color: #FFFEFE\"> for</span><span style=\"background-color: #FFFEFE\"> effective</span><span style=\"background-color: #FFFEFE\"> directorial</span><span style=\"background-color: #FFFEFE\"> flourish</span><span style=\"background-color: #FFFEFE\"> ##es</span><span style=\"background-color: #FFFEFE\"> i</span><span style=\"background-color: #FFFEFE\"> loved</span><span style=\"background-color: #FFFEFE\"> the</span><span style=\"background-color: #FFFEFE\"> rain</span><span style=\"background-color: #FFFEFE\"> soaked</span><span style=\"background-color: #FFFEFE\"> mont</span><span style=\"background-color: #FFFEFE\"> ##age</span><span style=\"background-color: #FFFEFE\"> of</span><span style=\"background-color: #FFFEFE\"> the</span><span style=\"background-color: #FFFEFE\"> action</span><span style=\"background-color: #FFFEFE\"> on</span><span style=\"background-color: #FFFEFE\"> day</span><span style=\"background-color: #FFFEFE\"> two</span><span style=\"background-color: #FFFEFE\"> of</span><span style=\"background-color: #FFFEFE\"> the</span><span style=\"background-color: #FFFEFE\"> open</span><span style=\"background-color: #FFFEFE\"> that</span><span style=\"background-color: #FFFEFE\"> prop</span><span style=\"background-color: #FFFEFE\"> ##el</span><span style=\"background-color: #FFFEFE\"> the</span><span style=\"background-color: #FFFEFE\"> plot</span><span style=\"background-color: #FFFEFE\"> further</span><span style=\"background-color: #FFFEFE\"> or</span><span style=\"background-color: #FFFEFE\"> add</span><span style=\"background-color: #FFFEFE\"> some</span><span style=\"background-color: #FFFEFE\"> unexpected</span><span style=\"background-color: #FFFEFE\"> psychological</span><span style=\"background-color: #FFFDFD\"> depth</span><span style=\"background-color: #FFFEFE\"> to</span><span style=\"background-color: #FFFEFE\"> the</span><span style=\"background-color: #FFFEFE\"> proceedings</span><span style=\"background-color: #FFFEFE\"> .</span><span style=\"background-color: #FFFEFE\"> there</span><span style=\"background-color: #FFFEFE\"> s</span><span style=\"background-color: #FFFEFE\"> some</span><span style=\"background-color: #FFFBFB\"> compelling</span><span style=\"background-color: #FFFDFD\"> character</span><span style=\"background-color: #FFFEFE\"> development</span><span style=\"background-color: #FFFEFE\"> when</span><span style=\"background-color: #FFFEFE\"> the</span><span style=\"background-color: #FFFEFE\"> british</span><span style=\"background-color: #FFFEFE\"> harry</span><span style=\"background-color: #FFFEFE\"> var</span><span style=\"background-color: #FFFEFE\"> ##don</span><span style=\"background-color: #FFFEFE\"> is</span><span style=\"background-color: #FFFEFE\"> haunted</span><span style=\"background-color: #FFFEFE\"> by</span><span style=\"background-color: #FFFEFE\"> images</span><span style=\"background-color: #FFFEFE\"> of</span><span style=\"background-color: #FFFEFE\"> the</span><span style=\"background-color: #FFFEFE\"> ari</span><span style=\"background-color: #FFFEFE\"> ##sto</span><span style=\"background-color: #FFFEFE\"> ##crats</span><span style=\"background-color: #FFFEFE\"> in</span><span style=\"background-color: #FFFEFE\"> black</span><span style=\"background-color: #FFFEFE\"> suits</span><span style=\"background-color: #FFFDFD\"> and</span><span style=\"background-color: #FFFEFE\"> top</span><span style=\"background-color: #FFFEFE\"> hats</span><span style=\"background-color: #FFFEFE\"> who</span><span style=\"background-color: #FFFEFE\"> destroyed</span><span style=\"background-color: #FFFEFE\"> his</span><span style=\"background-color: #FFFEFE\"> family</span><span style=\"background-color: #FFFEFE\"> cottage</span><span style=\"background-color: #FFFEFE\"> as</span><span style=\"background-color: #FFFEFE\"> a</span><span style=\"background-color: #FFFEFE\"> child</span><span style=\"background-color: #FFFEFE\"> to</span><span style=\"background-color: #FFFEFE\"> make</span><span style=\"background-color: #FFFEFE\"> way</span><span style=\"background-color: #FFFEFE\"> for</span><span style=\"background-color: #FFFEFE\"> a</span><span style=\"background-color: #FFFDFD\"> golf</span><br><br>[BERTのAttentionを可視化_7]<br><span style=\"background-color: #FFFDFD\"> [CLS]</span><span style=\"background-color: #FFF5F5\"> actor</span><span style=\"background-color: #FFFCFC\"> turned</span><span style=\"background-color: #FFFAFA\"> director</span><span style=\"background-color: #FFFDFD\"> bill</span><span style=\"background-color: #FFF7F7\"> paxton</span><span style=\"background-color: #FFFDFD\"> follows</span><span style=\"background-color: #FFF2F2\"> up</span><span style=\"background-color: #FFF3F3\"> his</span><span style=\"background-color: #FFF8F8\"> promising</span><span style=\"background-color: #FFF6F6\"> debut</span><span style=\"background-color: #FFFDFD\"> ,</span><span style=\"background-color: #FFFEFE\"> the</span><span style=\"background-color: #FFE7E7\"> gothic</span><span style=\"background-color: #FFFBFB\"> horror</span><span style=\"background-color: #FFEEEE\"> frail</span><span style=\"background-color: #FFF9F9\"> ##ty</span><span style=\"background-color: #FFFDFD\"> ,</span><span style=\"background-color: #FFF3F3\"> with</span><span style=\"background-color: #FFF6F6\"> this</span><span style=\"background-color: #FFE7E7\"> family</span><span style=\"background-color: #FFDEDE\"> friendly</span><span style=\"background-color: #FFF8F8\"> sports</span><span style=\"background-color: #FFFEFE\"> drama</span><span style=\"background-color: #FFF6F6\"> about</span><span style=\"background-color: #FFFDFD\"> the</span><span style=\"background-color: #FFFEFE\"> 1913</span><span style=\"background-color: #FFF7F7\"> u</span><span style=\"background-color: #FFECEC\"> .</span><span style=\"background-color: #FFFEFE\"> s</span><span style=\"background-color: #FFECEC\"> .</span><span style=\"background-color: #FFFDFD\"> open</span><span style=\"background-color: #FFFAFA\"> where</span><span style=\"background-color: #FFF0F0\"> a</span><span style=\"background-color: #FFFEFE\"> young</span><span style=\"background-color: #FFF8F8\"> american</span><span style=\"background-color: #FFFCFC\"> cad</span><span style=\"background-color: #FFF9F9\"> ##dy</span><span style=\"background-color: #FFFDFD\"> rises</span><span style=\"background-color: #FFF8F8\"> from</span><span style=\"background-color: #FFEAEA\"> his</span><span style=\"background-color: #FFE0E0\"> humble</span><span style=\"background-color: #FFFDFD\"> background</span><span style=\"background-color: #FFFAFA\"> to</span><span style=\"background-color: #FFF9F9\"> play</span><span style=\"background-color: #FFF6F6\"> against</span><span style=\"background-color: #FFFAFA\"> his</span><span style=\"background-color: #FFEDED\"> br</span><span style=\"background-color: #FFF1F1\"> ##ist</span><span style=\"background-color: #FFFDFD\"> ##ish</span><span style=\"background-color: #FFFAFA\"> idol</span><span style=\"background-color: #FFFDFD\"> in</span><span style=\"background-color: #FFF2F2\"> what</span><span style=\"background-color: #FFFEFE\"> was</span><span style=\"background-color: #FFD7D7\"> dubbed</span><span style=\"background-color: #FFFCFC\"> as</span><span style=\"background-color: #FFF7F7\"> the</span><span style=\"background-color: #FFFDFD\"> greatest</span><span style=\"background-color: #FFF8F8\"> game</span><span style=\"background-color: #FFF4F4\"> ever</span><span style=\"background-color: #FFF5F5\"> played</span><span style=\"background-color: #FFFCFC\"> .</span><span style=\"background-color: #FFF4F4\"> i</span><span style=\"background-color: #FFFCFC\"> m</span><span style=\"background-color: #FFFEFE\"> no</span><span style=\"background-color: #FFF5F5\"> fan</span><span style=\"background-color: #FFF8F8\"> of</span><span style=\"background-color: #FFF6F6\"> golf</span><span style=\"background-color: #FFFDFD\"> ,</span><span style=\"background-color: #FFB7B7\"> and</span><span style=\"background-color: #FFFAFA\"> these</span><span style=\"background-color: #FFFAFA\"> scrap</span><span style=\"background-color: #FFF2F2\"> ##py</span><span style=\"background-color: #FFF7F7\"> under</span><span style=\"background-color: #FFFEFE\"> ##dog</span><span style=\"background-color: #FFFAFA\"> sports</span><span style=\"background-color: #FFE6E6\"> flick</span><span style=\"background-color: #FFFDFD\"> ##s</span><span style=\"background-color: #FFF5F5\"> are</span><span style=\"background-color: #FFF6F6\"> a</span><span style=\"background-color: #FFFEFE\"> dime</span><span style=\"background-color: #FFF9F9\"> a</span><span style=\"background-color: #FFFAFA\"> dozen</span><span style=\"background-color: #FFEAEA\"> most</span><span style=\"background-color: #FFF8F8\"> recently</span><span style=\"background-color: #FFE7E7\"> done</span><span style=\"background-color: #FFF6F6\"> to</span><span style=\"background-color: #FFB9B9\"> grand</span><span style=\"background-color: #FFF9F9\"> effect</span><span style=\"background-color: #FFFCFC\"> with</span><span style=\"background-color: #FFF2F2\"> miracle</span><span style=\"background-color: #FFBABA\"> and</span><span style=\"background-color: #FFF0F0\"> cinderella</span><span style=\"background-color: #FFFBFB\"> man</span><span style=\"background-color: #FFFEFE\"> ,</span><span style=\"background-color: #FFE0E0\"> but</span><span style=\"background-color: #FFF6F6\"> some</span><span style=\"background-color: #FFFCFC\"> how</span><span style=\"background-color: #FFE5E5\"> this</span><span style=\"background-color: #FFFDFD\"> film</span><span style=\"background-color: #FFFDFD\"> was</span><span style=\"background-color: #FFFBFB\"> en</span><span style=\"background-color: #FFFEFE\"> ##th</span><span style=\"background-color: #FFE6E6\"> ##ral</span><span style=\"background-color: #FFF4F4\"> ##ling</span><span style=\"background-color: #FFC3C3\"> all</span><span style=\"background-color: #FFEAEA\"> the</span><span style=\"background-color: #FFFDFD\"> same</span><span style=\"background-color: #FFFBFB\"> .</span><span style=\"background-color: #FFF3F3\"> br</span><span style=\"background-color: #FFFAFA\"> br</span><span style=\"background-color: #FFFDFD\"> the</span><span style=\"background-color: #FFFDFD\"> film</span><span style=\"background-color: #FFFDFD\"> starts</span><span style=\"background-color: #FFFAFA\"> with</span><span style=\"background-color: #FFFDFD\"> some</span><span style=\"background-color: #FFF9F9\"> creative</span><span style=\"background-color: #FFFEFE\"> opening</span><span style=\"background-color: #FFFAFA\"> credits</span><span style=\"background-color: #FFFBFB\"> imagine</span><span style=\"background-color: #FFF7F7\"> a</span><span style=\"background-color: #FF0000\"> disney</span><span style=\"background-color: #FFF4F4\"> ##fied</span><span style=\"background-color: #FFF4F4\"> version</span><span style=\"background-color: #FFF4F4\"> of</span><span style=\"background-color: #FFFDFD\"> the</span><span style=\"background-color: #FFFEFE\"> animated</span><span style=\"background-color: #FFFDFD\"> opening</span><span style=\"background-color: #FFF7F7\"> credits</span><span style=\"background-color: #FFFCFC\"> of</span><span style=\"background-color: #FFFBFB\"> hbo</span><span style=\"background-color: #FFFAFA\"> s</span><span style=\"background-color: #FFFDFD\"> carnival</span><span style=\"background-color: #FFFDFD\"> ##e</span><span style=\"background-color: #FFA2A2\"> and</span><span style=\"background-color: #FFFDFD\"> rome</span><span style=\"background-color: #FFFEFE\"> ,</span><span style=\"background-color: #FFF2F2\"> but</span><span style=\"background-color: #FFFAFA\"> lumber</span><span style=\"background-color: #FFD7D7\"> ##s</span><span style=\"background-color: #FFEDED\"> along</span><span style=\"background-color: #FFFEFE\"> slowly</span><span style=\"background-color: #FFFDFD\"> for</span><span style=\"background-color: #FFFBFB\"> its</span><span style=\"background-color: #FFFDFD\"> first</span><span style=\"background-color: #FFF9F9\"> by</span><span style=\"background-color: #FFF8F8\"> the</span><span style=\"background-color: #FFFCFC\"> numbers</span><span style=\"background-color: #FFC7C7\"> hour</span><span style=\"background-color: #FFFDFD\"> .</span><span style=\"background-color: #FFFCFC\"> once</span><span style=\"background-color: #FFFEFE\"> the</span><span style=\"background-color: #FFFEFE\"> action</span><span style=\"background-color: #FFFAFA\"> moves</span><span style=\"background-color: #FFFCFC\"> to</span><span style=\"background-color: #FFFDFD\"> the</span><span style=\"background-color: #FFFCFC\"> u</span><span style=\"background-color: #FFFCFC\"> .</span><span style=\"background-color: #FFFDFD\"> s</span><span style=\"background-color: #FFFBFB\"> .</span><span style=\"background-color: #FFFAFA\"> open</span><span style=\"background-color: #FFFEFE\"> things</span><span style=\"background-color: #FFDADA\"> pick</span><span style=\"background-color: #FFFDFD\"> up</span><span style=\"background-color: #FFFAFA\"> very</span><span style=\"background-color: #FFFDFD\"> well</span><span style=\"background-color: #FFFCFC\"> .</span><span style=\"background-color: #FFFCFC\"> paxton</span><span style=\"background-color: #FFF9F9\"> does</span><span style=\"background-color: #FFFBFB\"> a</span><span style=\"background-color: #FFF9F9\"> nice</span><span style=\"background-color: #FFFAFA\"> job</span><span style=\"background-color: #FFECEC\"> and</span><span style=\"background-color: #FFF9F9\"> shows</span><span style=\"background-color: #FFECEC\"> a</span><span style=\"background-color: #FFFAFA\"> kn</span><span style=\"background-color: #FFFEFE\"> ##ack</span><span style=\"background-color: #FFFDFD\"> for</span><span style=\"background-color: #FFF3F3\"> effective</span><span style=\"background-color: #FFF4F4\"> directorial</span><span style=\"background-color: #FFF5F5\"> flourish</span><span style=\"background-color: #FFCECE\"> ##es</span><span style=\"background-color: #FFF7F7\"> i</span><span style=\"background-color: #FFE4E4\"> loved</span><span style=\"background-color: #FFFEFE\"> the</span><span style=\"background-color: #FFF7F7\"> rain</span><span style=\"background-color: #FFF6F6\"> soaked</span><span style=\"background-color: #FFF7F7\"> mont</span><span style=\"background-color: #FFFBFB\"> ##age</span><span style=\"background-color: #FFFEFE\"> of</span><span style=\"background-color: #FFFCFC\"> the</span><span style=\"background-color: #FFFDFD\"> action</span><span style=\"background-color: #FFFAFA\"> on</span><span style=\"background-color: #FFE9E9\"> day</span><span style=\"background-color: #FFF6F6\"> two</span><span style=\"background-color: #FFF0F0\"> of</span><span style=\"background-color: #FFF9F9\"> the</span><span style=\"background-color: #FFFEFE\"> open</span><span style=\"background-color: #FFF0F0\"> that</span><span style=\"background-color: #FFE8E8\"> prop</span><span style=\"background-color: #FFFBFB\"> ##el</span><span style=\"background-color: #FFFDFD\"> the</span><span style=\"background-color: #FFF5F5\"> plot</span><span style=\"background-color: #FFF6F6\"> further</span><span style=\"background-color: #FFF7F7\"> or</span><span style=\"background-color: #FFEFEF\"> add</span><span style=\"background-color: #FFFEFE\"> some</span><span style=\"background-color: #FFF9F9\"> unexpected</span><span style=\"background-color: #FFFDFD\"> psychological</span><span style=\"background-color: #FFEFEF\"> depth</span><span style=\"background-color: #FFEFEF\"> to</span><span style=\"background-color: #FFF8F8\"> the</span><span style=\"background-color: #FFFDFD\"> proceedings</span><span style=\"background-color: #FFFBFB\"> .</span><span style=\"background-color: #FFC8C8\"> there</span><span style=\"background-color: #FFFBFB\"> s</span><span style=\"background-color: #FFF5F5\"> some</span><span style=\"background-color: #FFFEFE\"> compelling</span><span style=\"background-color: #FFFEFE\"> character</span><span style=\"background-color: #FFFBFB\"> development</span><span style=\"background-color: #FFF5F5\"> when</span><span style=\"background-color: #FFFEFE\"> the</span><span style=\"background-color: #FFFAFA\"> british</span><span style=\"background-color: #FFFBFB\"> harry</span><span style=\"background-color: #FFFDFD\"> var</span><span style=\"background-color: #FFFCFC\"> ##don</span><span style=\"background-color: #FFFEFE\"> is</span><span style=\"background-color: #FFFDFD\"> haunted</span><span style=\"background-color: #FFF2F2\"> by</span><span style=\"background-color: #FFF6F6\"> images</span><span style=\"background-color: #FFFEFE\"> of</span><span style=\"background-color: #FFF9F9\"> the</span><span style=\"background-color: #FFE2E2\"> ari</span><span style=\"background-color: #FFF4F4\"> ##sto</span><span style=\"background-color: #FFF2F2\"> ##crats</span><span style=\"background-color: #FFFCFC\"> in</span><span style=\"background-color: #FFFAFA\"> black</span><span style=\"background-color: #FFE6E6\"> suits</span><span style=\"background-color: #FFD0D0\"> and</span><span style=\"background-color: #FFFCFC\"> top</span><span style=\"background-color: #FFFDFD\"> hats</span><span style=\"background-color: #FFFCFC\"> who</span><span style=\"background-color: #FFFCFC\"> destroyed</span><span style=\"background-color: #FFF3F3\"> his</span><span style=\"background-color: #FFF5F5\"> family</span><span style=\"background-color: #FFF6F6\"> cottage</span><span style=\"background-color: #FFFEFE\"> as</span><span style=\"background-color: #FFFCFC\"> a</span><span style=\"background-color: #FFECEC\"> child</span><span style=\"background-color: #FFF8F8\"> to</span><span style=\"background-color: #FFFDFD\"> make</span><span style=\"background-color: #FFF6F6\"> way</span><span style=\"background-color: #FFF8F8\"> for</span><span style=\"background-color: #FFFBFB\"> a</span><span style=\"background-color: #FFF8F8\"> golf</span><br><br>[BERTのAttentionを可視化_8]<br><span style=\"background-color: #FFFEFE\"> [CLS]</span><span style=\"background-color: #FFFBFB\"> actor</span><span style=\"background-color: #FFFBFB\"> turned</span><span style=\"background-color: #FFFEFE\"> director</span><span style=\"background-color: #FFFEFE\"> bill</span><span style=\"background-color: #FFFCFC\"> paxton</span><span style=\"background-color: #FFFCFC\"> follows</span><span style=\"background-color: #FFFEFE\"> up</span><span style=\"background-color: #FFFDFD\"> his</span><span style=\"background-color: #FFFAFA\"> promising</span><span style=\"background-color: #FFFEFE\"> debut</span><span style=\"background-color: #FFFEFE\"> ,</span><span style=\"background-color: #FFFEFE\"> the</span><span style=\"background-color: #FFFDFD\"> gothic</span><span style=\"background-color: #FFFBFB\"> horror</span><span style=\"background-color: #FFFEFE\"> frail</span><span style=\"background-color: #FFF4F4\"> ##ty</span><span style=\"background-color: #FFFEFE\"> ,</span><span style=\"background-color: #FFF7F7\"> with</span><span style=\"background-color: #FFFEFE\"> this</span><span style=\"background-color: #FFFEFE\"> family</span><span style=\"background-color: #FFFAFA\"> friendly</span><span style=\"background-color: #FFF9F9\"> sports</span><span style=\"background-color: #FFFEFE\"> drama</span><span style=\"background-color: #FFF7F7\"> about</span><span style=\"background-color: #FFFEFE\"> the</span><span style=\"background-color: #FFF7F7\"> 1913</span><span style=\"background-color: #FFFDFD\"> u</span><span style=\"background-color: #FFFCFC\"> .</span><span style=\"background-color: #FFF9F9\"> s</span><span style=\"background-color: #FFFDFD\"> .</span><span style=\"background-color: #FFFEFE\"> open</span><span style=\"background-color: #FFFCFC\"> where</span><span style=\"background-color: #FFFEFE\"> a</span><span style=\"background-color: #FFFDFD\"> young</span><span style=\"background-color: #FFFCFC\"> american</span><span style=\"background-color: #FFFEFE\"> cad</span><span style=\"background-color: #FFFEFE\"> ##dy</span><span style=\"background-color: #FFF4F4\"> rises</span><span style=\"background-color: #FFFDFD\"> from</span><span style=\"background-color: #FFF7F7\"> his</span><span style=\"background-color: #FFFEFE\"> humble</span><span style=\"background-color: #FFFDFD\"> background</span><span style=\"background-color: #FFF2F2\"> to</span><span style=\"background-color: #FFFDFD\"> play</span><span style=\"background-color: #FFFAFA\"> against</span><span style=\"background-color: #FFFEFE\"> his</span><span style=\"background-color: #FFFDFD\"> br</span><span style=\"background-color: #FFFCFC\"> ##ist</span><span style=\"background-color: #FFF8F8\"> ##ish</span><span style=\"background-color: #FFEFEF\"> idol</span><span style=\"background-color: #FFFAFA\"> in</span><span style=\"background-color: #FFF5F5\"> what</span><span style=\"background-color: #FFFCFC\"> was</span><span style=\"background-color: #FFFEFE\"> dubbed</span><span style=\"background-color: #FFE0E0\"> as</span><span style=\"background-color: #FFFEFE\"> the</span><span style=\"background-color: #FFFEFE\"> greatest</span><span style=\"background-color: #FFF8F8\"> game</span><span style=\"background-color: #FFFDFD\"> ever</span><span style=\"background-color: #FFFEFE\"> played</span><span style=\"background-color: #FFFDFD\"> .</span><span style=\"background-color: #FFFDFD\"> i</span><span style=\"background-color: #FFFBFB\"> m</span><span style=\"background-color: #FFFCFC\"> no</span><span style=\"background-color: #FFF6F6\"> fan</span><span style=\"background-color: #FFFEFE\"> of</span><span style=\"background-color: #FFFBFB\"> golf</span><span style=\"background-color: #FFFEFE\"> ,</span><span style=\"background-color: #FFFEFE\"> and</span><span style=\"background-color: #FFF8F8\"> these</span><span style=\"background-color: #FFFBFB\"> scrap</span><span style=\"background-color: #FFFCFC\"> ##py</span><span style=\"background-color: #FFFCFC\"> under</span><span style=\"background-color: #FFF9F9\"> ##dog</span><span style=\"background-color: #FFFDFD\"> sports</span><span style=\"background-color: #FFFDFD\"> flick</span><span style=\"background-color: #FFFDFD\"> ##s</span><span style=\"background-color: #FFFEFE\"> are</span><span style=\"background-color: #FFFEFE\"> a</span><span style=\"background-color: #FFF1F1\"> dime</span><span style=\"background-color: #FFFEFE\"> a</span><span style=\"background-color: #FFFCFC\"> dozen</span><span style=\"background-color: #FFFAFA\"> most</span><span style=\"background-color: #FFFAFA\"> recently</span><span style=\"background-color: #FFFEFE\"> done</span><span style=\"background-color: #FF0000\"> to</span><span style=\"background-color: #FFFEFE\"> grand</span><span style=\"background-color: #FFFDFD\"> effect</span><span style=\"background-color: #FFFAFA\"> with</span><span style=\"background-color: #FFFEFE\"> miracle</span><span style=\"background-color: #FFFEFE\"> and</span><span style=\"background-color: #FFFAFA\"> cinderella</span><span style=\"background-color: #FFFDFD\"> man</span><span style=\"background-color: #FFFEFE\"> ,</span><span style=\"background-color: #FFFCFC\"> but</span><span style=\"background-color: #FFFBFB\"> some</span><span style=\"background-color: #FFFDFD\"> how</span><span style=\"background-color: #FFFBFB\"> this</span><span style=\"background-color: #FFFBFB\"> film</span><span style=\"background-color: #FFFEFE\"> was</span><span style=\"background-color: #FFFEFE\"> en</span><span style=\"background-color: #FFFEFE\"> ##th</span><span style=\"background-color: #FFF8F8\"> ##ral</span><span style=\"background-color: #FFFEFE\"> ##ling</span><span style=\"background-color: #FFF7F7\"> all</span><span style=\"background-color: #FFFEFE\"> the</span><span style=\"background-color: #FFFDFD\"> same</span><span style=\"background-color: #FFFEFE\"> .</span><span style=\"background-color: #FFFDFD\"> br</span><span style=\"background-color: #FFFCFC\"> br</span><span style=\"background-color: #FFFEFE\"> the</span><span style=\"background-color: #FFF9F9\"> film</span><span style=\"background-color: #FFFBFB\"> starts</span><span style=\"background-color: #FFFEFE\"> with</span><span style=\"background-color: #FFFCFC\"> some</span><span style=\"background-color: #FFFEFE\"> creative</span><span style=\"background-color: #FFFEFE\"> opening</span><span style=\"background-color: #FFFEFE\"> credits</span><span style=\"background-color: #FFF3F3\"> imagine</span><span style=\"background-color: #FFFEFE\"> a</span><span style=\"background-color: #FFFCFC\"> disney</span><span style=\"background-color: #FFFAFA\"> ##fied</span><span style=\"background-color: #FFFDFD\"> version</span><span style=\"background-color: #FFFEFE\"> of</span><span style=\"background-color: #FFFEFE\"> the</span><span style=\"background-color: #FFFDFD\"> animated</span><span style=\"background-color: #FFFEFE\"> opening</span><span style=\"background-color: #FFFEFE\"> credits</span><span style=\"background-color: #FFFDFD\"> of</span><span style=\"background-color: #FFF8F8\"> hbo</span><span style=\"background-color: #FFFDFD\"> s</span><span style=\"background-color: #FFFCFC\"> carnival</span><span style=\"background-color: #FFFEFE\"> ##e</span><span style=\"background-color: #FFFEFE\"> and</span><span style=\"background-color: #FFF6F6\"> rome</span><span style=\"background-color: #FFFEFE\"> ,</span><span style=\"background-color: #FFFCFC\"> but</span><span style=\"background-color: #FFFEFE\"> lumber</span><span style=\"background-color: #FFFDFD\"> ##s</span><span style=\"background-color: #FFFEFE\"> along</span><span style=\"background-color: #FFFDFD\"> slowly</span><span style=\"background-color: #FFFDFD\"> for</span><span style=\"background-color: #FFFDFD\"> its</span><span style=\"background-color: #FFF9F9\"> first</span><span style=\"background-color: #FFFEFE\"> by</span><span style=\"background-color: #FFFEFE\"> the</span><span style=\"background-color: #FFF2F2\"> numbers</span><span style=\"background-color: #FFF9F9\"> hour</span><span style=\"background-color: #FFFEFE\"> .</span><span style=\"background-color: #FFFDFD\"> once</span><span style=\"background-color: #FFFEFE\"> the</span><span style=\"background-color: #FFFAFA\"> action</span><span style=\"background-color: #FFF8F8\"> moves</span><span style=\"background-color: #FFF6F6\"> to</span><span style=\"background-color: #FFFEFE\"> the</span><span style=\"background-color: #FFFEFE\"> u</span><span style=\"background-color: #FFFDFD\"> .</span><span style=\"background-color: #FFF9F9\"> s</span><span style=\"background-color: #FFFDFD\"> .</span><span style=\"background-color: #FFFEFE\"> open</span><span style=\"background-color: #FFFCFC\"> things</span><span style=\"background-color: #FFFEFE\"> pick</span><span style=\"background-color: #FFFCFC\"> up</span><span style=\"background-color: #FFF9F9\"> very</span><span style=\"background-color: #FFFEFE\"> well</span><span style=\"background-color: #FFFCFC\"> .</span><span style=\"background-color: #FFF6F6\"> paxton</span><span style=\"background-color: #FFDCDC\"> does</span><span style=\"background-color: #FFFEFE\"> a</span><span style=\"background-color: #FFF3F3\"> nice</span><span style=\"background-color: #FFF7F7\"> job</span><span style=\"background-color: #FFFCFC\"> and</span><span style=\"background-color: #FFFEFE\"> shows</span><span style=\"background-color: #FFFEFE\"> a</span><span style=\"background-color: #FFFCFC\"> kn</span><span style=\"background-color: #FFFEFE\"> ##ack</span><span style=\"background-color: #FFFDFD\"> for</span><span style=\"background-color: #FFFEFE\"> effective</span><span style=\"background-color: #FFFEFE\"> directorial</span><span style=\"background-color: #FFFCFC\"> flourish</span><span style=\"background-color: #FFFBFB\"> ##es</span><span style=\"background-color: #FFFEFE\"> i</span><span style=\"background-color: #FFFEFE\"> loved</span><span style=\"background-color: #FFFEFE\"> the</span><span style=\"background-color: #FFE5E5\"> rain</span><span style=\"background-color: #FFFEFE\"> soaked</span><span style=\"background-color: #FFF0F0\"> mont</span><span style=\"background-color: #FFFAFA\"> ##age</span><span style=\"background-color: #FFFEFE\"> of</span><span style=\"background-color: #FFFDFD\"> the</span><span style=\"background-color: #FFF2F2\"> action</span><span style=\"background-color: #FFFDFD\"> on</span><span style=\"background-color: #FFFCFC\"> day</span><span style=\"background-color: #FFF7F7\"> two</span><span style=\"background-color: #FFFEFE\"> of</span><span style=\"background-color: #FFFEFE\"> the</span><span style=\"background-color: #FFFEFE\"> open</span><span style=\"background-color: #FFFEFE\"> that</span><span style=\"background-color: #FFFDFD\"> prop</span><span style=\"background-color: #FFFCFC\"> ##el</span><span style=\"background-color: #FFFEFE\"> the</span><span style=\"background-color: #FFFEFE\"> plot</span><span style=\"background-color: #FFF1F1\"> further</span><span style=\"background-color: #FFFEFE\"> or</span><span style=\"background-color: #FFFCFC\"> add</span><span style=\"background-color: #FFFDFD\"> some</span><span style=\"background-color: #FFFCFC\"> unexpected</span><span style=\"background-color: #FFFEFE\"> psychological</span><span style=\"background-color: #FFFBFB\"> depth</span><span style=\"background-color: #FFD0D0\"> to</span><span style=\"background-color: #FFFEFE\"> the</span><span style=\"background-color: #FFFEFE\"> proceedings</span><span style=\"background-color: #FFF8F8\"> .</span><span style=\"background-color: #FFFDFD\"> there</span><span style=\"background-color: #FFFEFE\"> s</span><span style=\"background-color: #FFFBFB\"> some</span><span style=\"background-color: #FFFEFE\"> compelling</span><span style=\"background-color: #FFFBFB\"> character</span><span style=\"background-color: #FFFDFD\"> development</span><span style=\"background-color: #FFFEFE\"> when</span><span style=\"background-color: #FFFEFE\"> the</span><span style=\"background-color: #FFFBFB\"> british</span><span style=\"background-color: #FFF9F9\"> harry</span><span style=\"background-color: #FFFDFD\"> var</span><span style=\"background-color: #FFFEFE\"> ##don</span><span style=\"background-color: #FFFDFD\"> is</span><span style=\"background-color: #FFFDFD\"> haunted</span><span style=\"background-color: #FFFDFD\"> by</span><span style=\"background-color: #FFFEFE\"> images</span><span style=\"background-color: #FFFDFD\"> of</span><span style=\"background-color: #FFFEFE\"> the</span><span style=\"background-color: #FFFEFE\"> ari</span><span style=\"background-color: #FFFEFE\"> ##sto</span><span style=\"background-color: #FFFBFB\"> ##crats</span><span style=\"background-color: #FFFDFD\"> in</span><span style=\"background-color: #FFFDFD\"> black</span><span style=\"background-color: #FFFEFE\"> suits</span><span style=\"background-color: #FFFEFE\"> and</span><span style=\"background-color: #FFFEFE\"> top</span><span style=\"background-color: #FFFEFE\"> hats</span><span style=\"background-color: #FFFCFC\"> who</span><span style=\"background-color: #FFFDFD\"> destroyed</span><span style=\"background-color: #FFFEFE\"> his</span><span style=\"background-color: #FFFEFE\"> family</span><span style=\"background-color: #FFFCFC\"> cottage</span><span style=\"background-color: #FFE0E0\"> as</span><span style=\"background-color: #FFFEFE\"> a</span><span style=\"background-color: #FFFDFD\"> child</span><span style=\"background-color: #FFF1F1\"> to</span><span style=\"background-color: #FFFAFA\"> make</span><span style=\"background-color: #FFF8F8\"> way</span><span style=\"background-color: #FFFDFD\"> for</span><span style=\"background-color: #FFFEFE\"> a</span><span style=\"background-color: #FFFEFE\"> golf</span><br><br>[BERTのAttentionを可視化_9]<br><span style=\"background-color: #FFF6F6\"> [CLS]</span><span style=\"background-color: #FFFDFD\"> actor</span><span style=\"background-color: #FFFBFB\"> turned</span><span style=\"background-color: #FFFCFC\"> director</span><span style=\"background-color: #FFF9F9\"> bill</span><span style=\"background-color: #FFFCFC\"> paxton</span><span style=\"background-color: #FFFEFE\"> follows</span><span style=\"background-color: #FFE8E8\"> up</span><span style=\"background-color: #FFF9F9\"> his</span><span style=\"background-color: #FFFEFE\"> promising</span><span style=\"background-color: #FFFCFC\"> debut</span><span style=\"background-color: #FFFDFD\"> ,</span><span style=\"background-color: #FFFEFE\"> the</span><span style=\"background-color: #FFFEFE\"> gothic</span><span style=\"background-color: #FFFAFA\"> horror</span><span style=\"background-color: #FFF1F1\"> frail</span><span style=\"background-color: #FFFDFD\"> ##ty</span><span style=\"background-color: #FFF9F9\"> ,</span><span style=\"background-color: #FFC7C7\"> with</span><span style=\"background-color: #FFDBDB\"> this</span><span style=\"background-color: #FFEDED\"> family</span><span style=\"background-color: #FFFCFC\"> friendly</span><span style=\"background-color: #FFAAAA\"> sports</span><span style=\"background-color: #FFFBFB\"> drama</span><span style=\"background-color: #FFEEEE\"> about</span><span style=\"background-color: #FFFEFE\"> the</span><span style=\"background-color: #FFF7F7\"> 1913</span><span style=\"background-color: #FFFCFC\"> u</span><span style=\"background-color: #FFFAFA\"> .</span><span style=\"background-color: #FFF4F4\"> s</span><span style=\"background-color: #FFFEFE\"> .</span><span style=\"background-color: #FFFAFA\"> open</span><span style=\"background-color: #FFFEFE\"> where</span><span style=\"background-color: #FFFCFC\"> a</span><span style=\"background-color: #FFF1F1\"> young</span><span style=\"background-color: #FFFEFE\"> american</span><span style=\"background-color: #FFFAFA\"> cad</span><span style=\"background-color: #FFFDFD\"> ##dy</span><span style=\"background-color: #FFFBFB\"> rises</span><span style=\"background-color: #FFEEEE\"> from</span><span style=\"background-color: #FFFAFA\"> his</span><span style=\"background-color: #FFFAFA\"> humble</span><span style=\"background-color: #FFFEFE\"> background</span><span style=\"background-color: #FFFAFA\"> to</span><span style=\"background-color: #FFEAEA\"> play</span><span style=\"background-color: #FFEDED\"> against</span><span style=\"background-color: #FFFCFC\"> his</span><span style=\"background-color: #FFFBFB\"> br</span><span style=\"background-color: #FFF4F4\"> ##ist</span><span style=\"background-color: #FFF9F9\"> ##ish</span><span style=\"background-color: #FFF8F8\"> idol</span><span style=\"background-color: #FFDEDE\"> in</span><span style=\"background-color: #FFFDFD\"> what</span><span style=\"background-color: #FFFBFB\"> was</span><span style=\"background-color: #FFE5E5\"> dubbed</span><span style=\"background-color: #FFF6F6\"> as</span><span style=\"background-color: #FFFDFD\"> the</span><span style=\"background-color: #FFFDFD\"> greatest</span><span style=\"background-color: #FFE3E3\"> game</span><span style=\"background-color: #FFDADA\"> ever</span><span style=\"background-color: #FFFDFD\"> played</span><span style=\"background-color: #FFFEFE\"> .</span><span style=\"background-color: #FFFBFB\"> i</span><span style=\"background-color: #FFF9F9\"> m</span><span style=\"background-color: #FFFEFE\"> no</span><span style=\"background-color: #FFC7C7\"> fan</span><span style=\"background-color: #FFFCFC\"> of</span><span style=\"background-color: #FFE0E0\"> golf</span><span style=\"background-color: #FFFDFD\"> ,</span><span style=\"background-color: #FFFAFA\"> and</span><span style=\"background-color: #FFF1F1\"> these</span><span style=\"background-color: #FFAEAE\"> scrap</span><span style=\"background-color: #FFFDFD\"> ##py</span><span style=\"background-color: #FFFEFE\"> under</span><span style=\"background-color: #FFFEFE\"> ##dog</span><span style=\"background-color: #FFF0F0\"> sports</span><span style=\"background-color: #FFFCFC\"> flick</span><span style=\"background-color: #FFFEFE\"> ##s</span><span style=\"background-color: #FFFDFD\"> are</span><span style=\"background-color: #FFFCFC\"> a</span><span style=\"background-color: #FFFCFC\"> dime</span><span style=\"background-color: #FFFAFA\"> a</span><span style=\"background-color: #FFFEFE\"> dozen</span><span style=\"background-color: #FFF9F9\"> most</span><span style=\"background-color: #FFF3F3\"> recently</span><span style=\"background-color: #FFFCFC\"> done</span><span style=\"background-color: #FFF6F6\"> to</span><span style=\"background-color: #FFD5D5\"> grand</span><span style=\"background-color: #FFFAFA\"> effect</span><span style=\"background-color: #FF0000\"> with</span><span style=\"background-color: #FFFDFD\"> miracle</span><span style=\"background-color: #FFF2F2\"> and</span><span style=\"background-color: #FFECEC\"> cinderella</span><span style=\"background-color: #FFF0F0\"> man</span><span style=\"background-color: #FFFDFD\"> ,</span><span style=\"background-color: #FFE6E6\"> but</span><span style=\"background-color: #FFFBFB\"> some</span><span style=\"background-color: #FFF0F0\"> how</span><span style=\"background-color: #FFDBDB\"> this</span><span style=\"background-color: #FFF2F2\"> film</span><span style=\"background-color: #FFFCFC\"> was</span><span style=\"background-color: #FFE2E2\"> en</span><span style=\"background-color: #FFFDFD\"> ##th</span><span style=\"background-color: #FFE3E3\"> ##ral</span><span style=\"background-color: #FFF9F9\"> ##ling</span><span style=\"background-color: #FFF5F5\"> all</span><span style=\"background-color: #FFFEFE\"> the</span><span style=\"background-color: #FFFEFE\"> same</span><span style=\"background-color: #FFFEFE\"> .</span><span style=\"background-color: #FFEEEE\"> br</span><span style=\"background-color: #FFF2F2\"> br</span><span style=\"background-color: #FFFEFE\"> the</span><span style=\"background-color: #FFFBFB\"> film</span><span style=\"background-color: #FFF7F7\"> starts</span><span style=\"background-color: #FFDEDE\"> with</span><span style=\"background-color: #FFECEC\"> some</span><span style=\"background-color: #FFFAFA\"> creative</span><span style=\"background-color: #FFFAFA\"> opening</span><span style=\"background-color: #FFFAFA\"> credits</span><span style=\"background-color: #FFD1D1\"> imagine</span><span style=\"background-color: #FFFAFA\"> a</span><span style=\"background-color: #FFF6F6\"> disney</span><span style=\"background-color: #FFD0D0\"> ##fied</span><span style=\"background-color: #FFD0D0\"> version</span><span style=\"background-color: #FFFEFE\"> of</span><span style=\"background-color: #FFFEFE\"> the</span><span style=\"background-color: #FFF1F1\"> animated</span><span style=\"background-color: #FFA5A5\"> opening</span><span style=\"background-color: #FFF6F6\"> credits</span><span style=\"background-color: #FFFAFA\"> of</span><span style=\"background-color: #FFFEFE\"> hbo</span><span style=\"background-color: #FFFAFA\"> s</span><span style=\"background-color: #FFF5F5\"> carnival</span><span style=\"background-color: #FFFDFD\"> ##e</span><span style=\"background-color: #FFFDFD\"> and</span><span style=\"background-color: #FF5E5E\"> rome</span><span style=\"background-color: #FFFDFD\"> ,</span><span style=\"background-color: #FFFBFB\"> but</span><span style=\"background-color: #FFF8F8\"> lumber</span><span style=\"background-color: #FFFEFE\"> ##s</span><span style=\"background-color: #FFF1F1\"> along</span><span style=\"background-color: #FFFCFC\"> slowly</span><span style=\"background-color: #FFFCFC\"> for</span><span style=\"background-color: #FFF8F8\"> its</span><span style=\"background-color: #FFF4F4\"> first</span><span style=\"background-color: #FFFBFB\"> by</span><span style=\"background-color: #FFFEFE\"> the</span><span style=\"background-color: #FFA5A5\"> numbers</span><span style=\"background-color: #FFF5F5\"> hour</span><span style=\"background-color: #FFFDFD\"> .</span><span style=\"background-color: #FFECEC\"> once</span><span style=\"background-color: #FFFEFE\"> the</span><span style=\"background-color: #FFF7F7\"> action</span><span style=\"background-color: #FFF7F7\"> moves</span><span style=\"background-color: #FFEFEF\"> to</span><span style=\"background-color: #FFFAFA\"> the</span><span style=\"background-color: #FFFCFC\"> u</span><span style=\"background-color: #FFFEFE\"> .</span><span style=\"background-color: #FFF8F8\"> s</span><span style=\"background-color: #FFF9F9\"> .</span><span style=\"background-color: #FFFDFD\"> open</span><span style=\"background-color: #FFF6F6\"> things</span><span style=\"background-color: #FFF8F8\"> pick</span><span style=\"background-color: #FFE1E1\"> up</span><span style=\"background-color: #FFA7A7\"> very</span><span style=\"background-color: #FFFCFC\"> well</span><span style=\"background-color: #FFFDFD\"> .</span><span style=\"background-color: #FFFDFD\"> paxton</span><span style=\"background-color: #FFE0E0\"> does</span><span style=\"background-color: #FFFBFB\"> a</span><span style=\"background-color: #FFECEC\"> nice</span><span style=\"background-color: #FFFAFA\"> job</span><span style=\"background-color: #FFFDFD\"> and</span><span style=\"background-color: #FFF2F2\"> shows</span><span style=\"background-color: #FFFAFA\"> a</span><span style=\"background-color: #FFFAFA\"> kn</span><span style=\"background-color: #FFFAFA\"> ##ack</span><span style=\"background-color: #FFECEC\"> for</span><span style=\"background-color: #FFFEFE\"> effective</span><span style=\"background-color: #FFFEFE\"> directorial</span><span style=\"background-color: #FFF8F8\"> flourish</span><span style=\"background-color: #FFF8F8\"> ##es</span><span style=\"background-color: #FFF9F9\"> i</span><span style=\"background-color: #FFF8F8\"> loved</span><span style=\"background-color: #FFFEFE\"> the</span><span style=\"background-color: #FFFEFE\"> rain</span><span style=\"background-color: #FFFDFD\"> soaked</span><span style=\"background-color: #FFD3D3\"> mont</span><span style=\"background-color: #FFFAFA\"> ##age</span><span style=\"background-color: #FFFEFE\"> of</span><span style=\"background-color: #FFFEFE\"> the</span><span style=\"background-color: #FFF2F2\"> action</span><span style=\"background-color: #FFFDFD\"> on</span><span style=\"background-color: #FFF3F3\"> day</span><span style=\"background-color: #FFF3F3\"> two</span><span style=\"background-color: #FFFDFD\"> of</span><span style=\"background-color: #FFFEFE\"> the</span><span style=\"background-color: #FFFDFD\"> open</span><span style=\"background-color: #FFF7F7\"> that</span><span style=\"background-color: #FFF2F2\"> prop</span><span style=\"background-color: #FFFEFE\"> ##el</span><span style=\"background-color: #FFFEFE\"> the</span><span style=\"background-color: #FFF7F7\"> plot</span><span style=\"background-color: #FFDFDF\"> further</span><span style=\"background-color: #FF7070\"> or</span><span style=\"background-color: #FFFDFD\"> add</span><span style=\"background-color: #FFFEFE\"> some</span><span style=\"background-color: #FFD5D5\"> unexpected</span><span style=\"background-color: #FFE9E9\"> psychological</span><span style=\"background-color: #FFF4F4\"> depth</span><span style=\"background-color: #FFF9F9\"> to</span><span style=\"background-color: #FFFEFE\"> the</span><span style=\"background-color: #FFFEFE\"> proceedings</span><span style=\"background-color: #FFFEFE\"> .</span><span style=\"background-color: #FFF9F9\"> there</span><span style=\"background-color: #FFF3F3\"> s</span><span style=\"background-color: #FFFAFA\"> some</span><span style=\"background-color: #FFFEFE\"> compelling</span><span style=\"background-color: #FFF6F6\"> character</span><span style=\"background-color: #FFF2F2\"> development</span><span style=\"background-color: #FFF9F9\"> when</span><span style=\"background-color: #FFFEFE\"> the</span><span style=\"background-color: #FFFAFA\"> british</span><span style=\"background-color: #FFF9F9\"> harry</span><span style=\"background-color: #FFFDFD\"> var</span><span style=\"background-color: #FFFEFE\"> ##don</span><span style=\"background-color: #FFFBFB\"> is</span><span style=\"background-color: #FFFBFB\"> haunted</span><span style=\"background-color: #FF3838\"> by</span><span style=\"background-color: #FFFDFD\"> images</span><span style=\"background-color: #FFFEFE\"> of</span><span style=\"background-color: #FFFEFE\"> the</span><span style=\"background-color: #FFFEFE\"> ari</span><span style=\"background-color: #FFF2F2\"> ##sto</span><span style=\"background-color: #FFF4F4\"> ##crats</span><span style=\"background-color: #FFF5F5\"> in</span><span style=\"background-color: #FFFDFD\"> black</span><span style=\"background-color: #FFF4F4\"> suits</span><span style=\"background-color: #FFF8F8\"> and</span><span style=\"background-color: #FFFCFC\"> top</span><span style=\"background-color: #FFFAFA\"> hats</span><span style=\"background-color: #FFE8E8\"> who</span><span style=\"background-color: #FFF2F2\"> destroyed</span><span style=\"background-color: #FFFDFD\"> his</span><span style=\"background-color: #FFA7A7\"> family</span><span style=\"background-color: #FFF7F7\"> cottage</span><span style=\"background-color: #FFF5F5\"> as</span><span style=\"background-color: #FFF9F9\"> a</span><span style=\"background-color: #FFF6F6\"> child</span><span style=\"background-color: #FFE5E5\"> to</span><span style=\"background-color: #FFF3F3\"> make</span><span style=\"background-color: #FFFCFC\"> way</span><span style=\"background-color: #FFFAFA\"> for</span><span style=\"background-color: #FFFDFD\"> a</span><span style=\"background-color: #FFF4F4\"> golf</span><br><br>[BERTのAttentionを可視化_10]<br><span style=\"background-color: #FFFEFE\"> [CLS]</span><span style=\"background-color: #FFFEFE\"> actor</span><span style=\"background-color: #FFFEFE\"> turned</span><span style=\"background-color: #FFFEFE\"> director</span><span style=\"background-color: #FFFEFE\"> bill</span><span style=\"background-color: #FFFEFE\"> paxton</span><span style=\"background-color: #FFFEFE\"> follows</span><span style=\"background-color: #FFFEFE\"> up</span><span style=\"background-color: #FFF5F5\"> his</span><span style=\"background-color: #FFFEFE\"> promising</span><span style=\"background-color: #FFFEFE\"> debut</span><span style=\"background-color: #FFFEFE\"> ,</span><span style=\"background-color: #FFFEFE\"> the</span><span style=\"background-color: #FFFEFE\"> gothic</span><span style=\"background-color: #FFFEFE\"> horror</span><span style=\"background-color: #FFFEFE\"> frail</span><span style=\"background-color: #FFFEFE\"> ##ty</span><span style=\"background-color: #FFFEFE\"> ,</span><span style=\"background-color: #FFFEFE\"> with</span><span style=\"background-color: #FFFEFE\"> this</span><span style=\"background-color: #FFFEFE\"> family</span><span style=\"background-color: #FFFEFE\"> friendly</span><span style=\"background-color: #FFFEFE\"> sports</span><span style=\"background-color: #FFFEFE\"> drama</span><span style=\"background-color: #FFFEFE\"> about</span><span style=\"background-color: #FFFEFE\"> the</span><span style=\"background-color: #FFFEFE\"> 1913</span><span style=\"background-color: #FFFEFE\"> u</span><span style=\"background-color: #FFFEFE\"> .</span><span style=\"background-color: #FFFEFE\"> s</span><span style=\"background-color: #FFFEFE\"> .</span><span style=\"background-color: #FFFEFE\"> open</span><span style=\"background-color: #FFFEFE\"> where</span><span style=\"background-color: #FFFEFE\"> a</span><span style=\"background-color: #FFFEFE\"> young</span><span style=\"background-color: #FFFEFE\"> american</span><span style=\"background-color: #FFFEFE\"> cad</span><span style=\"background-color: #FFFEFE\"> ##dy</span><span style=\"background-color: #FFFEFE\"> rises</span><span style=\"background-color: #FFFEFE\"> from</span><span style=\"background-color: #FFD9D9\"> his</span><span style=\"background-color: #FFFEFE\"> humble</span><span style=\"background-color: #FFFEFE\"> background</span><span style=\"background-color: #FFFEFE\"> to</span><span style=\"background-color: #FFFEFE\"> play</span><span style=\"background-color: #FFFEFE\"> against</span><span style=\"background-color: #FFFBFB\"> his</span><span style=\"background-color: #FFFEFE\"> br</span><span style=\"background-color: #FFFEFE\"> ##ist</span><span style=\"background-color: #FFFEFE\"> ##ish</span><span style=\"background-color: #FFFEFE\"> idol</span><span style=\"background-color: #FFFEFE\"> in</span><span style=\"background-color: #FFFEFE\"> what</span><span style=\"background-color: #FFFEFE\"> was</span><span style=\"background-color: #FFFEFE\"> dubbed</span><span style=\"background-color: #FFFEFE\"> as</span><span style=\"background-color: #FFFEFE\"> the</span><span style=\"background-color: #FFFEFE\"> greatest</span><span style=\"background-color: #FFFEFE\"> game</span><span style=\"background-color: #FFFEFE\"> ever</span><span style=\"background-color: #FFFEFE\"> played</span><span style=\"background-color: #FFFEFE\"> .</span><span style=\"background-color: #FFFEFE\"> i</span><span style=\"background-color: #FFFEFE\"> m</span><span style=\"background-color: #FFFEFE\"> no</span><span style=\"background-color: #FFFEFE\"> fan</span><span style=\"background-color: #FFFEFE\"> of</span><span style=\"background-color: #FFFEFE\"> golf</span><span style=\"background-color: #FFFEFE\"> ,</span><span style=\"background-color: #FFFEFE\"> and</span><span style=\"background-color: #FFFEFE\"> these</span><span style=\"background-color: #FFFEFE\"> scrap</span><span style=\"background-color: #FFFEFE\"> ##py</span><span style=\"background-color: #FFFEFE\"> under</span><span style=\"background-color: #FFFEFE\"> ##dog</span><span style=\"background-color: #FFFEFE\"> sports</span><span style=\"background-color: #FFFEFE\"> flick</span><span style=\"background-color: #FFFEFE\"> ##s</span><span style=\"background-color: #FFFEFE\"> are</span><span style=\"background-color: #FFFEFE\"> a</span><span style=\"background-color: #FFFEFE\"> dime</span><span style=\"background-color: #FFFEFE\"> a</span><span style=\"background-color: #FFFEFE\"> dozen</span><span style=\"background-color: #FFFEFE\"> most</span><span style=\"background-color: #FFFEFE\"> recently</span><span style=\"background-color: #FFFEFE\"> done</span><span style=\"background-color: #FFFEFE\"> to</span><span style=\"background-color: #FFFEFE\"> grand</span><span style=\"background-color: #FFFEFE\"> effect</span><span style=\"background-color: #FFFEFE\"> with</span><span style=\"background-color: #FFFEFE\"> miracle</span><span style=\"background-color: #FFFEFE\"> and</span><span style=\"background-color: #FFFEFE\"> cinderella</span><span style=\"background-color: #FFFEFE\"> man</span><span style=\"background-color: #FFFEFE\"> ,</span><span style=\"background-color: #FFFEFE\"> but</span><span style=\"background-color: #FFFEFE\"> some</span><span style=\"background-color: #FFFEFE\"> how</span><span style=\"background-color: #FFFEFE\"> this</span><span style=\"background-color: #FFFEFE\"> film</span><span style=\"background-color: #FFFEFE\"> was</span><span style=\"background-color: #FFFEFE\"> en</span><span style=\"background-color: #FFFEFE\"> ##th</span><span style=\"background-color: #FFFEFE\"> ##ral</span><span style=\"background-color: #FFFEFE\"> ##ling</span><span style=\"background-color: #FFFEFE\"> all</span><span style=\"background-color: #FFFEFE\"> the</span><span style=\"background-color: #FFFEFE\"> same</span><span style=\"background-color: #FFFEFE\"> .</span><span style=\"background-color: #FFFEFE\"> br</span><span style=\"background-color: #FFFEFE\"> br</span><span style=\"background-color: #FFFEFE\"> the</span><span style=\"background-color: #FFFEFE\"> film</span><span style=\"background-color: #FFFEFE\"> starts</span><span style=\"background-color: #FFFEFE\"> with</span><span style=\"background-color: #FFFEFE\"> some</span><span style=\"background-color: #FFFEFE\"> creative</span><span style=\"background-color: #FFFEFE\"> opening</span><span style=\"background-color: #FFFEFE\"> credits</span><span style=\"background-color: #FFFEFE\"> imagine</span><span style=\"background-color: #FFFEFE\"> a</span><span style=\"background-color: #FFFEFE\"> disney</span><span style=\"background-color: #FFFEFE\"> ##fied</span><span style=\"background-color: #FFFEFE\"> version</span><span style=\"background-color: #FFFEFE\"> of</span><span style=\"background-color: #FFFEFE\"> the</span><span style=\"background-color: #FFFEFE\"> animated</span><span style=\"background-color: #FFFEFE\"> opening</span><span style=\"background-color: #FFFEFE\"> credits</span><span style=\"background-color: #FFFEFE\"> of</span><span style=\"background-color: #FFFEFE\"> hbo</span><span style=\"background-color: #FFFEFE\"> s</span><span style=\"background-color: #FFFEFE\"> carnival</span><span style=\"background-color: #FFFEFE\"> ##e</span><span style=\"background-color: #FFFEFE\"> and</span><span style=\"background-color: #FFFEFE\"> rome</span><span style=\"background-color: #FFFEFE\"> ,</span><span style=\"background-color: #FFFEFE\"> but</span><span style=\"background-color: #FFFEFE\"> lumber</span><span style=\"background-color: #FFFEFE\"> ##s</span><span style=\"background-color: #FFFEFE\"> along</span><span style=\"background-color: #FFFEFE\"> slowly</span><span style=\"background-color: #FFFEFE\"> for</span><span style=\"background-color: #FFFEFE\"> its</span><span style=\"background-color: #FFFCFC\"> first</span><span style=\"background-color: #FFFEFE\"> by</span><span style=\"background-color: #FFFEFE\"> the</span><span style=\"background-color: #FFFCFC\"> numbers</span><span style=\"background-color: #FFFEFE\"> hour</span><span style=\"background-color: #FFFEFE\"> .</span><span style=\"background-color: #FFFEFE\"> once</span><span style=\"background-color: #FFFEFE\"> the</span><span style=\"background-color: #FFFEFE\"> action</span><span style=\"background-color: #FFFEFE\"> moves</span><span style=\"background-color: #FFFEFE\"> to</span><span style=\"background-color: #FFFEFE\"> the</span><span style=\"background-color: #FFFEFE\"> u</span><span style=\"background-color: #FFFEFE\"> .</span><span style=\"background-color: #FFFEFE\"> s</span><span style=\"background-color: #FFFEFE\"> .</span><span style=\"background-color: #FFFEFE\"> open</span><span style=\"background-color: #FFFEFE\"> things</span><span style=\"background-color: #FFFCFC\"> pick</span><span style=\"background-color: #FFFEFE\"> up</span><span style=\"background-color: #FFFEFE\"> very</span><span style=\"background-color: #FF0000\"> well</span><span style=\"background-color: #FFFEFE\"> .</span><span style=\"background-color: #FFFEFE\"> paxton</span><span style=\"background-color: #FFFEFE\"> does</span><span style=\"background-color: #FFFEFE\"> a</span><span style=\"background-color: #FFFEFE\"> nice</span><span style=\"background-color: #FFFEFE\"> job</span><span style=\"background-color: #FFFEFE\"> and</span><span style=\"background-color: #FFFEFE\"> shows</span><span style=\"background-color: #FFFEFE\"> a</span><span style=\"background-color: #FFFEFE\"> kn</span><span style=\"background-color: #FFFEFE\"> ##ack</span><span style=\"background-color: #FFFEFE\"> for</span><span style=\"background-color: #FFFEFE\"> effective</span><span style=\"background-color: #FFFEFE\"> directorial</span><span style=\"background-color: #FFFEFE\"> flourish</span><span style=\"background-color: #FFFEFE\"> ##es</span><span style=\"background-color: #FFFEFE\"> i</span><span style=\"background-color: #FFFEFE\"> loved</span><span style=\"background-color: #FFFEFE\"> the</span><span style=\"background-color: #FFFEFE\"> rain</span><span style=\"background-color: #FFFEFE\"> soaked</span><span style=\"background-color: #FFFEFE\"> mont</span><span style=\"background-color: #FFFEFE\"> ##age</span><span style=\"background-color: #FFFEFE\"> of</span><span style=\"background-color: #FFFEFE\"> the</span><span style=\"background-color: #FFFEFE\"> action</span><span style=\"background-color: #FFFEFE\"> on</span><span style=\"background-color: #FFFEFE\"> day</span><span style=\"background-color: #FFFEFE\"> two</span><span style=\"background-color: #FFFEFE\"> of</span><span style=\"background-color: #FFFEFE\"> the</span><span style=\"background-color: #FFFEFE\"> open</span><span style=\"background-color: #FFFEFE\"> that</span><span style=\"background-color: #FFFEFE\"> prop</span><span style=\"background-color: #FFFEFE\"> ##el</span><span style=\"background-color: #FFFEFE\"> the</span><span style=\"background-color: #FFFDFD\"> plot</span><span style=\"background-color: #FFFEFE\"> further</span><span style=\"background-color: #FFFEFE\"> or</span><span style=\"background-color: #FFFEFE\"> add</span><span style=\"background-color: #FFFEFE\"> some</span><span style=\"background-color: #FFFEFE\"> unexpected</span><span style=\"background-color: #FFFEFE\"> psychological</span><span style=\"background-color: #FFFEFE\"> depth</span><span style=\"background-color: #FFFEFE\"> to</span><span style=\"background-color: #FFFEFE\"> the</span><span style=\"background-color: #FFFEFE\"> proceedings</span><span style=\"background-color: #FFFEFE\"> .</span><span style=\"background-color: #FFFEFE\"> there</span><span style=\"background-color: #FFFEFE\"> s</span><span style=\"background-color: #FFFEFE\"> some</span><span style=\"background-color: #FFFEFE\"> compelling</span><span style=\"background-color: #FFFEFE\"> character</span><span style=\"background-color: #FFFEFE\"> development</span><span style=\"background-color: #FFFEFE\"> when</span><span style=\"background-color: #FFFEFE\"> the</span><span style=\"background-color: #FFFEFE\"> british</span><span style=\"background-color: #FFFEFE\"> harry</span><span style=\"background-color: #FFFEFE\"> var</span><span style=\"background-color: #FFFEFE\"> ##don</span><span style=\"background-color: #FFFEFE\"> is</span><span style=\"background-color: #FFFEFE\"> haunted</span><span style=\"background-color: #FFFEFE\"> by</span><span style=\"background-color: #FFFEFE\"> images</span><span style=\"background-color: #FFFEFE\"> of</span><span style=\"background-color: #FFFEFE\"> the</span><span style=\"background-color: #FFFEFE\"> ari</span><span style=\"background-color: #FFFEFE\"> ##sto</span><span style=\"background-color: #FFFEFE\"> ##crats</span><span style=\"background-color: #FFFEFE\"> in</span><span style=\"background-color: #FFFEFE\"> black</span><span style=\"background-color: #FFFEFE\"> suits</span><span style=\"background-color: #FFFEFE\"> and</span><span style=\"background-color: #FFFEFE\"> top</span><span style=\"background-color: #FFFEFE\"> hats</span><span style=\"background-color: #FFFEFE\"> who</span><span style=\"background-color: #FFFEFE\"> destroyed</span><span style=\"background-color: #FFFBFB\"> his</span><span style=\"background-color: #FFFEFE\"> family</span><span style=\"background-color: #FFFEFE\"> cottage</span><span style=\"background-color: #FFFEFE\"> as</span><span style=\"background-color: #FFFEFE\"> a</span><span style=\"background-color: #FFFEFE\"> child</span><span style=\"background-color: #FFFEFE\"> to</span><span style=\"background-color: #FFFEFE\"> make</span><span style=\"background-color: #FFFEFE\"> way</span><span style=\"background-color: #FFFEFE\"> for</span><span style=\"background-color: #FFFEFE\"> a</span><span style=\"background-color: #FFFEFE\"> golf</span><br><br>[BERTのAttentionを可視化_11]<br><span style=\"background-color: #FFFBFB\"> [CLS]</span><span style=\"background-color: #FFF0F0\"> actor</span><span style=\"background-color: #FFF4F4\"> turned</span><span style=\"background-color: #FFDFDF\"> director</span><span style=\"background-color: #FFE0E0\"> bill</span><span style=\"background-color: #FFEFEF\"> paxton</span><span style=\"background-color: #FFEBEB\"> follows</span><span style=\"background-color: #FFF2F2\"> up</span><span style=\"background-color: #FFDFDF\"> his</span><span style=\"background-color: #FFA0A0\"> promising</span><span style=\"background-color: #FFF3F3\"> debut</span><span style=\"background-color: #FFF1F1\"> ,</span><span style=\"background-color: #FFF6F6\"> the</span><span style=\"background-color: #FFE4E4\"> gothic</span><span style=\"background-color: #FFF1F1\"> horror</span><span style=\"background-color: #FFE9E9\"> frail</span><span style=\"background-color: #FFF2F2\"> ##ty</span><span style=\"background-color: #FFF0F0\"> ,</span><span style=\"background-color: #FFF5F5\"> with</span><span style=\"background-color: #FFECEC\"> this</span><span style=\"background-color: #FFE2E2\"> family</span><span style=\"background-color: #FFF7F7\"> friendly</span><span style=\"background-color: #FFF6F6\"> sports</span><span style=\"background-color: #FFF8F8\"> drama</span><span style=\"background-color: #FFF2F2\"> about</span><span style=\"background-color: #FFF9F9\"> the</span><span style=\"background-color: #FFF7F7\"> 1913</span><span style=\"background-color: #FFF8F8\"> u</span><span style=\"background-color: #FFF6F6\"> .</span><span style=\"background-color: #FFF8F8\"> s</span><span style=\"background-color: #FFEEEE\"> .</span><span style=\"background-color: #FFEFEF\"> open</span><span style=\"background-color: #FFF8F8\"> where</span><span style=\"background-color: #FFE8E8\"> a</span><span style=\"background-color: #FFF0F0\"> young</span><span style=\"background-color: #FFF1F1\"> american</span><span style=\"background-color: #FFF5F5\"> cad</span><span style=\"background-color: #FFE7E7\"> ##dy</span><span style=\"background-color: #FFF7F7\"> rises</span><span style=\"background-color: #FFFAFA\"> from</span><span style=\"background-color: #FFEEEE\"> his</span><span style=\"background-color: #FFE3E3\"> humble</span><span style=\"background-color: #FFF1F1\"> background</span><span style=\"background-color: #FFF4F4\"> to</span><span style=\"background-color: #FFF9F9\"> play</span><span style=\"background-color: #FFF1F1\"> against</span><span style=\"background-color: #FFE6E6\"> his</span><span style=\"background-color: #FF6C6C\"> br</span><span style=\"background-color: #FFF4F4\"> ##ist</span><span style=\"background-color: #FFECEC\"> ##ish</span><span style=\"background-color: #FFF0F0\"> idol</span><span style=\"background-color: #FFFAFA\"> in</span><span style=\"background-color: #FFF2F2\"> what</span><span style=\"background-color: #FFF2F2\"> was</span><span style=\"background-color: #FFF0F0\"> dubbed</span><span style=\"background-color: #FFF8F8\"> as</span><span style=\"background-color: #FFEBEB\"> the</span><span style=\"background-color: #FFE1E1\"> greatest</span><span style=\"background-color: #FFF3F3\"> game</span><span style=\"background-color: #FFF3F3\"> ever</span><span style=\"background-color: #FFEDED\"> played</span><span style=\"background-color: #FFF4F4\"> .</span><span style=\"background-color: #FFF0F0\"> i</span><span style=\"background-color: #FFD6D6\"> m</span><span style=\"background-color: #FFDDDD\"> no</span><span style=\"background-color: #FFFCFC\"> fan</span><span style=\"background-color: #FFE4E4\"> of</span><span style=\"background-color: #FFF4F4\"> golf</span><span style=\"background-color: #FFF1F1\"> ,</span><span style=\"background-color: #FF0000\"> and</span><span style=\"background-color: #FFFAFA\"> these</span><span style=\"background-color: #FFF7F7\"> scrap</span><span style=\"background-color: #FFEEEE\"> ##py</span><span style=\"background-color: #FFDADA\"> under</span><span style=\"background-color: #FFF9F9\"> ##dog</span><span style=\"background-color: #FFE9E9\"> sports</span><span style=\"background-color: #FFE7E7\"> flick</span><span style=\"background-color: #FFE3E3\"> ##s</span><span style=\"background-color: #FFF4F4\"> are</span><span style=\"background-color: #FFF4F4\"> a</span><span style=\"background-color: #FFF9F9\"> dime</span><span style=\"background-color: #FFF6F6\"> a</span><span style=\"background-color: #FFE0E0\"> dozen</span><span style=\"background-color: #FFE8E8\"> most</span><span style=\"background-color: #FFF7F7\"> recently</span><span style=\"background-color: #FFF3F3\"> done</span><span style=\"background-color: #FFF2F2\"> to</span><span style=\"background-color: #FFEEEE\"> grand</span><span style=\"background-color: #FFE6E6\"> effect</span><span style=\"background-color: #FFF5F5\"> with</span><span style=\"background-color: #FFF8F8\"> miracle</span><span style=\"background-color: #FF2F2F\"> and</span><span style=\"background-color: #FF4F4F\"> cinderella</span><span style=\"background-color: #FFE8E8\"> man</span><span style=\"background-color: #FFEEEE\"> ,</span><span style=\"background-color: #FFECEC\"> but</span><span style=\"background-color: #FFDFDF\"> some</span><span style=\"background-color: #FFF5F5\"> how</span><span style=\"background-color: #FFF0F0\"> this</span><span style=\"background-color: #FFF4F4\"> film</span><span style=\"background-color: #FFF2F2\"> was</span><span style=\"background-color: #FFEFEF\"> en</span><span style=\"background-color: #FFE9E9\"> ##th</span><span style=\"background-color: #FFF3F3\"> ##ral</span><span style=\"background-color: #FFFAFA\"> ##ling</span><span style=\"background-color: #FFF3F3\"> all</span><span style=\"background-color: #FFF5F5\"> the</span><span style=\"background-color: #FFF7F7\"> same</span><span style=\"background-color: #FFF7F7\"> .</span><span style=\"background-color: #FF9E9E\"> br</span><span style=\"background-color: #FFA6A6\"> br</span><span style=\"background-color: #FFE9E9\"> the</span><span style=\"background-color: #FFF2F2\"> film</span><span style=\"background-color: #FFF1F1\"> starts</span><span style=\"background-color: #FFF4F4\"> with</span><span style=\"background-color: #FFF7F7\"> some</span><span style=\"background-color: #FFF7F7\"> creative</span><span style=\"background-color: #FFEBEB\"> opening</span><span style=\"background-color: #FFF5F5\"> credits</span><span style=\"background-color: #FFF2F2\"> imagine</span><span style=\"background-color: #FFF6F6\"> a</span><span style=\"background-color: #FFE7E7\"> disney</span><span style=\"background-color: #FFF5F5\"> ##fied</span><span style=\"background-color: #FFFBFB\"> version</span><span style=\"background-color: #FFF2F2\"> of</span><span style=\"background-color: #FFF6F6\"> the</span><span style=\"background-color: #FFF9F9\"> animated</span><span style=\"background-color: #FFFAFA\"> opening</span><span style=\"background-color: #FFF9F9\"> credits</span><span style=\"background-color: #FFF9F9\"> of</span><span style=\"background-color: #FFEEEE\"> hbo</span><span style=\"background-color: #FFF7F7\"> s</span><span style=\"background-color: #FFEFEF\"> carnival</span><span style=\"background-color: #FFF6F6\"> ##e</span><span style=\"background-color: #FF6E6E\"> and</span><span style=\"background-color: #FFF9F9\"> rome</span><span style=\"background-color: #FFF3F3\"> ,</span><span style=\"background-color: #FFF2F2\"> but</span><span style=\"background-color: #FFFBFB\"> lumber</span><span style=\"background-color: #FFF7F7\"> ##s</span><span style=\"background-color: #FFEEEE\"> along</span><span style=\"background-color: #FFF6F6\"> slowly</span><span style=\"background-color: #FFEBEB\"> for</span><span style=\"background-color: #FFF9F9\"> its</span><span style=\"background-color: #FFFAFA\"> first</span><span style=\"background-color: #FFF4F4\"> by</span><span style=\"background-color: #FFF4F4\"> the</span><span style=\"background-color: #FFF4F4\"> numbers</span><span style=\"background-color: #FFF8F8\"> hour</span><span style=\"background-color: #FFEBEB\"> .</span><span style=\"background-color: #FFF8F8\"> once</span><span style=\"background-color: #FFF8F8\"> the</span><span style=\"background-color: #FFF0F0\"> action</span><span style=\"background-color: #FFEAEA\"> moves</span><span style=\"background-color: #FFF9F9\"> to</span><span style=\"background-color: #FFECEC\"> the</span><span style=\"background-color: #FFE8E8\"> u</span><span style=\"background-color: #FFF8F8\"> .</span><span style=\"background-color: #FFF7F7\"> s</span><span style=\"background-color: #FFF9F9\"> .</span><span style=\"background-color: #FFE3E3\"> open</span><span style=\"background-color: #FFFAFA\"> things</span><span style=\"background-color: #FFE9E9\"> pick</span><span style=\"background-color: #FFE8E8\"> up</span><span style=\"background-color: #FFF7F7\"> very</span><span style=\"background-color: #FFF3F3\"> well</span><span style=\"background-color: #FFF4F4\"> .</span><span style=\"background-color: #FFEEEE\"> paxton</span><span style=\"background-color: #FFF4F4\"> does</span><span style=\"background-color: #FFEAEA\"> a</span><span style=\"background-color: #FFF2F2\"> nice</span><span style=\"background-color: #FFEEEE\"> job</span><span style=\"background-color: #FF7B7B\"> and</span><span style=\"background-color: #FFF3F3\"> shows</span><span style=\"background-color: #FFF7F7\"> a</span><span style=\"background-color: #FFF3F3\"> kn</span><span style=\"background-color: #FFF4F4\"> ##ack</span><span style=\"background-color: #FFF1F1\"> for</span><span style=\"background-color: #FFF5F5\"> effective</span><span style=\"background-color: #FFC1C1\"> directorial</span><span style=\"background-color: #FFF5F5\"> flourish</span><span style=\"background-color: #FFF2F2\"> ##es</span><span style=\"background-color: #FFF1F1\"> i</span><span style=\"background-color: #FFEDED\"> loved</span><span style=\"background-color: #FFFAFA\"> the</span><span style=\"background-color: #FFF9F9\"> rain</span><span style=\"background-color: #FFEEEE\"> soaked</span><span style=\"background-color: #FFF6F6\"> mont</span><span style=\"background-color: #FFFAFA\"> ##age</span><span style=\"background-color: #FFF0F0\"> of</span><span style=\"background-color: #FFEDED\"> the</span><span style=\"background-color: #FFEEEE\"> action</span><span style=\"background-color: #FFE8E8\"> on</span><span style=\"background-color: #FFF1F1\"> day</span><span style=\"background-color: #FFE7E7\"> two</span><span style=\"background-color: #FFEEEE\"> of</span><span style=\"background-color: #FFF2F2\"> the</span><span style=\"background-color: #FFECEC\"> open</span><span style=\"background-color: #FFF1F1\"> that</span><span style=\"background-color: #FFF4F4\"> prop</span><span style=\"background-color: #FFE3E3\"> ##el</span><span style=\"background-color: #FFF2F2\"> the</span><span style=\"background-color: #FFE6E6\"> plot</span><span style=\"background-color: #FFF0F0\"> further</span><span style=\"background-color: #FFE1E1\"> or</span><span style=\"background-color: #FFBDBD\"> add</span><span style=\"background-color: #FFEEEE\"> some</span><span style=\"background-color: #FFF7F7\"> unexpected</span><span style=\"background-color: #FFF9F9\"> psychological</span><span style=\"background-color: #FFF0F0\"> depth</span><span style=\"background-color: #FFF8F8\"> to</span><span style=\"background-color: #FFF7F7\"> the</span><span style=\"background-color: #FFF9F9\"> proceedings</span><span style=\"background-color: #FFF4F4\"> .</span><span style=\"background-color: #FFF7F7\"> there</span><span style=\"background-color: #FFF6F6\"> s</span><span style=\"background-color: #FFEFEF\"> some</span><span style=\"background-color: #FFEAEA\"> compelling</span><span style=\"background-color: #FFD6D6\"> character</span><span style=\"background-color: #FFEBEB\"> development</span><span style=\"background-color: #FFF5F5\"> when</span><span style=\"background-color: #FFF1F1\"> the</span><span style=\"background-color: #FFF0F0\"> british</span><span style=\"background-color: #FFF8F8\"> harry</span><span style=\"background-color: #FFF5F5\"> var</span><span style=\"background-color: #FFFBFB\"> ##don</span><span style=\"background-color: #FFF4F4\"> is</span><span style=\"background-color: #FFE8E8\"> haunted</span><span style=\"background-color: #FFEDED\"> by</span><span style=\"background-color: #FFE1E1\"> images</span><span style=\"background-color: #FFF8F8\"> of</span><span style=\"background-color: #FFF2F2\"> the</span><span style=\"background-color: #FFF5F5\"> ari</span><span style=\"background-color: #FFEDED\"> ##sto</span><span style=\"background-color: #FFF3F3\"> ##crats</span><span style=\"background-color: #FFF6F6\"> in</span><span style=\"background-color: #FFE8E8\"> black</span><span style=\"background-color: #FFF2F2\"> suits</span><span style=\"background-color: #FF0A0A\"> and</span><span style=\"background-color: #FFDEDE\"> top</span><span style=\"background-color: #FFFBFB\"> hats</span><span style=\"background-color: #FFF7F7\"> who</span><span style=\"background-color: #FFF5F5\"> destroyed</span><span style=\"background-color: #FFE7E7\"> his</span><span style=\"background-color: #FFD2D2\"> family</span><span style=\"background-color: #FFF7F7\"> cottage</span><span style=\"background-color: #FFF5F5\"> as</span><span style=\"background-color: #FFEFEF\"> a</span><span style=\"background-color: #FFD9D9\"> child</span><span style=\"background-color: #FFF1F1\"> to</span><span style=\"background-color: #FFEEEE\"> make</span><span style=\"background-color: #FFEDED\"> way</span><span style=\"background-color: #FFE4E4\"> for</span><span style=\"background-color: #FFF7F7\"> a</span><span style=\"background-color: #FFD5D5\"> golf</span><br><br>[BERTのAttentionを可視化_12]<br><span style=\"background-color: #FFFEFE\"> [CLS]</span><span style=\"background-color: #FFFEFE\"> actor</span><span style=\"background-color: #FFFEFE\"> turned</span><span style=\"background-color: #FFFEFE\"> director</span><span style=\"background-color: #FFFEFE\"> bill</span><span style=\"background-color: #FFFEFE\"> paxton</span><span style=\"background-color: #FFFEFE\"> follows</span><span style=\"background-color: #FFFEFE\"> up</span><span style=\"background-color: #FFFEFE\"> his</span><span style=\"background-color: #FFFEFE\"> promising</span><span style=\"background-color: #FFFEFE\"> debut</span><span style=\"background-color: #FFFEFE\"> ,</span><span style=\"background-color: #FFFEFE\"> the</span><span style=\"background-color: #FFFEFE\"> gothic</span><span style=\"background-color: #FFFEFE\"> horror</span><span style=\"background-color: #FFFEFE\"> frail</span><span style=\"background-color: #FFFEFE\"> ##ty</span><span style=\"background-color: #FFFEFE\"> ,</span><span style=\"background-color: #FFFEFE\"> with</span><span style=\"background-color: #FFFEFE\"> this</span><span style=\"background-color: #FFFEFE\"> family</span><span style=\"background-color: #FFFEFE\"> friendly</span><span style=\"background-color: #FFFEFE\"> sports</span><span style=\"background-color: #FFFEFE\"> drama</span><span style=\"background-color: #FFFEFE\"> about</span><span style=\"background-color: #FFFEFE\"> the</span><span style=\"background-color: #FFFEFE\"> 1913</span><span style=\"background-color: #FFFEFE\"> u</span><span style=\"background-color: #FFFEFE\"> .</span><span style=\"background-color: #FFFEFE\"> s</span><span style=\"background-color: #FFFEFE\"> .</span><span style=\"background-color: #FFFEFE\"> open</span><span style=\"background-color: #FFFEFE\"> where</span><span style=\"background-color: #FFFEFE\"> a</span><span style=\"background-color: #FFFEFE\"> young</span><span style=\"background-color: #FFFEFE\"> american</span><span style=\"background-color: #FFFEFE\"> cad</span><span style=\"background-color: #FFFEFE\"> ##dy</span><span style=\"background-color: #FFFEFE\"> rises</span><span style=\"background-color: #FFFEFE\"> from</span><span style=\"background-color: #FFFEFE\"> his</span><span style=\"background-color: #FFFEFE\"> humble</span><span style=\"background-color: #FFFEFE\"> background</span><span style=\"background-color: #FFFEFE\"> to</span><span style=\"background-color: #FFFEFE\"> play</span><span style=\"background-color: #FFFEFE\"> against</span><span style=\"background-color: #FFFEFE\"> his</span><span style=\"background-color: #FFFEFE\"> br</span><span style=\"background-color: #FFFEFE\"> ##ist</span><span style=\"background-color: #FFFEFE\"> ##ish</span><span style=\"background-color: #FFFEFE\"> idol</span><span style=\"background-color: #FFFEFE\"> in</span><span style=\"background-color: #FFFEFE\"> what</span><span style=\"background-color: #FFFEFE\"> was</span><span style=\"background-color: #FFFEFE\"> dubbed</span><span style=\"background-color: #FFFEFE\"> as</span><span style=\"background-color: #FFFEFE\"> the</span><span style=\"background-color: #FFFDFD\"> greatest</span><span style=\"background-color: #FFFEFE\"> game</span><span style=\"background-color: #FFFEFE\"> ever</span><span style=\"background-color: #FFFEFE\"> played</span><span style=\"background-color: #FFFEFE\"> .</span><span style=\"background-color: #FFFEFE\"> i</span><span style=\"background-color: #FFFEFE\"> m</span><span style=\"background-color: #FF0000\"> no</span><span style=\"background-color: #FFFEFE\"> fan</span><span style=\"background-color: #FFFEFE\"> of</span><span style=\"background-color: #FFFEFE\"> golf</span><span style=\"background-color: #FFFEFE\"> ,</span><span style=\"background-color: #FFFEFE\"> and</span><span style=\"background-color: #FFFEFE\"> these</span><span style=\"background-color: #FFFEFE\"> scrap</span><span style=\"background-color: #FFFEFE\"> ##py</span><span style=\"background-color: #FFFEFE\"> under</span><span style=\"background-color: #FFFEFE\"> ##dog</span><span style=\"background-color: #FFFEFE\"> sports</span><span style=\"background-color: #FFFEFE\"> flick</span><span style=\"background-color: #FFFEFE\"> ##s</span><span style=\"background-color: #FFFEFE\"> are</span><span style=\"background-color: #FFFEFE\"> a</span><span style=\"background-color: #FFFEFE\"> dime</span><span style=\"background-color: #FFFEFE\"> a</span><span style=\"background-color: #FFFEFE\"> dozen</span><span style=\"background-color: #FFFEFE\"> most</span><span style=\"background-color: #FFFEFE\"> recently</span><span style=\"background-color: #FFFEFE\"> done</span><span style=\"background-color: #FFFEFE\"> to</span><span style=\"background-color: #FFFEFE\"> grand</span><span style=\"background-color: #FFFEFE\"> effect</span><span style=\"background-color: #FFFEFE\"> with</span><span style=\"background-color: #FFFEFE\"> miracle</span><span style=\"background-color: #FFFDFD\"> and</span><span style=\"background-color: #FFFEFE\"> cinderella</span><span style=\"background-color: #FFFEFE\"> man</span><span style=\"background-color: #FFFEFE\"> ,</span><span style=\"background-color: #FFFEFE\"> but</span><span style=\"background-color: #FFFEFE\"> some</span><span style=\"background-color: #FFFEFE\"> how</span><span style=\"background-color: #FFFEFE\"> this</span><span style=\"background-color: #FFFEFE\"> film</span><span style=\"background-color: #FFFEFE\"> was</span><span style=\"background-color: #FFFEFE\"> en</span><span style=\"background-color: #FFFEFE\"> ##th</span><span style=\"background-color: #FFFEFE\"> ##ral</span><span style=\"background-color: #FFFEFE\"> ##ling</span><span style=\"background-color: #FFFEFE\"> all</span><span style=\"background-color: #FFFEFE\"> the</span><span style=\"background-color: #FFFEFE\"> same</span><span style=\"background-color: #FFFEFE\"> .</span><span style=\"background-color: #FFFEFE\"> br</span><span style=\"background-color: #FFFEFE\"> br</span><span style=\"background-color: #FFFEFE\"> the</span><span style=\"background-color: #FFFEFE\"> film</span><span style=\"background-color: #FFFEFE\"> starts</span><span style=\"background-color: #FFFEFE\"> with</span><span style=\"background-color: #FFFEFE\"> some</span><span style=\"background-color: #FFFEFE\"> creative</span><span style=\"background-color: #FFFEFE\"> opening</span><span style=\"background-color: #FFFEFE\"> credits</span><span style=\"background-color: #FFFEFE\"> imagine</span><span style=\"background-color: #FFFEFE\"> a</span><span style=\"background-color: #FFFEFE\"> disney</span><span style=\"background-color: #FFFEFE\"> ##fied</span><span style=\"background-color: #FFFEFE\"> version</span><span style=\"background-color: #FFFEFE\"> of</span><span style=\"background-color: #FFFEFE\"> the</span><span style=\"background-color: #FFFEFE\"> animated</span><span style=\"background-color: #FFFEFE\"> opening</span><span style=\"background-color: #FFFEFE\"> credits</span><span style=\"background-color: #FFFEFE\"> of</span><span style=\"background-color: #FFFEFE\"> hbo</span><span style=\"background-color: #FFFEFE\"> s</span><span style=\"background-color: #FFFEFE\"> carnival</span><span style=\"background-color: #FFFEFE\"> ##e</span><span style=\"background-color: #FFFDFD\"> and</span><span style=\"background-color: #FFFEFE\"> rome</span><span style=\"background-color: #FFFEFE\"> ,</span><span style=\"background-color: #FFFEFE\"> but</span><span style=\"background-color: #FFFEFE\"> lumber</span><span style=\"background-color: #FFFEFE\"> ##s</span><span style=\"background-color: #FFFEFE\"> along</span><span style=\"background-color: #FFFEFE\"> slowly</span><span style=\"background-color: #FFFEFE\"> for</span><span style=\"background-color: #FFFEFE\"> its</span><span style=\"background-color: #FFFEFE\"> first</span><span style=\"background-color: #FFFEFE\"> by</span><span style=\"background-color: #FFFEFE\"> the</span><span style=\"background-color: #FFFEFE\"> numbers</span><span style=\"background-color: #FFFEFE\"> hour</span><span style=\"background-color: #FFFEFE\"> .</span><span style=\"background-color: #FFFEFE\"> once</span><span style=\"background-color: #FFFEFE\"> the</span><span style=\"background-color: #FFFEFE\"> action</span><span style=\"background-color: #FFFEFE\"> moves</span><span style=\"background-color: #FFFEFE\"> to</span><span style=\"background-color: #FFFEFE\"> the</span><span style=\"background-color: #FFFEFE\"> u</span><span style=\"background-color: #FFFEFE\"> .</span><span style=\"background-color: #FFFEFE\"> s</span><span style=\"background-color: #FFFEFE\"> .</span><span style=\"background-color: #FFFEFE\"> open</span><span style=\"background-color: #FFFEFE\"> things</span><span style=\"background-color: #FFFEFE\"> pick</span><span style=\"background-color: #FFFEFE\"> up</span><span style=\"background-color: #FFFEFE\"> very</span><span style=\"background-color: #FFFEFE\"> well</span><span style=\"background-color: #FFFEFE\"> .</span><span style=\"background-color: #FFFEFE\"> paxton</span><span style=\"background-color: #FFFEFE\"> does</span><span style=\"background-color: #FFFEFE\"> a</span><span style=\"background-color: #FFFEFE\"> nice</span><span style=\"background-color: #FFFEFE\"> job</span><span style=\"background-color: #FFFCFC\"> and</span><span style=\"background-color: #FFFEFE\"> shows</span><span style=\"background-color: #FFFEFE\"> a</span><span style=\"background-color: #FFFEFE\"> kn</span><span style=\"background-color: #FFFEFE\"> ##ack</span><span style=\"background-color: #FFFEFE\"> for</span><span style=\"background-color: #FFFEFE\"> effective</span><span style=\"background-color: #FFFEFE\"> directorial</span><span style=\"background-color: #FFFEFE\"> flourish</span><span style=\"background-color: #FFFEFE\"> ##es</span><span style=\"background-color: #FFFEFE\"> i</span><span style=\"background-color: #FFFEFE\"> loved</span><span style=\"background-color: #FFFEFE\"> the</span><span style=\"background-color: #FFFEFE\"> rain</span><span style=\"background-color: #FFFEFE\"> soaked</span><span style=\"background-color: #FFFEFE\"> mont</span><span style=\"background-color: #FFFEFE\"> ##age</span><span style=\"background-color: #FFFEFE\"> of</span><span style=\"background-color: #FFFEFE\"> the</span><span style=\"background-color: #FFFEFE\"> action</span><span style=\"background-color: #FFFEFE\"> on</span><span style=\"background-color: #FFFEFE\"> day</span><span style=\"background-color: #FFFEFE\"> two</span><span style=\"background-color: #FFFEFE\"> of</span><span style=\"background-color: #FFFEFE\"> the</span><span style=\"background-color: #FFFEFE\"> open</span><span style=\"background-color: #FFFEFE\"> that</span><span style=\"background-color: #FFFEFE\"> prop</span><span style=\"background-color: #FFFEFE\"> ##el</span><span style=\"background-color: #FFFEFE\"> the</span><span style=\"background-color: #FFFEFE\"> plot</span><span style=\"background-color: #FFFEFE\"> further</span><span style=\"background-color: #FFFEFE\"> or</span><span style=\"background-color: #FFFEFE\"> add</span><span style=\"background-color: #FFFEFE\"> some</span><span style=\"background-color: #FFFEFE\"> unexpected</span><span style=\"background-color: #FFFEFE\"> psychological</span><span style=\"background-color: #FFFEFE\"> depth</span><span style=\"background-color: #FFFEFE\"> to</span><span style=\"background-color: #FFFEFE\"> the</span><span style=\"background-color: #FFFEFE\"> proceedings</span><span style=\"background-color: #FFFEFE\"> .</span><span style=\"background-color: #FFFEFE\"> there</span><span style=\"background-color: #FFFEFE\"> s</span><span style=\"background-color: #FFFEFE\"> some</span><span style=\"background-color: #FFFEFE\"> compelling</span><span style=\"background-color: #FFFEFE\"> character</span><span style=\"background-color: #FFFEFE\"> development</span><span style=\"background-color: #FFFEFE\"> when</span><span style=\"background-color: #FFFEFE\"> the</span><span style=\"background-color: #FFFEFE\"> british</span><span style=\"background-color: #FFFEFE\"> harry</span><span style=\"background-color: #FFFEFE\"> var</span><span style=\"background-color: #FFFEFE\"> ##don</span><span style=\"background-color: #FFFEFE\"> is</span><span style=\"background-color: #FFFEFE\"> haunted</span><span style=\"background-color: #FFFEFE\"> by</span><span style=\"background-color: #FFFEFE\"> images</span><span style=\"background-color: #FFFEFE\"> of</span><span style=\"background-color: #FFFEFE\"> the</span><span style=\"background-color: #FFFEFE\"> ari</span><span style=\"background-color: #FFFEFE\"> ##sto</span><span style=\"background-color: #FFFEFE\"> ##crats</span><span style=\"background-color: #FFFEFE\"> in</span><span style=\"background-color: #FFFEFE\"> black</span><span style=\"background-color: #FFFEFE\"> suits</span><span style=\"background-color: #FFFEFE\"> and</span><span style=\"background-color: #FFFEFE\"> top</span><span style=\"background-color: #FFFEFE\"> hats</span><span style=\"background-color: #FFFEFE\"> who</span><span style=\"background-color: #FFFEFE\"> destroyed</span><span style=\"background-color: #FFFEFE\"> his</span><span style=\"background-color: #FFFEFE\"> family</span><span style=\"background-color: #FFFEFE\"> cottage</span><span style=\"background-color: #FFFEFE\"> as</span><span style=\"background-color: #FFFEFE\"> a</span><span style=\"background-color: #FFFEFE\"> child</span><span style=\"background-color: #FFFEFE\"> to</span><span style=\"background-color: #FFFEFE\"> make</span><span style=\"background-color: #FFFEFE\"> way</span><span style=\"background-color: #FFFEFE\"> for</span><span style=\"background-color: #FFFEFE\"> a</span><span style=\"background-color: #FFFEFE\"> golf</span><br><br><br><br>[BERTのAttentionを可視化_ALL]<br><span style=\"background-color: #FFF4F4\"> [CLS]</span><span style=\"background-color: #FFEFEF\"> actor</span><span style=\"background-color: #FFEEEE\"> turned</span><span style=\"background-color: #FFEBEB\"> director</span><span style=\"background-color: #FFE1E1\"> bill</span><span style=\"background-color: #FFE4E4\"> paxton</span><span style=\"background-color: #FFF5F5\"> follows</span><span style=\"background-color: #FFE1E1\"> up</span><span style=\"background-color: #FFE3E3\"> his</span><span style=\"background-color: #FFDBDB\"> promising</span><span style=\"background-color: #FFE5E5\"> debut</span><span style=\"background-color: #FFEDED\"> ,</span><span style=\"background-color: #FFF8F8\"> the</span><span style=\"background-color: #FFDBDB\"> gothic</span><span style=\"background-color: #FFF0F0\"> horror</span><span style=\"background-color: #FFE8E8\"> frail</span><span style=\"background-color: #FFECEC\"> ##ty</span><span style=\"background-color: #FFF2F2\"> ,</span><span style=\"background-color: #FFA3A3\"> with</span><span style=\"background-color: #FFA5A5\"> this</span><span style=\"background-color: #FFCDCD\"> family</span><span style=\"background-color: #FFEAEA\"> friendly</span><span style=\"background-color: #FFDEDE\"> sports</span><span style=\"background-color: #FFF6F6\"> drama</span><span style=\"background-color: #FFD5D5\"> about</span><span style=\"background-color: #FFF7F7\"> the</span><span style=\"background-color: #FFEFEF\"> 1913</span><span style=\"background-color: #FFF3F3\"> u</span><span style=\"background-color: #FFE7E7\"> .</span><span style=\"background-color: #FFF0F0\"> s</span><span style=\"background-color: #FFDFDF\"> .</span><span style=\"background-color: #FFEDED\"> open</span><span style=\"background-color: #FFF4F4\"> where</span><span style=\"background-color: #FFEBEB\"> a</span><span style=\"background-color: #FFEDED\"> young</span><span style=\"background-color: #FFEEEE\"> american</span><span style=\"background-color: #FFF7F7\"> cad</span><span style=\"background-color: #FFD8D8\"> ##dy</span><span style=\"background-color: #FFF0F0\"> rises</span><span style=\"background-color: #FFF0F0\"> from</span><span style=\"background-color: #FFD3D3\"> his</span><span style=\"background-color: #FFE3E3\"> humble</span><span style=\"background-color: #FFEAEA\"> background</span><span style=\"background-color: #FFC7C7\"> to</span><span style=\"background-color: #FFEDED\"> play</span><span style=\"background-color: #FFD6D6\"> against</span><span style=\"background-color: #FFEAEA\"> his</span><span style=\"background-color: #FFCCCC\"> br</span><span style=\"background-color: #FFB4B4\"> ##ist</span><span style=\"background-color: #FFECEC\"> ##ish</span><span style=\"background-color: #FFEAEA\"> idol</span><span style=\"background-color: #FFEFEF\"> in</span><span style=\"background-color: #FFE9E9\"> what</span><span style=\"background-color: #FFE9E9\"> was</span><span style=\"background-color: #FFDEDE\"> dubbed</span><span style=\"background-color: #FFCACA\"> as</span><span style=\"background-color: #FFF1F1\"> the</span><span style=\"background-color: #FFE8E8\"> greatest</span><span style=\"background-color: #FFE3E3\"> game</span><span style=\"background-color: #FFE3E3\"> ever</span><span style=\"background-color: #FFEEEE\"> played</span><span style=\"background-color: #FFEDED\"> .</span><span style=\"background-color: #FFE7E7\"> i</span><span style=\"background-color: #FFE8E8\"> m</span><span style=\"background-color: #FFAEAE\"> no</span><span style=\"background-color: #FFD0D0\"> fan</span><span style=\"background-color: #FFE8E8\"> of</span><span style=\"background-color: #FFE2E2\"> golf</span><span style=\"background-color: #FFF2F2\"> ,</span><span style=\"background-color: #FF0000\"> and</span><span style=\"background-color: #FFEDED\"> these</span><span style=\"background-color: #FFDADA\"> scrap</span><span style=\"background-color: #FFECEC\"> ##py</span><span style=\"background-color: #FFEBEB\"> under</span><span style=\"background-color: #FFF2F2\"> ##dog</span><span style=\"background-color: #FFEDED\"> sports</span><span style=\"background-color: #FFE8E8\"> flick</span><span style=\"background-color: #FFE7E7\"> ##s</span><span style=\"background-color: #FFF1F1\"> are</span><span style=\"background-color: #FFF4F4\"> a</span><span style=\"background-color: #FFE7E7\"> dime</span><span style=\"background-color: #FFF4F4\"> a</span><span style=\"background-color: #FFE1E1\"> dozen</span><span style=\"background-color: #FFD4D4\"> most</span><span style=\"background-color: #FFF1F1\"> recently</span><span style=\"background-color: #FFF1F1\"> done</span><span style=\"background-color: #FF7373\"> to</span><span style=\"background-color: #FFD5D5\"> grand</span><span style=\"background-color: #FFECEC\"> effect</span><span style=\"background-color: #FF7A7A\"> with</span><span style=\"background-color: #FFEFEF\"> miracle</span><span style=\"background-color: #FF6A6A\"> and</span><span style=\"background-color: #FFBEBE\"> cinderella</span><span style=\"background-color: #FFE2E2\"> man</span><span style=\"background-color: #FFF0F0\"> ,</span><span style=\"background-color: #FFDADA\"> but</span><span style=\"background-color: #FFE6E6\"> some</span><span style=\"background-color: #FFEEEE\"> how</span><span style=\"background-color: #FFD3D3\"> this</span><span style=\"background-color: #FFE5E5\"> film</span><span style=\"background-color: #FFF2F2\"> was</span><span style=\"background-color: #FFE7E7\"> en</span><span style=\"background-color: #FFEEEE\"> ##th</span><span style=\"background-color: #FFE7E7\"> ##ral</span><span style=\"background-color: #FFF4F4\"> ##ling</span><span style=\"background-color: #FF9D9D\"> all</span><span style=\"background-color: #FFF2F2\"> the</span><span style=\"background-color: #FFF6F6\"> same</span><span style=\"background-color: #FFF4F4\"> .</span><span style=\"background-color: #FFD8D8\"> br</span><span style=\"background-color: #FFDADA\"> br</span><span style=\"background-color: #FFF2F2\"> the</span><span style=\"background-color: #FFDADA\"> film</span><span style=\"background-color: #FFF3F3\"> starts</span><span style=\"background-color: #FFAAAA\"> with</span><span style=\"background-color: #FFEEEE\"> some</span><span style=\"background-color: #FFEDED\"> creative</span><span style=\"background-color: #FFEFEF\"> opening</span><span style=\"background-color: #FFEFEF\"> credits</span><span style=\"background-color: #FFD8D8\"> imagine</span><span style=\"background-color: #FFEFEF\"> a</span><span style=\"background-color: #FFA0A0\"> disney</span><span style=\"background-color: #FFE1E1\"> ##fied</span><span style=\"background-color: #FFA7A7\"> version</span><span style=\"background-color: #FFF3F3\"> of</span><span style=\"background-color: #FFF7F7\"> the</span><span style=\"background-color: #FFCECE\"> animated</span><span style=\"background-color: #FFE0E0\"> opening</span><span style=\"background-color: #FFF4F4\"> credits</span><span style=\"background-color: #FFF4F4\"> of</span><span style=\"background-color: #FFE6E6\"> hbo</span><span style=\"background-color: #FFF3F3\"> s</span><span style=\"background-color: #FFEFEF\"> carnival</span><span style=\"background-color: #FFF4F4\"> ##e</span><span style=\"background-color: #FF8484\"> and</span><span style=\"background-color: #FFB7B7\"> rome</span><span style=\"background-color: #FFF1F1\"> ,</span><span style=\"background-color: #FFE4E4\"> but</span><span style=\"background-color: #FFEAEA\"> lumber</span><span style=\"background-color: #FFE7E7\"> ##s</span><span style=\"background-color: #FFECEC\"> along</span><span style=\"background-color: #FFF3F3\"> slowly</span><span style=\"background-color: #FFE4E4\"> for</span><span style=\"background-color: #FFF1F1\"> its</span><span style=\"background-color: #FFF3F3\"> first</span><span style=\"background-color: #FFF2F2\"> by</span><span style=\"background-color: #FFF6F6\"> the</span><span style=\"background-color: #FFCFCF\"> numbers</span><span style=\"background-color: #FFD2D2\"> hour</span><span style=\"background-color: #FFE7E7\"> .</span><span style=\"background-color: #FFE7E7\"> once</span><span style=\"background-color: #FFF8F8\"> the</span><span style=\"background-color: #FFDDDD\"> action</span><span style=\"background-color: #FFE9E9\"> moves</span><span style=\"background-color: #FFC4C4\"> to</span><span style=\"background-color: #FFF1F1\"> the</span><span style=\"background-color: #FFE9E9\"> u</span><span style=\"background-color: #FFE5E5\"> .</span><span style=\"background-color: #FFF0F0\"> s</span><span style=\"background-color: #FFE9E9\"> .</span><span style=\"background-color: #FFD3D3\"> open</span><span style=\"background-color: #FFF6F6\"> things</span><span style=\"background-color: #FFE2E2\"> pick</span><span style=\"background-color: #FFE4E4\"> up</span><span style=\"background-color: #FFD6D6\"> very</span><span style=\"background-color: #FFB4B4\"> well</span><span style=\"background-color: #FFE8E8\"> .</span><span style=\"background-color: #FFECEC\"> paxton</span><span style=\"background-color: #FFD5D5\"> does</span><span style=\"background-color: #FFEDED\"> a</span><span style=\"background-color: #FFE3E3\"> nice</span><span style=\"background-color: #FFE7E7\"> job</span><span style=\"background-color: #FF7E7E\"> and</span><span style=\"background-color: #FFF3F3\"> shows</span><span style=\"background-color: #FFEAEA\"> a</span><span style=\"background-color: #FFEDED\"> kn</span><span style=\"background-color: #FFF0F0\"> ##ack</span><span style=\"background-color: #FFDCDC\"> for</span><span style=\"background-color: #FFF2F2\"> effective</span><span style=\"background-color: #FFDBDB\"> directorial</span><span style=\"background-color: #FFE1E1\"> flourish</span><span style=\"background-color: #FFE3E3\"> ##es</span><span style=\"background-color: #FFF2F2\"> i</span><span style=\"background-color: #FFE7E7\"> loved</span><span style=\"background-color: #FFF8F8\"> the</span><span style=\"background-color: #FFDEDE\"> rain</span><span style=\"background-color: #FFF0F0\"> soaked</span><span style=\"background-color: #FFE5E5\"> mont</span><span style=\"background-color: #FFF0F0\"> ##age</span><span style=\"background-color: #FFF6F6\"> of</span><span style=\"background-color: #FFF0F0\"> the</span><span style=\"background-color: #FFE9E9\"> action</span><span style=\"background-color: #FFE4E4\"> on</span><span style=\"background-color: #FFEAEA\"> day</span><span style=\"background-color: #FFCCCC\"> two</span><span style=\"background-color: #FFF0F0\"> of</span><span style=\"background-color: #FFF1F1\"> the</span><span style=\"background-color: #FFEFEF\"> open</span><span style=\"background-color: #FFEAEA\"> that</span><span style=\"background-color: #FFE6E6\"> prop</span><span style=\"background-color: #FFE8E8\"> ##el</span><span style=\"background-color: #FFF3F3\"> the</span><span style=\"background-color: #FFE2E2\"> plot</span><span style=\"background-color: #FFE1E1\"> further</span><span style=\"background-color: #FFBFBF\"> or</span><span style=\"background-color: #FFE0E0\"> add</span><span style=\"background-color: #FFF2F2\"> some</span><span style=\"background-color: #FFE5E5\"> unexpected</span><span style=\"background-color: #FFEDED\"> psychological</span><span style=\"background-color: #FFEEEE\"> depth</span><span style=\"background-color: #FF8585\"> to</span><span style=\"background-color: #FFF7F7\"> the</span><span style=\"background-color: #FFF6F6\"> proceedings</span><span style=\"background-color: #FFE3E3\"> .</span><span style=\"background-color: #FFE5E5\"> there</span><span style=\"background-color: #FFEEEE\"> s</span><span style=\"background-color: #FFEDED\"> some</span><span style=\"background-color: #FFEEEE\"> compelling</span><span style=\"background-color: #FFE2E2\"> character</span><span style=\"background-color: #FFEBEB\"> development</span><span style=\"background-color: #FFF4F4\"> when</span><span style=\"background-color: #FFF5F5\"> the</span><span style=\"background-color: #FFEAEA\"> british</span><span style=\"background-color: #FFE6E6\"> harry</span><span style=\"background-color: #FFF5F5\"> var</span><span style=\"background-color: #FFF3F3\"> ##don</span><span style=\"background-color: #FF9393\"> is</span><span style=\"background-color: #FFECEC\"> haunted</span><span style=\"background-color: #FFBFBF\"> by</span><span style=\"background-color: #FFE8E8\"> images</span><span style=\"background-color: #FFF5F5\"> of</span><span style=\"background-color: #FFF0F0\"> the</span><span style=\"background-color: #FFE3E3\"> ari</span><span style=\"background-color: #FFE1E1\"> ##sto</span><span style=\"background-color: #FFE2E2\"> ##crats</span><span style=\"background-color: #FFF5F5\"> in</span><span style=\"background-color: #FFEDED\"> black</span><span style=\"background-color: #FFE9E9\"> suits</span><span style=\"background-color: #FF2C2C\"> and</span><span style=\"background-color: #FFEEEE\"> top</span><span style=\"background-color: #FFF7F7\"> hats</span><span style=\"background-color: #FFE9E9\"> who</span><span style=\"background-color: #FFEAEA\"> destroyed</span><span style=\"background-color: #FFE9E9\"> his</span><span style=\"background-color: #FFCDCD\"> family</span><span style=\"background-color: #FFF0F0\"> cottage</span><span style=\"background-color: #FFE8E8\"> as</span><span style=\"background-color: #FFF3F3\"> a</span><span style=\"background-color: #FFE3E3\"> child</span><span style=\"background-color: #FFABAB\"> to</span><span style=\"background-color: #FFECEC\"> make</span><span style=\"background-color: #FFEAEA\"> way</span><span style=\"background-color: #FFE7E7\"> for</span><span style=\"background-color: #FFF4F4\"> a</span><span style=\"background-color: #FFE0E0\"> golf</span><br><br>"
            ]
          },
          "metadata": {},
          "execution_count": 82
        }
      ]
    },
    {
      "cell_type": "markdown",
      "source": [
        "以上"
      ],
      "metadata": {
        "id": "2M93DKt1tEqK"
      }
    }
  ]
}